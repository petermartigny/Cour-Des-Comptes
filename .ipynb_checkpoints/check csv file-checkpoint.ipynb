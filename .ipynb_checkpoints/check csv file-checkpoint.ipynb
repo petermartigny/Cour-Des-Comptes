{
 "cells": [
  {
   "cell_type": "code",
   "execution_count": 1,
   "metadata": {
    "collapsed": false
   },
   "outputs": [
    {
     "name": "stdout",
     "output_type": "stream",
     "text": [
      "Populating the interactive namespace from numpy and matplotlib\n"
     ]
    }
   ],
   "source": [
    "%pylab inline"
   ]
  },
  {
   "cell_type": "code",
   "execution_count": 2,
   "metadata": {
    "collapsed": true
   },
   "outputs": [],
   "source": [
    "import pandas as pd"
   ]
  },
  {
   "cell_type": "code",
   "execution_count": 21,
   "metadata": {
    "collapsed": false
   },
   "outputs": [],
   "source": [
    "df = pd.read_csv('Rapports publics de la Cour et mВtadonnВes - 2015/export.csv', sep = '\\t')"
   ]
  },
  {
   "cell_type": "code",
   "execution_count": 28,
   "metadata": {
    "collapsed": false,
    "scrolled": true
   },
   "outputs": [
    {
     "data": {
      "text/plain": [
       "array([nan,\n",
       "       'Pr\\xe9sidente de la commission des finances du S\\xe9nat/Rapporteur g\\xe9n\\xe9ral de la commission des finances du S\\xe9nat',\n",
       "       'Pr\\xe9sidente de la commission des finances du S\\xe9nat',\n",
       "       'Premier ministre', 'Ministre de la d\\xe9fense',\n",
       "       'Ministre de la justice, Garde des sceaux/Ministre des finances et des comptes publics/Ministre de la ville, de la jeunesse et des sports',\n",
       "       'Ministre de la justice, garde des sceaux/Ministre de la justice, Garde des Sceaux/',\n",
       "       'Ministre des affaires sociales, de la sant\\xe9 et des droits des femmes',\n",
       "       'Ministre des finances et des comptes publics',\n",
       "       'Garde des Sceaux, ministre de la justice/Ministre des finances et des comptes publics/Directeur g\\xe9n\\xe9ral de la Caisse des d\\xe9p\\xf4ts et consignations/Pr\\xe9sident de la Commission de surveillance de la Caisse des d\\xe9p\\xf4ts et consignations'], dtype=object)"
      ]
     },
     "execution_count": 28,
     "metadata": {},
     "output_type": "execute_result"
    }
   ],
   "source": [
    "df.Destinataires.unique()"
   ]
  },
  {
   "cell_type": "code",
   "execution_count": 8,
   "metadata": {
    "collapsed": false
   },
   "outputs": [],
   "source": [
    "df = pd.read_csv('2016_05_27-28_-_Liste_des_organismes.csv', sep = ';')"
   ]
  },
  {
   "cell_type": "code",
   "execution_count": 12,
   "metadata": {
    "collapsed": false
   },
   "outputs": [
    {
     "data": {
      "text/plain": [
       "array(['CNAMTS', 'INJSB', 'INJSP', 'INJA', 'INJSM', 'INJCC', 'OFII-ANAEM',\n",
       "       'INSERM', 'ENIM', 'ONAC', 'CSSTM', 'INED', 'ANACT', 'ACOSS',\n",
       "       'CNAVTS', 'CNMSS', 'EPNAK', 'CNAF', 'ENVT', 'INC', 'ONF', 'ANCV',\n",
       "       'IRSTEA', 'ODEADOM', 'ENGEES', 'ENFA', 'CEZ', 'ADOMA', 'CEE', 'FS',\n",
       "       'ENITAB', 'DRFiP102', 'DRFiP101', 'DRFiP103', 'DRFiP104', nan,\n",
       "       'TG161', 'DDFiP105', 'RGF PARIS', 'UGAP', 'DDFiP01', 'DDFiP02',\n",
       "       'DDFiP03', 'DDFiP04', 'DDFiP05', 'DDFiP06', 'DDFiP07', 'DDFiP08',\n",
       "       'DDFiP09', 'DDFiP10', 'DRFiP11', 'DDFiP12', 'DRFiP14', 'DDFiP15',\n",
       "       'DDFiP16', 'DDFiP17', 'DDFiP18', 'DDFiP19', 'DDFiP20', 'DDFiP96',\n",
       "       'DRFiP21', 'DDFiP22', 'DDFiP23', 'DDFiP24', 'DRFiP25', 'DDFiP26',\n",
       "       'DDFiP28', 'DDFiP29', 'DRFiP31', 'DDFiP32', 'DRFiP33', 'DRFiP34',\n",
       "       'DDFiP27', 'DRFiP69', 'DDFiP70', 'DDFiP71', 'DDFiP72', 'DDFiP73',\n",
       "       'DDFiP74', 'DRFiP76', 'DDFiP77', 'DDFiP78', 'DDFiP79', 'DRFiP80',\n",
       "       'DDFiP81', 'DDFiP82', 'DDFiP83', 'DDFiP84', 'DDFiP85', 'DDFiP86',\n",
       "       'DRFiP87', 'DDFiP88', 'DDFiP91', 'DDFiP93', 'DDFiP94', 'DDFiP95',\n",
       "       'DRFiP13', 'DDFiP30', 'DDFiP40', 'DDFiP53', 'DDFiP92', 'DDFiP35',\n",
       "       'DDFiP36', 'DRFiP37', 'DDFiP38', 'DDFiP39', 'DDFiP41', 'DDFiP42',\n",
       "       'DDFiP43', 'DRFiP44', 'DRFiP45', 'DDFiP46', 'DDFiP47', 'DDFiP48',\n",
       "       'DDFiP49', 'DDFiP50', 'DRFiP51', 'DDFiP52', 'DDFiP54', 'DDFiP55',\n",
       "       'DDFiP56', 'DDFiP58', 'DRFiP59', 'DDFiP60', 'DDFiP61', 'DDFiP62',\n",
       "       'DDFiP65', 'DDFiP66', 'DDFiP90', 'GPMB', 'PAS', 'CGMF', 'RATP',\n",
       "       'CNA', 'GPMR', 'GPMH', 'GPMM', 'GPMN', 'GPMG (ex PAG)', 'SNCF',\n",
       "       'AdP', 'CNBA', 'ENAC', 'ACSIA', 'ONERA', 'ECONARM', 'ACMAR',\n",
       "       'MUSMAR', 'MUSARM', 'EPP', 'PAP', 'IFREMER', 'SOGEPA', 'SFTRF',\n",
       "       'ATMB', 'DRFiP57', 'DRFiP63', 'DDFiP64', 'DRFiP67', 'DDFiP68',\n",
       "       'RPRDP', 'ONCFS', 'AESN', 'AEAG', 'AERM', 'AELB', 'AEAP', 'AERMC',\n",
       "       'PNE', 'PNPO', 'PNPC', 'EPNV', 'PNM', 'PNC', 'CNELRL', 'ANAH',\n",
       "       'BdF', 'IGN', 'CNFPT', 'CCR', 'CEA', 'EDF', 'BRGM', 'ENM', 'RIEP',\n",
       "       'CNES', 'INPI', 'LNME', 'JO', 'UNIVERSITE', 'CNRS', 'LADOM',\n",
       "       'ONISEP', 'ENIT', 'ENISE', 'ENIB', 'ECL', 'INSA', 'ENS', 'CROUS',\n",
       "       'CEREQ', 'CNDP/CRDP', 'CIEP', 'ASOM', 'COFRANCE', 'ENCH', 'INJEP',\n",
       "       'INSEP', 'BNUS', 'UHB', 'ENSCR', 'ENVSN', 'ENSCL', 'IEP', 'IPG',\n",
       "       'ENSCM', 'CNED', 'IFAO', 'EFEO', 'EFR', 'ECV', 'TNCHA', 'RMN',\n",
       "       'MJJH', 'MGM', 'MR', 'BPI', 'CNAC', 'AFR', 'CNAM', 'EHESS', 'EPHE',\n",
       "       'ENSCI', 'ECAM', 'ENSSIB', 'ENSAIT', 'CIRAD', 'ENSAD', 'ENSBA',\n",
       "       'IRA', 'ENA', 'CNSMP', 'OUCFA', 'OFPRA', 'CNAP', 'CNC', 'MNHN',\n",
       "       'OP', 'IFDC', 'IF', 'CNSML', 'TNS', 'TNO', 'CNSAD', 'TNCOL',\n",
       "       'ENSCP', 'UTC', 'INP', 'ENSMM', 'ENSIC', 'ENSCCF', 'UNS', 'CSTB',\n",
       "       'INRIA', 'ISMEP', 'ENSP', 'CDP', 'OIER-SUACI', 'ANIFOM', 'ENVA',\n",
       "       'APCA', 'INRA', 'INAO', 'TSA', 'GIAT', 'CDC', 'GPMD', 'SUACI',\n",
       "       'PNG', 'RADIO-FRANCE', 'INA', 'ENSMSE', 'ENSMP', 'ENSMA - ENSTIM',\n",
       "       'ENSMD - ENSTIM', 'ENSMN - ENSTIM', 'POSTE', 'CEPSO', 'ENSC',\n",
       "       'SIDAM', 'CGLLS', 'EFAA', 'CNOUS', 'SNATEM', 'VNF', 'BACEA', 'CA',\n",
       "       'CU', 'TIWF', 'CS', 'ADEME', 'ONACPOND', 'TAAF', 'ECN', 'INERIS',\n",
       "       'TGCST', 'ENSMAC - ENSTIM', 'IEOM', 'IEDOM', 'INSAROUEN', 'ONP',\n",
       "       'EPML', 'EPCM', 'EPPGHV', 'ENSEA', 'FDJ', 'IPEV', 'AFD', 'INALCO',\n",
       "       'AEFE', 'INI', 'MUSAE', 'BNF', 'MLIJ', 'CNL', 'GIP INTER',\n",
       "       'RENATER', 'OFDT', 'ECOFOR', 'HISSA', 'MF', 'CDAD', 'ENSLL',\n",
       "       'ENSATT', 'INTS', 'ENSTA', 'ABIO', 'CF', 'ENSAM', 'ENPC', 'IGESA',\n",
       "       'EPMDNV', 'IN', 'GPUVA', 'IAEP', 'FSV', 'C2RP', 'IFRU', 'ATEN',\n",
       "       'EPSNF', 'ANDRA', 'CDAD / CADJ', 'IFCASS', 'CADES', 'EPFR',\n",
       "       'GET IF IMT', 'INFOMA', 'ANFR', 'EPAURIF', 'EPARECA', 'IFM',\n",
       "       'IHEDN', 'CAG', 'CAM', 'OPPIC EMOC', 'CND', 'FEMIS', 'FCIP / CEFCM',\n",
       "       'IFJT', 'IFC', 'ECLOUVRE', 'SNCFR', 'IVS', 'CMN', 'IRD', 'A2E2F',\n",
       "       'OREF', 'CRRPV', 'EFS', 'ANLCI', 'FNPCA', 'MQB', 'EPMD', 'FFPCCURM',\n",
       "       'GEODERIS ', 'CIERA', 'LFB', 'CNFM', 'A50PGG', 'FCIP', 'A50PGM',\n",
       "       'CICRP', 'FT', ' INSIC', 'CRPV', 'GREF', 'ENAP', 'FORINVAL',\n",
       "       'ECPAD', 'GIPAL', 'FCIP / FORMAVIE', 'FCIP / ACOR', 'FTLV',\n",
       "       'AGPPAU\\n(anciennement EPAU)', 'FCIP / EXPERIENCE', 'INHA',\n",
       "       'ADETEF', 'AMUE', 'IRSN', 'GIPSA', 'UNF3S', 'GAIA', 'CIFAD',\n",
       "       'BUCS / BULAC', 'AMOTMJ', 'ATIH', 'FCIP / FIPAG', 'INRAP', 'CNCVJ',\n",
       "       'INPES', 'PRAO', 'BUSINESSFRANCE', 'UTT', 'ENSA', 'AMF', 'UTBM',\n",
       "       'FVI', 'CNPF', 'ENSAC', 'EPAVA', 'DCNS', 'INTERREG', 'ASTWF', 'FRR',\n",
       "       'EGIM', 'ACMISA', 'CiAP', 'INCA', 'EN3S', 'MNAA', 'EPPJP', 'EPMO',\n",
       "       'ENSPH', 'INTEFP', 'FCA', 'INHESJ', 'ENSOSP', 'SIGUY', 'ANRU',\n",
       "       'CNSA', 'INSFREJHEA', 'REUSEDUC', 'CERDD', 'FIVA', 'ONIAM', 'MNS',\n",
       "       'HAS', 'CBCM', 'INPS', 'ANGDM', 'TNOC', 'DNCH', 'BPI-OSEO', 'ERAFP',\n",
       "       'EPSF', 'AFA', 'ENSIIE', 'ACSE', 'PNF', 'PRCNB', 'CPAGE ', 'CYROI',\n",
       "       'CTLES', 'CNHI', 'CIESSA', 'AGROPARISTECH', 'CSA', 'AFLD', 'CNDS',\n",
       "       'ENTPE', 'AAMP', 'ACATECH', 'ACABA', 'ACAS', 'ACAIBL', 'ACASMP',\n",
       "       'AFITF', 'EPIDE', 'MDP', 'PNAG', 'PNARE', 'IHEST', 'UFTMP', 'UEB',\n",
       "       'UPE', 'UB', 'UL', 'PARIS TECH', 'FIPHFP', 'GCSMS', 'ONEMA',\n",
       "       'EPRUS', 'ANR', 'ISAE', 'MNE', 'ADECIA', 'ANESM', 'SOVAFIM',\n",
       "       'EPNFRLP', 'CPIDF', 'EPAORSA', 'ANTS', 'SHOM', 'GIRTEC',\n",
       "       'AGROCAMPUS OUEST', 'CSDOM', 'MEVM', 'CNGPHP', 'GHEF', 'CREFOR',\n",
       "       'CAE', 'UNAL', 'US', 'EPELFI', 'ULNF', 'SPPE', 'HELPAM',\n",
       "       'AGROSUPDIJON', 'CNCSS', 'EPCF', 'ASP', 'FranceAgriMer', 'H3C',\n",
       "       'UG', 'UMSF', 'CNAASAE', 'LPC', 'IFPEN', 'COFRES SAS', 'ENSM',\n",
       "       'ARAF', 'ENSL', 'EPSC', 'VETAGROSUP', 'ONIRIS', 'EPFPMA', 'AMM',\n",
       "       'ABM', 'ATB', 'ACA', 'ADL', 'PPDCSI', 'SIGUA', 'EHESP', 'ARS',\n",
       "       'MNP', 'SGP', 'USPC', 'CVLU', 'IFCE', 'HADOPI', 'ANSES', 'EPADESA',\n",
       "       'ASIP', 'CRPGE ', 'UNJF', 'EPAMSA', 'ASC', 'IFA', 'OIR-ALLIANCE',\n",
       "       'RAM', 'PNECB', 'OIR SUAMME', 'OIER - EIE 25-39-90', 'HESAM',\n",
       "       'GENES', 'IFSTTAR', 'EPAPF', 'EPABE', 'ANTAI', 'SOFIRED', 'AGRASC',\n",
       "       'HPSM', 'TEPSCAN', 'GCS BLANCHISSERIE', 'GCS UTIL', 'GCS', 'ANAP',\n",
       "       'GE', 'EPMP', 'NU', 'CUFR', 'SAE Courcouronnes', 'AEF', 'RAI', 'FH',\n",
       "       'UAM', 'RUQSE', 'BIPV', 'UPGO', 'FGTV', 'CAB', 'PRRC', 'TSPRHU',\n",
       "       'RRAMUHN', 'FHV', 'MERRI', 'NHM', 'PL', 'CGCSL', 'ISM', 'CNAPS',\n",
       "       'CC', 'GBA', 'PNCAL', 'CIDF', 'UFECAP', 'MCPGM', 'BIHGC', 'FEPH',\n",
       "       'PS', 'DRESG', 'CRFMLT', 'ASICO', 'CSF', 'HOURAA', 'SIE', 'CNJF',\n",
       "       'SINAPS', 'LA TRACE', 'PSL', 'IPB', 'UPL', 'OGDPC', 'NOT', 'CRSI',\n",
       "       'CNJMMHA', 'MAIALF', 'AVITEM', 'SAMAC', 'CAMPUS', 'GPMDLR',\n",
       "       'GPMDLG', 'GPMDLM', 'MUSF', 'MTLSF', 'ALC-LH', 'PHARMA', 'I36',\n",
       "       'BST', 'GCMS', 'EPPS', 'GCSAS', 'EA', 'CPP', 'OIER', 'OCA', 'GCSHU',\n",
       "       'GCS HS', 'GCS YS', 'GCS HA', 'IGLM', 'MUCEM',\n",
       "       'CUFR JF CHAMPOLLION', 'EPAB', 'ANSM', 'INSA VAL DE LOIRE',\n",
       "       'FDPITMA', 'ABES', 'CIATDB', 'CIASMB', 'CARA', 'OGAES', 'HUA',\n",
       "       'LIHBMLG', 'PC', 'GCSIA', 'BIJ', 'LMTER', 'SIC', 'SIEL', 'SIA',\n",
       "       'CAPPS Bretagne', 'BHB', 'GITTA', 'CEREMA', 'LPM', 'PGAM', 'RFSM',\n",
       "       'PP', 'PPLE', 'CCMP', 'AR', 'EPIH', 'IADT', 'TELEGERIA', 'ESITPA',\n",
       "       \"REPER'AGE\", 'AF', 'SNE', 'GCS ESD', 'IUCT', 'GCS DS',\n",
       "       'GCS COOPSIF', 'BIH', 'UM', 'GCS IRM', 'RPE', 'GSMPMGP', 'MAV',\n",
       "       'GCSPUI', 'GCS Kemberg', 'GCS IFCS-TL', 'GIBA', 'GCSRVM', 'HACOM',\n",
       "       'GCSIVAL', 'ADRAF', 'SILPC', 'IAVFF', 'ANCOLS', 'CAPAM', 'GCSB',\n",
       "       'UBFC', 'UCA', 'SU', 'UPS', 'IRM ', 'CBB', 'CHUFF', 'CIA', 'IFPVPS',\n",
       "       'PTEP', 'AFETI', 'UCLV', 'ACM'], dtype=object)"
      ]
     },
     "execution_count": 12,
     "metadata": {},
     "output_type": "execute_result"
    }
   ],
   "source": [
    "(df.Sigle.unique())"
   ]
  },
  {
   "cell_type": "code",
   "execution_count": null,
   "metadata": {
    "collapsed": true
   },
   "outputs": [],
   "source": []
  }
 ],
 "metadata": {
  "kernelspec": {
   "display_name": "Python 2",
   "language": "python",
   "name": "python2"
  },
  "language_info": {
   "codemirror_mode": {
    "name": "ipython",
    "version": 2
   },
   "file_extension": ".py",
   "mimetype": "text/x-python",
   "name": "python",
   "nbconvert_exporter": "python",
   "pygments_lexer": "ipython2",
   "version": "2.7.11+"
  }
 },
 "nbformat": 4,
 "nbformat_minor": 0
}

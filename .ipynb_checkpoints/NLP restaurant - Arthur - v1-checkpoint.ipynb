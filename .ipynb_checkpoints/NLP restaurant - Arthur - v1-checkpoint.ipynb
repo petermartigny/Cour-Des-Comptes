{
 "cells": [
  {
   "cell_type": "markdown",
   "metadata": {},
   "source": [
    "# Détection d'intoxication alimentaire"
   ]
  },
  {
   "cell_type": "markdown",
   "metadata": {},
   "source": [
    "Description de l'étude menée à New York: http://www.cdc.gov/mmwr/preview/mmwrhtml/mm6320a1.htm"
   ]
  },
  {
   "cell_type": "markdown",
   "metadata": {},
   "source": [
    "Un article de Stanford pour détecter les épidémies via les messages twitter: http://snap.stanford.edu/soma2010/papers/soma2010_16.pdf"
   ]
  },
  {
   "cell_type": "code",
   "execution_count": 1,
   "metadata": {
    "collapsed": false
   },
   "outputs": [
    {
     "name": "stdout",
     "output_type": "stream",
     "text": [
      "Populating the interactive namespace from numpy and matplotlib\n"
     ]
    }
   ],
   "source": [
    "%pylab inline"
   ]
  },
  {
   "cell_type": "code",
   "execution_count": 2,
   "metadata": {
    "collapsed": true
   },
   "outputs": [],
   "source": [
    "import warnings\n",
    "warnings.filterwarnings('ignore')"
   ]
  },
  {
   "cell_type": "code",
   "execution_count": 3,
   "metadata": {
    "collapsed": false
   },
   "outputs": [],
   "source": [
    "import pandas\n",
    "from nltk.tokenize import word_tokenize\n",
    "from nltk.tokenize import MWETokenizer\n",
    "from nltk.tokenize import RegexpTokenizer\n",
    "import nltk.data\n",
    "from nltk import FreqDist\n",
    "from nltk.sentiment import sentiment_analyzer\n",
    "from unidecode import unidecode\n",
    "from nltk.corpus import stopwords\n",
    "from nltk import FreqDist\n",
    "from nltk.stem import SnowballStemmer\n",
    "import math\n",
    "import word2vec\n",
    "import unicodedata\n",
    "import csv\n",
    "import numpy as np\n",
    "import matplotlib.pyplot as plt"
   ]
  },
  {
   "cell_type": "code",
   "execution_count": 4,
   "metadata": {
    "collapsed": true
   },
   "outputs": [],
   "source": [
    "stopwords = stopwords.words('french') # les mots les plus courants sont ignorés\n",
    "stopwords = stopwords + [\"les\", \"ils\", \"elles\", \"h\", \"a\", 'ça', 'les']"
   ]
  },
  {
   "cell_type": "markdown",
   "metadata": {},
   "source": [
    "On importe notre base de données."
   ]
  },
  {
   "cell_type": "code",
   "execution_count": 5,
   "metadata": {
    "collapsed": false
   },
   "outputs": [
    {
     "name": "stdout",
     "output_type": "stream",
     "text": [
      "(85897, 10)\n"
     ]
    },
    {
     "data": {
      "text/html": [
       "<div>\n",
       "<table border=\"1\" class=\"dataframe\">\n",
       "  <thead>\n",
       "    <tr style=\"text-align: right;\">\n",
       "      <th></th>\n",
       "      <th>Adresse</th>\n",
       "      <th>Code Postal</th>\n",
       "      <th>Commentaire</th>\n",
       "      <th>Date du commentaire</th>\n",
       "      <th>Note</th>\n",
       "      <th>Origine</th>\n",
       "      <th>Resto</th>\n",
       "      <th>Ville</th>\n",
       "      <th>Id</th>\n",
       "      <th>Date</th>\n",
       "    </tr>\n",
       "  </thead>\n",
       "  <tbody>\n",
       "    <tr>\n",
       "      <th>0</th>\n",
       "      <td>63 AV MOZART</td>\n",
       "      <td>75016</td>\n",
       "      <td>Un accueil hyper chaleureux! Les gérants sont ...</td>\n",
       "      <td>30/04/2016</td>\n",
       "      <td>5</td>\n",
       "      <td>TripAdvisor</td>\n",
       "      <td>macis cafe</td>\n",
       "      <td>Paris</td>\n",
       "      <td>0</td>\n",
       "      <td>20160430</td>\n",
       "    </tr>\n",
       "    <tr>\n",
       "      <th>1</th>\n",
       "      <td>63 AV MOZART</td>\n",
       "      <td>75016</td>\n",
       "      <td>Nous cherchions à déjeuner, seul bémol, l'heur...</td>\n",
       "      <td>21/04/2016</td>\n",
       "      <td>4</td>\n",
       "      <td>TripAdvisor</td>\n",
       "      <td>macis cafe</td>\n",
       "      <td>Paris</td>\n",
       "      <td>1</td>\n",
       "      <td>20160421</td>\n",
       "    </tr>\n",
       "    <tr>\n",
       "      <th>2</th>\n",
       "      <td>63 AV MOZART</td>\n",
       "      <td>75016</td>\n",
       "      <td>Des plats réalisés à partir de produits frais ...</td>\n",
       "      <td>10/02/2016</td>\n",
       "      <td>3</td>\n",
       "      <td>TripAdvisor</td>\n",
       "      <td>macis cafe</td>\n",
       "      <td>Paris</td>\n",
       "      <td>2</td>\n",
       "      <td>20160210</td>\n",
       "    </tr>\n",
       "    <tr>\n",
       "      <th>3</th>\n",
       "      <td>90 Rue des Orteaux</td>\n",
       "      <td>75020</td>\n",
       "      <td>Restaurant Sushi plutot correct dans l ensembl...</td>\n",
       "      <td>27/02/2016</td>\n",
       "      <td>3</td>\n",
       "      <td>TripAdvisor</td>\n",
       "      <td>sushi tomi</td>\n",
       "      <td>Paris</td>\n",
       "      <td>3</td>\n",
       "      <td>20160227</td>\n",
       "    </tr>\n",
       "    <tr>\n",
       "      <th>4</th>\n",
       "      <td>90 Rue des Orteaux</td>\n",
       "      <td>75020</td>\n",
       "      <td>Déçue de ma dernière visite car impossible de ...</td>\n",
       "      <td>17/01/2016</td>\n",
       "      <td>3</td>\n",
       "      <td>TripAdvisor</td>\n",
       "      <td>sushi tomi</td>\n",
       "      <td>Paris</td>\n",
       "      <td>4</td>\n",
       "      <td>20160117</td>\n",
       "    </tr>\n",
       "  </tbody>\n",
       "</table>\n",
       "</div>"
      ],
      "text/plain": [
       "              Adresse Code Postal  \\\n",
       "0        63 AV MOZART       75016   \n",
       "1        63 AV MOZART       75016   \n",
       "2        63 AV MOZART       75016   \n",
       "3  90 Rue des Orteaux       75020   \n",
       "4  90 Rue des Orteaux       75020   \n",
       "\n",
       "                                         Commentaire Date du commentaire  \\\n",
       "0  Un accueil hyper chaleureux! Les gérants sont ...          30/04/2016   \n",
       "1  Nous cherchions à déjeuner, seul bémol, l'heur...          21/04/2016   \n",
       "2  Des plats réalisés à partir de produits frais ...          10/02/2016   \n",
       "3  Restaurant Sushi plutot correct dans l ensembl...          27/02/2016   \n",
       "4  Déçue de ma dernière visite car impossible de ...          17/01/2016   \n",
       "\n",
       "   Note      Origine       Resto  Ville  Id      Date  \n",
       "0     5  TripAdvisor  macis cafe  Paris   0  20160430  \n",
       "1     4  TripAdvisor  macis cafe  Paris   1  20160421  \n",
       "2     3  TripAdvisor  macis cafe  Paris   2  20160210  \n",
       "3     3  TripAdvisor  sushi tomi  Paris   3  20160227  \n",
       "4     3  TripAdvisor  sushi tomi  Paris   4  20160117  "
      ]
     },
     "execution_count": 5,
     "metadata": {},
     "output_type": "execute_result"
    }
   ],
   "source": [
    "df = pandas.read_csv(\"base_DFG.csv\", encoding = \"utf-8\")\n",
    "print (df.shape)\n",
    "df.head()"
   ]
  },
  {
   "cell_type": "markdown",
   "metadata": {},
   "source": [
    "# NLP"
   ]
  },
  {
   "cell_type": "markdown",
   "metadata": {},
   "source": [
    "TO DO LIST:\n",
    "- comparer les résultats avec le stem\n",
    "- comparer des résultats en modifiant le critère de sélection des restaurants (mots clés, note d'hygiène)\n",
    "- améliorer la sélection des mots des commentaires notés pour améliorer la pondération des mots et donc la notation des commentaires\n",
    "- implémenter un algorithme de classification avec les deux notes moyennes et leur variance\n",
    "- faire un nuage de point à chacune de nos étapes de sélection (liste de mots discriminant et score)\n",
    "- choisir la meilleure méthode de sélection et récupérer l'adresse des restaurants concernés pour les représenter sur une carte"
   ]
  },
  {
   "cell_type": "markdown",
   "metadata": {},
   "source": [
    "# Premier filtre de commentaires par mots clés"
   ]
  },
  {
   "cell_type": "markdown",
   "metadata": {},
   "source": [
    "On crée une fonction pour tester la présence de mots clés dans un commentaire."
   ]
  },
  {
   "cell_type": "code",
   "execution_count": 6,
   "metadata": {
    "collapsed": true
   },
   "outputs": [],
   "source": [
    "def mot_included(commentaire, mots):\n",
    "    commentaire = unicodedata.normalize('NFKD', commentaire).encode('ASCII', 'ignore').decode('ASCII')        \n",
    "    for mot in mots:\n",
    "        if mot in commentaire:\n",
    "            return True\n",
    "    return False"
   ]
  },
  {
   "cell_type": "code",
   "execution_count": 7,
   "metadata": {
    "collapsed": true
   },
   "outputs": [],
   "source": [
    "mots_sales = [\"indisposé\", \"malade\",'intoxication','infection','parasite','virus','maux','fatigue','fièvre','vomi','diarrhée','indigestion',\n",
    "              'nausée','sale','hygiène','vénéneux','dégueulasse','caca','chiasse','infame','douteux','barbouille',\n",
    "              'crasse','honteux','suspect','repugnant','cracra','degoutant','souillé','louche','mauvaise','propre','colique',\n",
    "             'dysenterie','débacle','pourrie','odeur', \"infecte\", \"qualité\", \"déception\", \"désastre\", \"horrible\", \"honteux\", \"degueux\", \"important\"]\n",
    "stemmer = SnowballStemmer('french')\n",
    "mots_sales = [unicodedata.normalize('NFKD', i).encode('ASCII', 'ignore').decode('ASCII') for i in mots_sales]\n",
    "mots_sales_stem = [stemmer.stem(i) for i in mots_sales]\n",
    "mots_sales_stem = [unicodedata.normalize('NFKD', i).encode('ASCII', 'ignore').decode('ASCII') for i in mots_sales_stem]"
   ]
  },
  {
   "cell_type": "markdown",
   "metadata": {},
   "source": [
    "On récupère les commentaires concernés."
   ]
  },
  {
   "cell_type": "code",
   "execution_count": 21,
   "metadata": {
    "collapsed": false
   },
   "outputs": [
    {
     "name": "stdout",
     "output_type": "stream",
     "text": [
      "(5227, 11)\n"
     ]
    },
    {
     "data": {
      "text/html": [
       "<div>\n",
       "<table border=\"1\" class=\"dataframe\">\n",
       "  <thead>\n",
       "    <tr style=\"text-align: right;\">\n",
       "      <th></th>\n",
       "      <th>Adresse</th>\n",
       "      <th>Code Postal</th>\n",
       "      <th>Commentaire</th>\n",
       "      <th>Date du commentaire</th>\n",
       "      <th>Note</th>\n",
       "      <th>Origine</th>\n",
       "      <th>Resto</th>\n",
       "      <th>Ville</th>\n",
       "      <th>Id</th>\n",
       "      <th>Date</th>\n",
       "      <th>Sale</th>\n",
       "    </tr>\n",
       "  </thead>\n",
       "  <tbody>\n",
       "    <tr>\n",
       "      <th>0</th>\n",
       "      <td>119, Rue Reuilly</td>\n",
       "      <td>75012</td>\n",
       "      <td>Vendredi soir et pas un plat typique du nord ....</td>\n",
       "      <td>18/03/2016</td>\n",
       "      <td>1</td>\n",
       "      <td>TripAdvisor</td>\n",
       "      <td>estaminet jenlain</td>\n",
       "      <td>Paris</td>\n",
       "      <td>7</td>\n",
       "      <td>20160318</td>\n",
       "      <td>True</td>\n",
       "    </tr>\n",
       "    <tr>\n",
       "      <th>1</th>\n",
       "      <td>54 Rue Mazarine</td>\n",
       "      <td>75006</td>\n",
       "      <td>Ce dimanche matin passé , ayant entendu parler...</td>\n",
       "      <td>06/04/2016</td>\n",
       "      <td>2</td>\n",
       "      <td>TripAdvisor</td>\n",
       "      <td>gout de brioche</td>\n",
       "      <td>Paris</td>\n",
       "      <td>20</td>\n",
       "      <td>20160406</td>\n",
       "      <td>True</td>\n",
       "    </tr>\n",
       "    <tr>\n",
       "      <th>2</th>\n",
       "      <td>31 rue Bezout</td>\n",
       "      <td>75014</td>\n",
       "      <td>Ce qui fut un bon bistrot de quartier est deve...</td>\n",
       "      <td>30/01/2016</td>\n",
       "      <td>2</td>\n",
       "      <td>TripAdvisor</td>\n",
       "      <td>la table de bezout</td>\n",
       "      <td>Paris</td>\n",
       "      <td>24</td>\n",
       "      <td>20160130</td>\n",
       "      <td>True</td>\n",
       "    </tr>\n",
       "    <tr>\n",
       "      <th>3</th>\n",
       "      <td>19 Rue Lepic</td>\n",
       "      <td>75018</td>\n",
       "      <td>Je commande régulièrement depuis 4 ans dans ce...</td>\n",
       "      <td>25/04/2016</td>\n",
       "      <td>2</td>\n",
       "      <td>TripAdvisor</td>\n",
       "      <td>sushi shop</td>\n",
       "      <td>Paris</td>\n",
       "      <td>26</td>\n",
       "      <td>20160425</td>\n",
       "      <td>True</td>\n",
       "    </tr>\n",
       "    <tr>\n",
       "      <th>4</th>\n",
       "      <td>2 Rue Linois</td>\n",
       "      <td>75015</td>\n",
       "      <td>Cet Etablissement Marks &amp; Spencer à tous les m...</td>\n",
       "      <td>18/04/2016</td>\n",
       "      <td>2</td>\n",
       "      <td>TripAdvisor</td>\n",
       "      <td>marks &amp; spencer</td>\n",
       "      <td>Paris</td>\n",
       "      <td>31</td>\n",
       "      <td>20160418</td>\n",
       "      <td>True</td>\n",
       "    </tr>\n",
       "  </tbody>\n",
       "</table>\n",
       "</div>"
      ],
      "text/plain": [
       "            Adresse Code Postal  \\\n",
       "0  119, Rue Reuilly       75012   \n",
       "1   54 Rue Mazarine       75006   \n",
       "2     31 rue Bezout      75014    \n",
       "3      19 Rue Lepic       75018   \n",
       "4      2 Rue Linois       75015   \n",
       "\n",
       "                                         Commentaire Date du commentaire  \\\n",
       "0  Vendredi soir et pas un plat typique du nord ....          18/03/2016   \n",
       "1  Ce dimanche matin passé , ayant entendu parler...          06/04/2016   \n",
       "2  Ce qui fut un bon bistrot de quartier est deve...          30/01/2016   \n",
       "3  Je commande régulièrement depuis 4 ans dans ce...          25/04/2016   \n",
       "4  Cet Etablissement Marks & Spencer à tous les m...          18/04/2016   \n",
       "\n",
       "   Note      Origine               Resto  Ville  Id      Date  Sale  \n",
       "0     1  TripAdvisor   estaminet jenlain  Paris   7  20160318  True  \n",
       "1     2  TripAdvisor     gout de brioche  Paris  20  20160406  True  \n",
       "2     2  TripAdvisor  la table de bezout  Paris  24  20160130  True  \n",
       "3     2  TripAdvisor          sushi shop  Paris  26  20160425  True  \n",
       "4     2  TripAdvisor     marks & spencer  Paris  31  20160418  True  "
      ]
     },
     "execution_count": 21,
     "metadata": {},
     "output_type": "execute_result"
    }
   ],
   "source": [
    "df_test = pandas.read_csv(\"base_DFG.csv\", encoding = \"utf-8\")\n",
    "df_test['Sale'] = df_test['Commentaire'].apply(lambda x : mot_included(str(x), mots_sales_stem))\n",
    "df_sale = df_test.query(\"Sale == True & Note in [1,2]\")\n",
    "df_sale.reset_index(drop=True, inplace=True)\n",
    "print (df_sale.shape)\n",
    "df_sale.head()"
   ]
  },
  {
   "cell_type": "code",
   "execution_count": 22,
   "metadata": {
    "collapsed": false
   },
   "outputs": [
    {
     "name": "stdout",
     "output_type": "stream",
     "text": [
      "Restaurants potentiellement sales: 1062\n",
      "(3457, 11)\n"
     ]
    }
   ],
   "source": [
    "resto_sale = []\n",
    "for resto in df_sale.Resto.unique():\n",
    "    nb = len(df_sale[df_sale.Resto == resto])\n",
    "    if nb > 1 :\n",
    "        resto_sale.append(resto)\n",
    "df_sale_recurrent = df_sale.query(\"Resto in %s\" %resto_sale)\n",
    "df_sale_recurrent.reset_index(drop=True, inplace=True)\n",
    "print(\"Restaurants potentiellement sales:\", len(resto_sale))\n",
    "print(df_sale_recurrent.shape)"
   ]
  },
  {
   "cell_type": "markdown",
   "metadata": {
    "collapsed": true
   },
   "source": [
    "# Notation de certains commentaires"
   ]
  },
  {
   "cell_type": "markdown",
   "metadata": {
    "collapsed": true
   },
   "source": [
    "On note quelques commentaires à la main, selon le niveau d'hygiène exprimé:\n",
    "- 0: il n'est pas question d'hygiène\n",
    "- 1: le problème d'hygiène n'est pas clair\n",
    "- 2: le problème d'hygiène est clair\n",
    "- 10: mention d'une intoxication alimentaire ou d'une maladie liée au repas dans le restaurant"
   ]
  },
  {
   "cell_type": "code",
   "execution_count": 26,
   "metadata": {
    "collapsed": true
   },
   "outputs": [],
   "source": [
    "from IPython.display import clear_output\n",
    "def note_salete (commentaire) :\n",
    "    print(commentaire)\n",
    "    salete = input(\"C'est sale ?\")\n",
    "    return salete"
   ]
  },
  {
   "cell_type": "code",
   "execution_count": 27,
   "metadata": {
    "collapsed": false
   },
   "outputs": [
    {
     "data": {
      "text/html": [
       "<div>\n",
       "<table border=\"1\" class=\"dataframe\">\n",
       "  <thead>\n",
       "    <tr style=\"text-align: right;\">\n",
       "      <th></th>\n",
       "      <th>Adresse</th>\n",
       "      <th>Code Postal</th>\n",
       "      <th>Commentaire</th>\n",
       "      <th>Date du commentaire</th>\n",
       "      <th>Note</th>\n",
       "      <th>Origine</th>\n",
       "      <th>Resto</th>\n",
       "      <th>Ville</th>\n",
       "      <th>Truncated</th>\n",
       "      <th>Sale</th>\n",
       "    </tr>\n",
       "  </thead>\n",
       "  <tbody>\n",
       "    <tr>\n",
       "      <th>0</th>\n",
       "      <td>33 cour saint Emillion</td>\n",
       "      <td>75012</td>\n",
       "      <td>Nous nous sommes arrêtés à cette adresse pour ...</td>\n",
       "      <td>17/04/2016</td>\n",
       "      <td>1</td>\n",
       "      <td>TripAdvisor</td>\n",
       "      <td>Chai 33</td>\n",
       "      <td>Paris</td>\n",
       "      <td>True</td>\n",
       "      <td>1</td>\n",
       "    </tr>\n",
       "    <tr>\n",
       "      <th>1</th>\n",
       "      <td>33 cour saint Emillion</td>\n",
       "      <td>75012</td>\n",
       "      <td>mauvais accueuil, serveurs agressifs et insole...</td>\n",
       "      <td>04/04/2016</td>\n",
       "      <td>1</td>\n",
       "      <td>TripAdvisor</td>\n",
       "      <td>Chai 33</td>\n",
       "      <td>Paris</td>\n",
       "      <td>False</td>\n",
       "      <td>1</td>\n",
       "    </tr>\n",
       "    <tr>\n",
       "      <th>2</th>\n",
       "      <td>33 cour saint Emillion</td>\n",
       "      <td>75012</td>\n",
       "      <td>L'endroit est agréable il est à conseillé pour...</td>\n",
       "      <td>25/03/2016</td>\n",
       "      <td>2</td>\n",
       "      <td>TripAdvisor</td>\n",
       "      <td>Chai 33</td>\n",
       "      <td>Paris</td>\n",
       "      <td>True</td>\n",
       "      <td>1</td>\n",
       "    </tr>\n",
       "    <tr>\n",
       "      <th>3</th>\n",
       "      <td>11,rue Faidherbe-Chaligny</td>\n",
       "      <td></td>\n",
       "      <td>Accueil hautain. Ca commence mal..\\r\\r\\r\\nOn e...</td>\n",
       "      <td>23/04/2016</td>\n",
       "      <td>1</td>\n",
       "      <td>TripAdvisor</td>\n",
       "      <td>Mansouria</td>\n",
       "      <td>Paris</td>\n",
       "      <td>True</td>\n",
       "      <td>1</td>\n",
       "    </tr>\n",
       "    <tr>\n",
       "      <th>4</th>\n",
       "      <td>11,rue Faidherbe-Chaligny</td>\n",
       "      <td></td>\n",
       "      <td>J'ai invité ma sur et mon beau frère en étant...</td>\n",
       "      <td>14/02/2016</td>\n",
       "      <td>2</td>\n",
       "      <td>TripAdvisor</td>\n",
       "      <td>Mansouria</td>\n",
       "      <td>Paris</td>\n",
       "      <td>True</td>\n",
       "      <td>1</td>\n",
       "    </tr>\n",
       "  </tbody>\n",
       "</table>\n",
       "</div>"
      ],
      "text/plain": [
       "                     Adresse Code Postal  \\\n",
       "0     33 cour saint Emillion       75012   \n",
       "1     33 cour saint Emillion       75012   \n",
       "2     33 cour saint Emillion       75012   \n",
       "3  11,rue Faidherbe-Chaligny               \n",
       "4  11,rue Faidherbe-Chaligny               \n",
       "\n",
       "                                         Commentaire Date du commentaire  \\\n",
       "0  Nous nous sommes arrêtés à cette adresse pour ...          17/04/2016   \n",
       "1  mauvais accueuil, serveurs agressifs et insole...          04/04/2016   \n",
       "2  L'endroit est agréable il est à conseillé pour...          25/03/2016   \n",
       "3  Accueil hautain. Ca commence mal..\\r\\r\\r\\nOn e...          23/04/2016   \n",
       "4  J'ai invité ma sur et mon beau frère en étant...          14/02/2016   \n",
       "\n",
       "   Note      Origine      Resto  Ville Truncated  Sale  \n",
       "0     1  TripAdvisor    Chai 33  Paris      True     1  \n",
       "1     1  TripAdvisor    Chai 33  Paris     False     1  \n",
       "2     2  TripAdvisor    Chai 33  Paris      True     1  \n",
       "3     1  TripAdvisor  Mansouria  Paris      True     1  \n",
       "4     2  TripAdvisor  Mansouria  Paris      True     1  "
      ]
     },
     "execution_count": 27,
     "metadata": {},
     "output_type": "execute_result"
    }
   ],
   "source": [
    "df_note_arthur = pandas.read_csv(\"restos craignos.csv\", sep=\";\", encoding =\"ISO-8859-1\")\n",
    "del df_note_arthur[\"Unnamed: 0\"]\n",
    "df_note_arthur.head()"
   ]
  },
  {
   "cell_type": "code",
   "execution_count": 686,
   "metadata": {
    "collapsed": false
   },
   "outputs": [],
   "source": [
    "for i in df_note_arthur.axes[0]:\n",
    "    print(i)\n",
    "    df_note_arthur.at[i,'POND1'] = note_salete(df_note_arthur.Commentaire[i])\n",
    "    clear_output()"
   ]
  },
  {
   "cell_type": "code",
   "execution_count": 693,
   "metadata": {
    "collapsed": true
   },
   "outputs": [],
   "source": [
    "df_note_arthur.to_csv(\"restos craignos (Arthur).csv\", sep=\";\", index = False, encoding = 'utf-8')"
   ]
  },
  {
   "cell_type": "markdown",
   "metadata": {},
   "source": [
    "# Construction d'une liste de mots clés (active learning)"
   ]
  },
  {
   "cell_type": "markdown",
   "metadata": {},
   "source": [
    "On récupère les notes de chacun pour en faire une moyenne sur les commentaires sélectionnés."
   ]
  },
  {
   "cell_type": "code",
   "execution_count": 28,
   "metadata": {
    "collapsed": false
   },
   "outputs": [
    {
     "name": "stdout",
     "output_type": "stream",
     "text": [
      "(341, 11)\n"
     ]
    },
    {
     "data": {
      "text/html": [
       "<div>\n",
       "<table border=\"1\" class=\"dataframe\">\n",
       "  <thead>\n",
       "    <tr style=\"text-align: right;\">\n",
       "      <th></th>\n",
       "      <th>Adresse</th>\n",
       "      <th>Code Postal</th>\n",
       "      <th>Commentaire</th>\n",
       "      <th>Date du commentaire</th>\n",
       "      <th>Note</th>\n",
       "      <th>Origine</th>\n",
       "      <th>Resto</th>\n",
       "      <th>Ville</th>\n",
       "      <th>Truncated</th>\n",
       "      <th>Sale</th>\n",
       "      <th>POND1</th>\n",
       "    </tr>\n",
       "  </thead>\n",
       "  <tbody>\n",
       "    <tr>\n",
       "      <th>0</th>\n",
       "      <td>33 cour saint Emillion</td>\n",
       "      <td>75012</td>\n",
       "      <td>Nous nous sommes arrêtés à cette adresse pour ...</td>\n",
       "      <td>17/04/2016</td>\n",
       "      <td>1</td>\n",
       "      <td>TripAdvisor</td>\n",
       "      <td>chai 33</td>\n",
       "      <td>Paris</td>\n",
       "      <td>True</td>\n",
       "      <td>1</td>\n",
       "      <td>0</td>\n",
       "    </tr>\n",
       "    <tr>\n",
       "      <th>1</th>\n",
       "      <td>33 cour saint Emillion</td>\n",
       "      <td>75012</td>\n",
       "      <td>mauvais accueuil, serveurs agressifs et insole...</td>\n",
       "      <td>04/04/2016</td>\n",
       "      <td>1</td>\n",
       "      <td>TripAdvisor</td>\n",
       "      <td>chai 33</td>\n",
       "      <td>Paris</td>\n",
       "      <td>False</td>\n",
       "      <td>1</td>\n",
       "      <td>0</td>\n",
       "    </tr>\n",
       "    <tr>\n",
       "      <th>2</th>\n",
       "      <td>33 cour saint Emillion</td>\n",
       "      <td>75012</td>\n",
       "      <td>L'endroit est agréable il est à conseillé pour...</td>\n",
       "      <td>25/03/2016</td>\n",
       "      <td>2</td>\n",
       "      <td>TripAdvisor</td>\n",
       "      <td>chai 33</td>\n",
       "      <td>Paris</td>\n",
       "      <td>True</td>\n",
       "      <td>1</td>\n",
       "      <td>0</td>\n",
       "    </tr>\n",
       "    <tr>\n",
       "      <th>3</th>\n",
       "      <td>11,rue Faidherbe-Chaligny</td>\n",
       "      <td></td>\n",
       "      <td>Accueil hautain. Ca commence mal.. On essaye d...</td>\n",
       "      <td>23/04/2016</td>\n",
       "      <td>1</td>\n",
       "      <td>TripAdvisor</td>\n",
       "      <td>mansouria</td>\n",
       "      <td>Paris</td>\n",
       "      <td>True</td>\n",
       "      <td>1</td>\n",
       "      <td>0</td>\n",
       "    </tr>\n",
       "    <tr>\n",
       "      <th>4</th>\n",
       "      <td>11,rue Faidherbe-Chaligny</td>\n",
       "      <td></td>\n",
       "      <td>J'ai invité ma sur et mon beau frère en étant...</td>\n",
       "      <td>14/02/2016</td>\n",
       "      <td>2</td>\n",
       "      <td>TripAdvisor</td>\n",
       "      <td>mansouria</td>\n",
       "      <td>Paris</td>\n",
       "      <td>True</td>\n",
       "      <td>1</td>\n",
       "      <td>0</td>\n",
       "    </tr>\n",
       "  </tbody>\n",
       "</table>\n",
       "</div>"
      ],
      "text/plain": [
       "                     Adresse Code Postal  \\\n",
       "0     33 cour saint Emillion       75012   \n",
       "1     33 cour saint Emillion       75012   \n",
       "2     33 cour saint Emillion       75012   \n",
       "3  11,rue Faidherbe-Chaligny               \n",
       "4  11,rue Faidherbe-Chaligny               \n",
       "\n",
       "                                         Commentaire Date du commentaire  \\\n",
       "0  Nous nous sommes arrêtés à cette adresse pour ...          17/04/2016   \n",
       "1  mauvais accueuil, serveurs agressifs et insole...          04/04/2016   \n",
       "2  L'endroit est agréable il est à conseillé pour...          25/03/2016   \n",
       "3  Accueil hautain. Ca commence mal.. On essaye d...          23/04/2016   \n",
       "4  J'ai invité ma sur et mon beau frère en étant...          14/02/2016   \n",
       "\n",
       "   Note      Origine      Resto  Ville Truncated  Sale  POND1  \n",
       "0     1  TripAdvisor    chai 33  Paris      True     1      0  \n",
       "1     1  TripAdvisor    chai 33  Paris     False     1      0  \n",
       "2     2  TripAdvisor    chai 33  Paris      True     1      0  \n",
       "3     1  TripAdvisor  mansouria  Paris      True     1      0  \n",
       "4     2  TripAdvisor  mansouria  Paris      True     1      0  "
      ]
     },
     "execution_count": 28,
     "metadata": {},
     "output_type": "execute_result"
    }
   ],
   "source": [
    "df_note_pl = pandas.read_csv(\"restos craignos (Pierre-Louis).csv\", sep=\";\", encoding =\"ISO-8859-1\")\n",
    "del df_note_pl[\"Unnamed: 0\"]\n",
    "for i in range(df_note_pl.shape[0]):\n",
    "    df_note_pl.at[i, \"Resto\"] = df_note_pl.at[i, \"Resto\"].lower()\n",
    "    df_note_pl.at[i, \"Commentaire\"] = df_note_pl.at[i, \"Commentaire\"].replace(\"\\r\", \"\").replace(\"\\n\", \" \")\n",
    "print (df_note_pl.shape)\n",
    "df_note_pl.head()"
   ]
  },
  {
   "cell_type": "code",
   "execution_count": 29,
   "metadata": {
    "collapsed": false
   },
   "outputs": [
    {
     "data": {
      "text/plain": [
       "0     267\n",
       "1      41\n",
       "2      20\n",
       "10     12\n",
       "Name: POND1, dtype: int64"
      ]
     },
     "execution_count": 29,
     "metadata": {},
     "output_type": "execute_result"
    }
   ],
   "source": [
    "df_note_pl.POND1.value_counts()"
   ]
  },
  {
   "cell_type": "code",
   "execution_count": 30,
   "metadata": {
    "collapsed": false
   },
   "outputs": [
    {
     "name": "stdout",
     "output_type": "stream",
     "text": [
      "(341, 11)\n"
     ]
    },
    {
     "data": {
      "text/html": [
       "<div>\n",
       "<table border=\"1\" class=\"dataframe\">\n",
       "  <thead>\n",
       "    <tr style=\"text-align: right;\">\n",
       "      <th></th>\n",
       "      <th>Adresse</th>\n",
       "      <th>Code Postal</th>\n",
       "      <th>Commentaire</th>\n",
       "      <th>Date du commentaire</th>\n",
       "      <th>Note</th>\n",
       "      <th>Origine</th>\n",
       "      <th>Resto</th>\n",
       "      <th>Ville</th>\n",
       "      <th>Truncated</th>\n",
       "      <th>Sale</th>\n",
       "      <th>POND1</th>\n",
       "    </tr>\n",
       "  </thead>\n",
       "  <tbody>\n",
       "    <tr>\n",
       "      <th>0</th>\n",
       "      <td>33 cour saint Emillion</td>\n",
       "      <td>75012</td>\n",
       "      <td>Nous nous sommes arrêtés à cette adresse pour ...</td>\n",
       "      <td>17/04/2016</td>\n",
       "      <td>1</td>\n",
       "      <td>TripAdvisor</td>\n",
       "      <td>chai 33</td>\n",
       "      <td>Paris</td>\n",
       "      <td>True</td>\n",
       "      <td>1</td>\n",
       "      <td>0</td>\n",
       "    </tr>\n",
       "    <tr>\n",
       "      <th>1</th>\n",
       "      <td>33 cour saint Emillion</td>\n",
       "      <td>75012</td>\n",
       "      <td>mauvais accueuil, serveurs agressifs et insole...</td>\n",
       "      <td>04/04/2016</td>\n",
       "      <td>1</td>\n",
       "      <td>TripAdvisor</td>\n",
       "      <td>chai 33</td>\n",
       "      <td>Paris</td>\n",
       "      <td>False</td>\n",
       "      <td>1</td>\n",
       "      <td>0</td>\n",
       "    </tr>\n",
       "    <tr>\n",
       "      <th>2</th>\n",
       "      <td>33 cour saint Emillion</td>\n",
       "      <td>75012</td>\n",
       "      <td>L'endroit est agréable il est à conseillé pour...</td>\n",
       "      <td>25/03/2016</td>\n",
       "      <td>2</td>\n",
       "      <td>TripAdvisor</td>\n",
       "      <td>chai 33</td>\n",
       "      <td>Paris</td>\n",
       "      <td>True</td>\n",
       "      <td>1</td>\n",
       "      <td>0</td>\n",
       "    </tr>\n",
       "    <tr>\n",
       "      <th>3</th>\n",
       "      <td>11,rue Faidherbe-Chaligny</td>\n",
       "      <td></td>\n",
       "      <td>Accueil hautain. Ca commence mal.. On essaye d...</td>\n",
       "      <td>23/04/2016</td>\n",
       "      <td>1</td>\n",
       "      <td>TripAdvisor</td>\n",
       "      <td>mansouria</td>\n",
       "      <td>Paris</td>\n",
       "      <td>True</td>\n",
       "      <td>1</td>\n",
       "      <td>1</td>\n",
       "    </tr>\n",
       "    <tr>\n",
       "      <th>4</th>\n",
       "      <td>11,rue Faidherbe-Chaligny</td>\n",
       "      <td></td>\n",
       "      <td>J'ai invité ma sur et mon beau frère en étant...</td>\n",
       "      <td>14/02/2016</td>\n",
       "      <td>2</td>\n",
       "      <td>TripAdvisor</td>\n",
       "      <td>mansouria</td>\n",
       "      <td>Paris</td>\n",
       "      <td>True</td>\n",
       "      <td>1</td>\n",
       "      <td>0</td>\n",
       "    </tr>\n",
       "  </tbody>\n",
       "</table>\n",
       "</div>"
      ],
      "text/plain": [
       "                     Adresse Code Postal  \\\n",
       "0     33 cour saint Emillion       75012   \n",
       "1     33 cour saint Emillion       75012   \n",
       "2     33 cour saint Emillion       75012   \n",
       "3  11,rue Faidherbe-Chaligny               \n",
       "4  11,rue Faidherbe-Chaligny               \n",
       "\n",
       "                                         Commentaire Date du commentaire  \\\n",
       "0  Nous nous sommes arrêtés à cette adresse pour ...          17/04/2016   \n",
       "1  mauvais accueuil, serveurs agressifs et insole...          04/04/2016   \n",
       "2  L'endroit est agréable il est à conseillé pour...          25/03/2016   \n",
       "3  Accueil hautain. Ca commence mal.. On essaye d...          23/04/2016   \n",
       "4  J'ai invité ma sur et mon beau frère en étant...          14/02/2016   \n",
       "\n",
       "   Note      Origine      Resto  Ville Truncated  Sale  POND1  \n",
       "0     1  TripAdvisor    chai 33  Paris      True     1      0  \n",
       "1     1  TripAdvisor    chai 33  Paris     False     1      0  \n",
       "2     2  TripAdvisor    chai 33  Paris      True     1      0  \n",
       "3     1  TripAdvisor  mansouria  Paris      True     1      1  \n",
       "4     2  TripAdvisor  mansouria  Paris      True     1      0  "
      ]
     },
     "execution_count": 30,
     "metadata": {},
     "output_type": "execute_result"
    }
   ],
   "source": [
    "df_note_arthur = pandas.read_csv(\"restos craignos (Arthur).csv\", sep=\";\", encoding =\"utf-8\")\n",
    "for i in range(df_note_arthur.shape[0]):\n",
    "    df_note_arthur.at[i, \"Resto\"] = df_note_arthur.at[i, \"Resto\"].lower()\n",
    "    df_note_arthur.at[i, \"Commentaire\"] = df_note_arthur.at[i, \"Commentaire\"].replace(\"\\r\", \"\").replace(\"\\n\", \" \")\n",
    "print (df_note_arthur.shape)\n",
    "df_note_arthur.head()"
   ]
  },
  {
   "cell_type": "code",
   "execution_count": 31,
   "metadata": {
    "collapsed": false
   },
   "outputs": [
    {
     "data": {
      "text/plain": [
       "0     238\n",
       "1      48\n",
       "2      42\n",
       "10     13\n",
       "Name: POND1, dtype: int64"
      ]
     },
     "execution_count": 31,
     "metadata": {},
     "output_type": "execute_result"
    }
   ],
   "source": [
    "df_note_arthur.POND1.value_counts()"
   ]
  },
  {
   "cell_type": "code",
   "execution_count": 33,
   "metadata": {
    "collapsed": false
   },
   "outputs": [
    {
     "name": "stdout",
     "output_type": "stream",
     "text": [
      "(764, 12)\n",
      "(341, 11)\n"
     ]
    },
    {
     "data": {
      "text/html": [
       "<div>\n",
       "<table border=\"1\" class=\"dataframe\">\n",
       "  <thead>\n",
       "    <tr style=\"text-align: right;\">\n",
       "      <th></th>\n",
       "      <th>Adresse</th>\n",
       "      <th>Code Postal</th>\n",
       "      <th>Commentaire</th>\n",
       "      <th>Date</th>\n",
       "      <th>Date du commentaire</th>\n",
       "      <th>Note</th>\n",
       "      <th>Note_sale</th>\n",
       "      <th>Origine</th>\n",
       "      <th>Resto</th>\n",
       "      <th>Sale</th>\n",
       "      <th>Ville</th>\n",
       "    </tr>\n",
       "  </thead>\n",
       "  <tbody>\n",
       "    <tr>\n",
       "      <th>9</th>\n",
       "      <td>64 Avenue Des Ternes</td>\n",
       "      <td></td>\n",
       "      <td>Menu unique à 75 pour le réveillon pour un re...</td>\n",
       "      <td>20160104</td>\n",
       "      <td>04/01/2016</td>\n",
       "      <td>2</td>\n",
       "      <td>0</td>\n",
       "      <td>TripAdvisor</td>\n",
       "      <td>au petit marguery</td>\n",
       "      <td>1</td>\n",
       "      <td>Paris</td>\n",
       "    </tr>\n",
       "    <tr>\n",
       "      <th>12</th>\n",
       "      <td>162 Boulevard du Montparnasse</td>\n",
       "      <td>75014</td>\n",
       "      <td>Mise en confiance par les avis positifs, j'ai ...</td>\n",
       "      <td>20160427</td>\n",
       "      <td>27/04/2016</td>\n",
       "      <td>1</td>\n",
       "      <td>1</td>\n",
       "      <td>TripAdvisor</td>\n",
       "      <td>il forno di napoli - trattoria napoletana</td>\n",
       "      <td>1</td>\n",
       "      <td>Paris</td>\n",
       "    </tr>\n",
       "    <tr>\n",
       "      <th>13</th>\n",
       "      <td>162 Boulevard du Montparnasse</td>\n",
       "      <td>75014</td>\n",
       "      <td>Très médiocre .La pâte est molle(pas cuite) le...</td>\n",
       "      <td>20160325</td>\n",
       "      <td>25/03/2016</td>\n",
       "      <td>2</td>\n",
       "      <td>2</td>\n",
       "      <td>TripAdvisor</td>\n",
       "      <td>il forno di napoli - trattoria napoletana</td>\n",
       "      <td>1</td>\n",
       "      <td>Paris</td>\n",
       "    </tr>\n",
       "    <tr>\n",
       "      <th>56</th>\n",
       "      <td>102, Boulevard du Montparnasse</td>\n",
       "      <td>75014</td>\n",
       "      <td>Accueil horrible et sans politesse. Service in...</td>\n",
       "      <td>20160322</td>\n",
       "      <td>22/03/2016</td>\n",
       "      <td>1</td>\n",
       "      <td>0</td>\n",
       "      <td>TripAdvisor</td>\n",
       "      <td>la coupole</td>\n",
       "      <td>1</td>\n",
       "      <td>Paris</td>\n",
       "    </tr>\n",
       "    <tr>\n",
       "      <th>57</th>\n",
       "      <td>102, Boulevard du Montparnasse</td>\n",
       "      <td>75014</td>\n",
       "      <td>Une grande déception, moi qui croyais découvri...</td>\n",
       "      <td>20160202</td>\n",
       "      <td>02/02/2016</td>\n",
       "      <td>2</td>\n",
       "      <td>2</td>\n",
       "      <td>TripAdvisor</td>\n",
       "      <td>la coupole</td>\n",
       "      <td>1</td>\n",
       "      <td>Paris</td>\n",
       "    </tr>\n",
       "  </tbody>\n",
       "</table>\n",
       "</div>"
      ],
      "text/plain": [
       "                           Adresse Code Postal  \\\n",
       "9             64 Avenue Des Ternes               \n",
       "12   162 Boulevard du Montparnasse       75014   \n",
       "13   162 Boulevard du Montparnasse       75014   \n",
       "56  102, Boulevard du Montparnasse       75014   \n",
       "57  102, Boulevard du Montparnasse       75014   \n",
       "\n",
       "                                          Commentaire      Date  \\\n",
       "9   Menu unique à 75 pour le réveillon pour un re...  20160104   \n",
       "12  Mise en confiance par les avis positifs, j'ai ...  20160427   \n",
       "13  Très médiocre .La pâte est molle(pas cuite) le...  20160325   \n",
       "56  Accueil horrible et sans politesse. Service in...  20160322   \n",
       "57  Une grande déception, moi qui croyais découvri...  20160202   \n",
       "\n",
       "   Date du commentaire  Note  Note_sale      Origine  \\\n",
       "9           04/01/2016     2          0  TripAdvisor   \n",
       "12          27/04/2016     1          1  TripAdvisor   \n",
       "13          25/03/2016     2          2  TripAdvisor   \n",
       "56          22/03/2016     1          0  TripAdvisor   \n",
       "57          02/02/2016     2          2  TripAdvisor   \n",
       "\n",
       "                                        Resto  Sale  Ville  \n",
       "9                           au petit marguery     1  Paris  \n",
       "12  il forno di napoli - trattoria napoletana     1  Paris  \n",
       "13  il forno di napoli - trattoria napoletana     1  Paris  \n",
       "56                                 la coupole     1  Paris  \n",
       "57                                 la coupole     1  Paris  "
      ]
     },
     "execution_count": 33,
     "metadata": {},
     "output_type": "execute_result"
    }
   ],
   "source": [
    "gros_df_note_loic = pandas.read_csv(\"restos-craignos (loic).csv\", sep=\";\", encoding =\"ISO-8859-1\")\n",
    "del gros_df_note_loic[\"Unnamed: 0\"]\n",
    "for i in range(gros_df_note_loic.shape[0]):\n",
    "    gros_df_note_loic.at[i, \"Resto\"] = gros_df_note_loic.at[i, \"Resto\"].lower()\n",
    "    gros_df_note_loic.at[i, \"Commentaire\"] = gros_df_note_loic.at[i, \"Commentaire\"].replace(\"\\r\", \"\").replace(\"\\n\", \" \")\n",
    "print (gros_df_note_loic.shape)\n",
    "for i in range(df_note_pl.shape[0]):\n",
    "    com_pl = df_note_pl.at[i, \"Commentaire\"]\n",
    "    for j in range(gros_df_note_loic.shape[0]):\n",
    "        com_loic = gros_df_note_loic.at[j, \"Commentaire\"]\n",
    "        if com_loic == com_pl:\n",
    "            gros_df_note_loic.at[j, \"match\"] = 1\n",
    "            df_note_pl.at[i, \"match\"] = 1\n",
    "df_note_loic = gros_df_note_loic[gros_df_note_loic.match == 1]\n",
    "df_note_loic = pandas.concat( (df_note_loic, df_note_pl[df_note_pl.match!=df_note_pl.match]) )\n",
    "del df_note_loic[\"match\"]\n",
    "del df_note_loic[\"POND1\"]\n",
    "del df_note_loic[\"Id\"]\n",
    "del df_note_loic[\"Truncated\"]\n",
    "del df_note_pl[\"match\"]\n",
    "print (df_note_loic.shape)\n",
    "df_note_loic.head()"
   ]
  },
  {
   "cell_type": "code",
   "execution_count": 34,
   "metadata": {
    "collapsed": false
   },
   "outputs": [
    {
     "data": {
      "text/plain": [
       "0     215\n",
       "2      70\n",
       "1      32\n",
       "10      9\n",
       "Name: Note_sale, dtype: int64"
      ]
     },
     "execution_count": 34,
     "metadata": {},
     "output_type": "execute_result"
    }
   ],
   "source": [
    "df_note_loic.Note_sale.value_counts()"
   ]
  },
  {
   "cell_type": "code",
   "execution_count": 12,
   "metadata": {
    "collapsed": false,
    "scrolled": true
   },
   "outputs": [
    {
     "ename": "CParserError",
     "evalue": "Error tokenizing data. C error: Expected 64 fields in line 92, saw 66\n",
     "output_type": "error",
     "traceback": [
      "\u001b[0;31m---------------------------------------------------------------------------\u001b[0m",
      "\u001b[0;31mCParserError\u001b[0m                              Traceback (most recent call last)",
      "\u001b[0;32m<ipython-input-12-8b0d4058f8f5>\u001b[0m in \u001b[0;36m<module>\u001b[0;34m()\u001b[0m\n\u001b[0;32m----> 1\u001b[0;31m \u001b[0mdf_note_gillou\u001b[0m \u001b[0;34m=\u001b[0m \u001b[0mpandas\u001b[0m\u001b[0;34m.\u001b[0m\u001b[0mread_csv\u001b[0m\u001b[0;34m(\u001b[0m\u001b[0;34m\"restos craignos (Gilles).csv\"\u001b[0m\u001b[0;34m,\u001b[0m \u001b[0msep\u001b[0m\u001b[0;34m=\u001b[0m\u001b[0;34m\" \"\u001b[0m\u001b[0;34m,\u001b[0m \u001b[0mencoding\u001b[0m \u001b[0;34m=\u001b[0m\u001b[0;34m\"ISO-8859-1\"\u001b[0m\u001b[0;34m)\u001b[0m\u001b[0;34m\u001b[0m\u001b[0m\n\u001b[0m\u001b[1;32m      2\u001b[0m \u001b[0;32mdel\u001b[0m \u001b[0mdf_note_gillou\u001b[0m\u001b[0;34m[\u001b[0m\u001b[0;34m\"Unnamed: 0\"\u001b[0m\u001b[0;34m]\u001b[0m\u001b[0;34m\u001b[0m\u001b[0m\n\u001b[1;32m      3\u001b[0m \u001b[0;32mfor\u001b[0m \u001b[0mi\u001b[0m \u001b[0;32min\u001b[0m \u001b[0mrange\u001b[0m\u001b[0;34m(\u001b[0m\u001b[0mdf_note_gillou\u001b[0m\u001b[0;34m.\u001b[0m\u001b[0mshape\u001b[0m\u001b[0;34m[\u001b[0m\u001b[0;36m0\u001b[0m\u001b[0;34m]\u001b[0m\u001b[0;34m)\u001b[0m\u001b[0;34m:\u001b[0m\u001b[0;34m\u001b[0m\u001b[0m\n\u001b[1;32m      4\u001b[0m     \u001b[0mdf_note_gillou\u001b[0m\u001b[0;34m.\u001b[0m\u001b[0mat\u001b[0m\u001b[0;34m[\u001b[0m\u001b[0mi\u001b[0m\u001b[0;34m,\u001b[0m \u001b[0;34m\"Resto\"\u001b[0m\u001b[0;34m]\u001b[0m \u001b[0;34m=\u001b[0m \u001b[0mdf_note_gillou\u001b[0m\u001b[0;34m.\u001b[0m\u001b[0mat\u001b[0m\u001b[0;34m[\u001b[0m\u001b[0mi\u001b[0m\u001b[0;34m,\u001b[0m \u001b[0;34m\"Resto\"\u001b[0m\u001b[0;34m]\u001b[0m\u001b[0;34m.\u001b[0m\u001b[0mlower\u001b[0m\u001b[0;34m(\u001b[0m\u001b[0;34m)\u001b[0m\u001b[0;34m\u001b[0m\u001b[0m\n\u001b[1;32m      5\u001b[0m     \u001b[0mdf_note_gillou\u001b[0m\u001b[0;34m.\u001b[0m\u001b[0mat\u001b[0m\u001b[0;34m[\u001b[0m\u001b[0mi\u001b[0m\u001b[0;34m,\u001b[0m \u001b[0;34m\"Commentaire\"\u001b[0m\u001b[0;34m]\u001b[0m \u001b[0;34m=\u001b[0m \u001b[0mdf_note_gillou\u001b[0m\u001b[0;34m.\u001b[0m\u001b[0mat\u001b[0m\u001b[0;34m[\u001b[0m\u001b[0mi\u001b[0m\u001b[0;34m,\u001b[0m \u001b[0;34m\"Commentaire\"\u001b[0m\u001b[0;34m]\u001b[0m\u001b[0;34m.\u001b[0m\u001b[0mreplace\u001b[0m\u001b[0;34m(\u001b[0m\u001b[0;34m\"\\r\"\u001b[0m\u001b[0;34m,\u001b[0m \u001b[0;34m\"\"\u001b[0m\u001b[0;34m)\u001b[0m\u001b[0;34m.\u001b[0m\u001b[0mreplace\u001b[0m\u001b[0;34m(\u001b[0m\u001b[0;34m\"\\n\"\u001b[0m\u001b[0;34m,\u001b[0m \u001b[0;34m\" \"\u001b[0m\u001b[0;34m)\u001b[0m\u001b[0;34m\u001b[0m\u001b[0m\n",
      "\u001b[0;32m/Applications/anaconda/lib/python3.4/site-packages/pandas/io/parsers.py\u001b[0m in \u001b[0;36mparser_f\u001b[0;34m(filepath_or_buffer, sep, dialect, compression, doublequote, escapechar, quotechar, quoting, skipinitialspace, lineterminator, header, index_col, names, prefix, skiprows, skipfooter, skip_footer, na_values, true_values, false_values, delimiter, converters, dtype, usecols, engine, delim_whitespace, as_recarray, na_filter, compact_ints, use_unsigned, low_memory, buffer_lines, warn_bad_lines, error_bad_lines, keep_default_na, thousands, comment, decimal, parse_dates, keep_date_col, dayfirst, date_parser, memory_map, float_precision, nrows, iterator, chunksize, verbose, encoding, squeeze, mangle_dupe_cols, tupleize_cols, infer_datetime_format, skip_blank_lines)\u001b[0m\n\u001b[1;32m    496\u001b[0m                     skip_blank_lines=skip_blank_lines)\n\u001b[1;32m    497\u001b[0m \u001b[0;34m\u001b[0m\u001b[0m\n\u001b[0;32m--> 498\u001b[0;31m         \u001b[0;32mreturn\u001b[0m \u001b[0m_read\u001b[0m\u001b[0;34m(\u001b[0m\u001b[0mfilepath_or_buffer\u001b[0m\u001b[0;34m,\u001b[0m \u001b[0mkwds\u001b[0m\u001b[0;34m)\u001b[0m\u001b[0;34m\u001b[0m\u001b[0m\n\u001b[0m\u001b[1;32m    499\u001b[0m \u001b[0;34m\u001b[0m\u001b[0m\n\u001b[1;32m    500\u001b[0m     \u001b[0mparser_f\u001b[0m\u001b[0;34m.\u001b[0m\u001b[0m__name__\u001b[0m \u001b[0;34m=\u001b[0m \u001b[0mname\u001b[0m\u001b[0;34m\u001b[0m\u001b[0m\n",
      "\u001b[0;32m/Applications/anaconda/lib/python3.4/site-packages/pandas/io/parsers.py\u001b[0m in \u001b[0;36m_read\u001b[0;34m(filepath_or_buffer, kwds)\u001b[0m\n\u001b[1;32m    283\u001b[0m         \u001b[0;32mreturn\u001b[0m \u001b[0mparser\u001b[0m\u001b[0;34m\u001b[0m\u001b[0m\n\u001b[1;32m    284\u001b[0m \u001b[0;34m\u001b[0m\u001b[0m\n\u001b[0;32m--> 285\u001b[0;31m     \u001b[0;32mreturn\u001b[0m \u001b[0mparser\u001b[0m\u001b[0;34m.\u001b[0m\u001b[0mread\u001b[0m\u001b[0;34m(\u001b[0m\u001b[0;34m)\u001b[0m\u001b[0;34m\u001b[0m\u001b[0m\n\u001b[0m\u001b[1;32m    286\u001b[0m \u001b[0;34m\u001b[0m\u001b[0m\n\u001b[1;32m    287\u001b[0m _parser_defaults = {\n",
      "\u001b[0;32m/Applications/anaconda/lib/python3.4/site-packages/pandas/io/parsers.py\u001b[0m in \u001b[0;36mread\u001b[0;34m(self, nrows)\u001b[0m\n\u001b[1;32m    745\u001b[0m                 \u001b[0;32mraise\u001b[0m \u001b[0mValueError\u001b[0m\u001b[0;34m(\u001b[0m\u001b[0;34m'skip_footer not supported for iteration'\u001b[0m\u001b[0;34m)\u001b[0m\u001b[0;34m\u001b[0m\u001b[0m\n\u001b[1;32m    746\u001b[0m \u001b[0;34m\u001b[0m\u001b[0m\n\u001b[0;32m--> 747\u001b[0;31m         \u001b[0mret\u001b[0m \u001b[0;34m=\u001b[0m \u001b[0mself\u001b[0m\u001b[0;34m.\u001b[0m\u001b[0m_engine\u001b[0m\u001b[0;34m.\u001b[0m\u001b[0mread\u001b[0m\u001b[0;34m(\u001b[0m\u001b[0mnrows\u001b[0m\u001b[0;34m)\u001b[0m\u001b[0;34m\u001b[0m\u001b[0m\n\u001b[0m\u001b[1;32m    748\u001b[0m \u001b[0;34m\u001b[0m\u001b[0m\n\u001b[1;32m    749\u001b[0m         \u001b[0;32mif\u001b[0m \u001b[0mself\u001b[0m\u001b[0;34m.\u001b[0m\u001b[0moptions\u001b[0m\u001b[0;34m.\u001b[0m\u001b[0mget\u001b[0m\u001b[0;34m(\u001b[0m\u001b[0;34m'as_recarray'\u001b[0m\u001b[0;34m)\u001b[0m\u001b[0;34m:\u001b[0m\u001b[0;34m\u001b[0m\u001b[0m\n",
      "\u001b[0;32m/Applications/anaconda/lib/python3.4/site-packages/pandas/io/parsers.py\u001b[0m in \u001b[0;36mread\u001b[0;34m(self, nrows)\u001b[0m\n\u001b[1;32m   1195\u001b[0m     \u001b[0;32mdef\u001b[0m \u001b[0mread\u001b[0m\u001b[0;34m(\u001b[0m\u001b[0mself\u001b[0m\u001b[0;34m,\u001b[0m \u001b[0mnrows\u001b[0m\u001b[0;34m=\u001b[0m\u001b[0;32mNone\u001b[0m\u001b[0;34m)\u001b[0m\u001b[0;34m:\u001b[0m\u001b[0;34m\u001b[0m\u001b[0m\n\u001b[1;32m   1196\u001b[0m         \u001b[0;32mtry\u001b[0m\u001b[0;34m:\u001b[0m\u001b[0;34m\u001b[0m\u001b[0m\n\u001b[0;32m-> 1197\u001b[0;31m             \u001b[0mdata\u001b[0m \u001b[0;34m=\u001b[0m \u001b[0mself\u001b[0m\u001b[0;34m.\u001b[0m\u001b[0m_reader\u001b[0m\u001b[0;34m.\u001b[0m\u001b[0mread\u001b[0m\u001b[0;34m(\u001b[0m\u001b[0mnrows\u001b[0m\u001b[0;34m)\u001b[0m\u001b[0;34m\u001b[0m\u001b[0m\n\u001b[0m\u001b[1;32m   1198\u001b[0m         \u001b[0;32mexcept\u001b[0m \u001b[0mStopIteration\u001b[0m\u001b[0;34m:\u001b[0m\u001b[0;34m\u001b[0m\u001b[0m\n\u001b[1;32m   1199\u001b[0m             \u001b[0;32mif\u001b[0m \u001b[0mself\u001b[0m\u001b[0;34m.\u001b[0m\u001b[0m_first_chunk\u001b[0m\u001b[0;34m:\u001b[0m\u001b[0;34m\u001b[0m\u001b[0m\n",
      "\u001b[0;32mpandas/parser.pyx\u001b[0m in \u001b[0;36mpandas.parser.TextReader.read (pandas/parser.c:7988)\u001b[0;34m()\u001b[0m\n",
      "\u001b[0;32mpandas/parser.pyx\u001b[0m in \u001b[0;36mpandas.parser.TextReader._read_low_memory (pandas/parser.c:8244)\u001b[0;34m()\u001b[0m\n",
      "\u001b[0;32mpandas/parser.pyx\u001b[0m in \u001b[0;36mpandas.parser.TextReader._read_rows (pandas/parser.c:8970)\u001b[0;34m()\u001b[0m\n",
      "\u001b[0;32mpandas/parser.pyx\u001b[0m in \u001b[0;36mpandas.parser.TextReader._tokenize_rows (pandas/parser.c:8838)\u001b[0;34m()\u001b[0m\n",
      "\u001b[0;32mpandas/parser.pyx\u001b[0m in \u001b[0;36mpandas.parser.raise_parser_error (pandas/parser.c:22649)\u001b[0;34m()\u001b[0m\n",
      "\u001b[0;31mCParserError\u001b[0m: Error tokenizing data. C error: Expected 64 fields in line 92, saw 66\n"
     ]
    }
   ],
   "source": [
    "df_note_gillou = pandas.read_csv(\"restos craignos (Gilles).csv\", sep=\" \", encoding =\"ISO-8859-1\")\n",
    "del df_note_gillou[\"Unnamed: 0\"]\n",
    "for i in range(df_note_gillou.shape[0]):\n",
    "    df_note_gillou.at[i, \"Resto\"] = df_note_gillou.at[i, \"Resto\"].lower()\n",
    "    df_note_gillou.at[i, \"Commentaire\"] = df_note_gillou.at[i, \"Commentaire\"].replace(\"\\r\", \"\").replace(\"\\n\", \" \")\n",
    "print (df_note_gillou.shape)\n",
    "df_note_gillou.head()"
   ]
  },
  {
   "cell_type": "code",
   "execution_count": null,
   "metadata": {
    "collapsed": true
   },
   "outputs": [],
   "source": [
    "df_note_gillou.Note_sale.value_counts()"
   ]
  },
  {
   "cell_type": "code",
   "execution_count": 35,
   "metadata": {
    "collapsed": false
   },
   "outputs": [
    {
     "name": "stdout",
     "output_type": "stream",
     "text": [
      "(341, 2)\n"
     ]
    },
    {
     "data": {
      "text/html": [
       "<div>\n",
       "<table border=\"1\" class=\"dataframe\">\n",
       "  <thead>\n",
       "    <tr style=\"text-align: right;\">\n",
       "      <th></th>\n",
       "      <th>Commentaire</th>\n",
       "      <th>Note_maison</th>\n",
       "    </tr>\n",
       "  </thead>\n",
       "  <tbody>\n",
       "    <tr>\n",
       "      <th>0</th>\n",
       "      <td>- Si vous venez pour la fondue et que vous aim...</td>\n",
       "      <td>1.5</td>\n",
       "    </tr>\n",
       "    <tr>\n",
       "      <th>1</th>\n",
       "      <td>.. Et je pèse mes mots. Bien trop cher pour un...</td>\n",
       "      <td>0.0</td>\n",
       "    </tr>\n",
       "    <tr>\n",
       "      <th>2</th>\n",
       "      <td>....écrevisse sauce nantua = grave intoxicatio...</td>\n",
       "      <td>10.0</td>\n",
       "    </tr>\n",
       "    <tr>\n",
       "      <th>3</th>\n",
       "      <td>..je m'en doutais mais une pluie battante ns a...</td>\n",
       "      <td>0.0</td>\n",
       "    </tr>\n",
       "    <tr>\n",
       "      <th>4</th>\n",
       "      <td>2 coupes de champagne apportées comme 2 verres...</td>\n",
       "      <td>0.0</td>\n",
       "    </tr>\n",
       "  </tbody>\n",
       "</table>\n",
       "</div>"
      ],
      "text/plain": [
       "                                         Commentaire  Note_maison\n",
       "0  - Si vous venez pour la fondue et que vous aim...          1.5\n",
       "1  .. Et je pèse mes mots. Bien trop cher pour un...          0.0\n",
       "2  ....écrevisse sauce nantua = grave intoxicatio...         10.0\n",
       "3  ..je m'en doutais mais une pluie battante ns a...          0.0\n",
       "4  2 coupes de champagne apportées comme 2 verres...          0.0"
      ]
     },
     "execution_count": 35,
     "metadata": {},
     "output_type": "execute_result"
    }
   ],
   "source": [
    "df_note_pl = df_note_pl.sort(['Commentaire'])\n",
    "df_note_arthur = df_note_arthur.sort(['Commentaire'])\n",
    "#df_note_loic = df_note_loic.sort(['Commentaire'])\n",
    "#df_note_gillou = df_note_gillou.sort(['Commentaire'])\n",
    "df_note_moyenne = pandas.DataFrame()\n",
    "df_note_moyenne[\"Commentaire\"] = df_note_arthur[\"Commentaire\"]\n",
    "df_note_moyenne[\"Note_maison\"] = (df_note_pl[\"POND1\"] + df_note_arthur[\"POND1\"]) / 2\n",
    "#df_note_moyenne[\"Note maison\"] = (df_note_pl[\"POND1\"] + df_note_gillou[\"POND1\"] + df_note_loic[\"POND1\"] + df_note_arthur[\"POND1\"]) / 4\n",
    "df_note_moyenne.reset_index(drop=True, inplace=True)\n",
    "print (df_note_moyenne.shape)\n",
    "df_note_moyenne.head()   "
   ]
  },
  {
   "cell_type": "code",
   "execution_count": 36,
   "metadata": {
    "collapsed": true
   },
   "outputs": [
    {
     "data": {
      "text/plain": [
       "0.0     216\n",
       "0.5      53\n",
       "1.0      28\n",
       "1.5      16\n",
       "2.0      14\n",
       "10.0     12\n",
       "5.0       1\n",
       "Name: Note_maison, dtype: int64"
      ]
     },
     "execution_count": 36,
     "metadata": {},
     "output_type": "execute_result"
    }
   ],
   "source": [
    "df_note_moyenne.Note_maison.value_counts()"
   ]
  },
  {
   "cell_type": "markdown",
   "metadata": {},
   "source": [
    "Pour chaque commentaire, on retrouve son identifiant de la base générale."
   ]
  },
  {
   "cell_type": "code",
   "execution_count": 37,
   "metadata": {
    "collapsed": true
   },
   "outputs": [],
   "source": [
    "stemmer = SnowballStemmer('french')\n",
    "tokenizer = RegexpTokenizer(r'\\w+')\n",
    "def comparaison_com(com1, comref, with_stem=False, k=0.15):\n",
    "    n = 0\n",
    "    if with_stem:\n",
    "        tokens1 = [stemmer.stem(i) for i in tokenizer.tokenize(com1.lower())]\n",
    "        tokensref = tokenizer.tokenize(comref.lower())\n",
    "    else:\n",
    "        tokens1 = tokenizer.tokenize(com1.lower())\n",
    "        tokensref = tokenizer.tokenize(comref.lower())\n",
    "    for token in tokens1:\n",
    "        if token not in tokensref:\n",
    "            n += 1\n",
    "    mots_differents = n / len(tokens1)\n",
    "    if mots_differents < k:\n",
    "        return True\n",
    "    return False"
   ]
  },
  {
   "cell_type": "markdown",
   "metadata": {},
   "source": [
    "On retrouve l'identifiant..."
   ]
  },
  {
   "cell_type": "code",
   "execution_count": 835,
   "metadata": {
    "collapsed": false,
    "scrolled": true
   },
   "outputs": [
    {
     "name": "stdout",
     "output_type": "stream",
     "text": [
      "(0, 3)\n"
     ]
    }
   ],
   "source": [
    "for i in range(df_note_moyenne.shape[0]):\n",
    "    commentairei = df_note_moyenne.at[i, \"Commentaire\"]\n",
    "    for j in range(df_sale.shape[0]):\n",
    "        commentairej = df_sale.at[j, \"Commentaire\"]\n",
    "        if comparaison_com(commentairei, commentairej, False, 0.173):\n",
    "            df_note_moyenne.at[i, \"Id\"] = df_sale.at[j, \"Id\"]\n",
    "print (df_note_moyenne[df_note_moyenne.Id != df_note_moyenne.Id].shape)"
   ]
  },
  {
   "cell_type": "markdown",
   "metadata": {},
   "source": [
    "... et on l'associe avec le commentaire propre de la base générale."
   ]
  },
  {
   "cell_type": "code",
   "execution_count": 844,
   "metadata": {
    "collapsed": false
   },
   "outputs": [
    {
     "name": "stdout",
     "output_type": "stream",
     "text": [
      "341\n",
      "(340, 11)\n"
     ]
    },
    {
     "data": {
      "text/html": [
       "<div>\n",
       "<table border=\"1\" class=\"dataframe\">\n",
       "  <thead>\n",
       "    <tr style=\"text-align: right;\">\n",
       "      <th></th>\n",
       "      <th>Adresse</th>\n",
       "      <th>Code Postal</th>\n",
       "      <th>Commentaire</th>\n",
       "      <th>Date du commentaire</th>\n",
       "      <th>Note</th>\n",
       "      <th>Origine</th>\n",
       "      <th>Resto</th>\n",
       "      <th>Ville</th>\n",
       "      <th>Id</th>\n",
       "      <th>Date</th>\n",
       "      <th>POND1</th>\n",
       "    </tr>\n",
       "  </thead>\n",
       "  <tbody>\n",
       "    <tr>\n",
       "      <th>0</th>\n",
       "      <td>64 Avenue Des Ternes</td>\n",
       "      <td></td>\n",
       "      <td>Menu unique à 75€ pour le réveillon pour un re...</td>\n",
       "      <td>04/01/2016</td>\n",
       "      <td>2</td>\n",
       "      <td>TripAdvisor</td>\n",
       "      <td>au petit marguery</td>\n",
       "      <td>Paris</td>\n",
       "      <td>941</td>\n",
       "      <td>20160104</td>\n",
       "      <td>0.0</td>\n",
       "    </tr>\n",
       "    <tr>\n",
       "      <th>1</th>\n",
       "      <td>162 Boulevard du Montparnasse</td>\n",
       "      <td>75014</td>\n",
       "      <td>Mise en confiance par les avis positifs, j'ai ...</td>\n",
       "      <td>27/04/2016</td>\n",
       "      <td>1</td>\n",
       "      <td>TripAdvisor</td>\n",
       "      <td>il forno di napoli - trattoria napoletana</td>\n",
       "      <td>Paris</td>\n",
       "      <td>3717</td>\n",
       "      <td>20160427</td>\n",
       "      <td>0.0</td>\n",
       "    </tr>\n",
       "    <tr>\n",
       "      <th>2</th>\n",
       "      <td>162 Boulevard du Montparnasse</td>\n",
       "      <td>75014</td>\n",
       "      <td>Très médiocre .La pâte est molle(pas cuite) le...</td>\n",
       "      <td>25/03/2016</td>\n",
       "      <td>2</td>\n",
       "      <td>TripAdvisor</td>\n",
       "      <td>il forno di napoli - trattoria napoletana</td>\n",
       "      <td>Paris</td>\n",
       "      <td>3727</td>\n",
       "      <td>20160325</td>\n",
       "      <td>0.5</td>\n",
       "    </tr>\n",
       "    <tr>\n",
       "      <th>3</th>\n",
       "      <td>102, Boulevard du Montparnasse</td>\n",
       "      <td>75014</td>\n",
       "      <td>Accueil horrible et sans politesse. Service in...</td>\n",
       "      <td>22/03/2016</td>\n",
       "      <td>1</td>\n",
       "      <td>TripAdvisor</td>\n",
       "      <td>la coupole</td>\n",
       "      <td>Paris</td>\n",
       "      <td>8074</td>\n",
       "      <td>20160322</td>\n",
       "      <td>0.0</td>\n",
       "    </tr>\n",
       "    <tr>\n",
       "      <th>4</th>\n",
       "      <td>102, Boulevard du Montparnasse</td>\n",
       "      <td>75014</td>\n",
       "      <td>Une grande déception, moi qui croyais découvri...</td>\n",
       "      <td>02/02/2016</td>\n",
       "      <td>2</td>\n",
       "      <td>TripAdvisor</td>\n",
       "      <td>la coupole</td>\n",
       "      <td>Paris</td>\n",
       "      <td>8145</td>\n",
       "      <td>20160202</td>\n",
       "      <td>1.0</td>\n",
       "    </tr>\n",
       "  </tbody>\n",
       "</table>\n",
       "</div>"
      ],
      "text/plain": [
       "                          Adresse Code Postal  \\\n",
       "0            64 Avenue Des Ternes               \n",
       "1   162 Boulevard du Montparnasse       75014   \n",
       "2   162 Boulevard du Montparnasse       75014   \n",
       "3  102, Boulevard du Montparnasse       75014   \n",
       "4  102, Boulevard du Montparnasse       75014   \n",
       "\n",
       "                                         Commentaire Date du commentaire  \\\n",
       "0  Menu unique à 75€ pour le réveillon pour un re...          04/01/2016   \n",
       "1  Mise en confiance par les avis positifs, j'ai ...          27/04/2016   \n",
       "2  Très médiocre .La pâte est molle(pas cuite) le...          25/03/2016   \n",
       "3  Accueil horrible et sans politesse. Service in...          22/03/2016   \n",
       "4  Une grande déception, moi qui croyais découvri...          02/02/2016   \n",
       "\n",
       "   Note      Origine                                      Resto  Ville    Id  \\\n",
       "0     2  TripAdvisor                          au petit marguery  Paris   941   \n",
       "1     1  TripAdvisor  il forno di napoli - trattoria napoletana  Paris  3717   \n",
       "2     2  TripAdvisor  il forno di napoli - trattoria napoletana  Paris  3727   \n",
       "3     1  TripAdvisor                                 la coupole  Paris  8074   \n",
       "4     2  TripAdvisor                                 la coupole  Paris  8145   \n",
       "\n",
       "       Date  POND1  \n",
       "0  20160104    0.0  \n",
       "1  20160427    0.0  \n",
       "2  20160325    0.5  \n",
       "3  20160322    0.0  \n",
       "4  20160202    1.0  "
      ]
     },
     "execution_count": 844,
     "metadata": {},
     "output_type": "execute_result"
    }
   ],
   "source": [
    "d = {}\n",
    "df_test = pandas.read_csv(\"base_DFG.csv\", encoding = \"utf-8\")\n",
    "for i in range(df_note_moyenne.shape[0]):\n",
    "    identifiant = df_note_moyenne.at[i, \"Id\"]\n",
    "    note = df_note_moyenne.at[i, \"Note_maison\"]\n",
    "    d[identifiant] = note\n",
    "print(len(d))\n",
    "for i in range(df_test.shape[0]):\n",
    "    identifiant = df_test.at[i, \"Id\"]\n",
    "    if identifiant in d:\n",
    "        df_test.at[i, \"POND1\"] = d[identifiant]\n",
    "df_pond1 = df_test[df_test.POND1 == df_test.POND1]\n",
    "df_pond1.reset_index(drop=True, inplace=True)\n",
    "print(df_pond1.shape)\n",
    "df_pond1.head()"
   ]
  },
  {
   "cell_type": "code",
   "execution_count": 845,
   "metadata": {
    "collapsed": true
   },
   "outputs": [],
   "source": [
    "df_pond1.to_csv(\"Commentaires notés.csv\", sep=\";\", index = False, encoding = 'utf-8')"
   ]
  },
  {
   "cell_type": "code",
   "execution_count": 13,
   "metadata": {
    "collapsed": false
   },
   "outputs": [
    {
     "data": {
      "text/html": [
       "<div>\n",
       "<table border=\"1\" class=\"dataframe\">\n",
       "  <thead>\n",
       "    <tr style=\"text-align: right;\">\n",
       "      <th></th>\n",
       "      <th>Adresse</th>\n",
       "      <th>Code Postal</th>\n",
       "      <th>Commentaire</th>\n",
       "      <th>Date du commentaire</th>\n",
       "      <th>Note</th>\n",
       "      <th>Origine</th>\n",
       "      <th>Resto</th>\n",
       "      <th>Ville</th>\n",
       "      <th>Id</th>\n",
       "      <th>Date</th>\n",
       "      <th>POND1</th>\n",
       "    </tr>\n",
       "  </thead>\n",
       "  <tbody>\n",
       "    <tr>\n",
       "      <th>0</th>\n",
       "      <td>64 Avenue Des Ternes</td>\n",
       "      <td></td>\n",
       "      <td>Menu unique à 75€ pour le réveillon pour un re...</td>\n",
       "      <td>04/01/2016</td>\n",
       "      <td>2</td>\n",
       "      <td>TripAdvisor</td>\n",
       "      <td>au petit marguery</td>\n",
       "      <td>Paris</td>\n",
       "      <td>941</td>\n",
       "      <td>20160104</td>\n",
       "      <td>0.0</td>\n",
       "    </tr>\n",
       "    <tr>\n",
       "      <th>1</th>\n",
       "      <td>162 Boulevard du Montparnasse</td>\n",
       "      <td>75014</td>\n",
       "      <td>Mise en confiance par les avis positifs, j'ai ...</td>\n",
       "      <td>27/04/2016</td>\n",
       "      <td>1</td>\n",
       "      <td>TripAdvisor</td>\n",
       "      <td>il forno di napoli - trattoria napoletana</td>\n",
       "      <td>Paris</td>\n",
       "      <td>3717</td>\n",
       "      <td>20160427</td>\n",
       "      <td>0.0</td>\n",
       "    </tr>\n",
       "    <tr>\n",
       "      <th>2</th>\n",
       "      <td>162 Boulevard du Montparnasse</td>\n",
       "      <td>75014</td>\n",
       "      <td>Très médiocre .La pâte est molle(pas cuite) le...</td>\n",
       "      <td>25/03/2016</td>\n",
       "      <td>2</td>\n",
       "      <td>TripAdvisor</td>\n",
       "      <td>il forno di napoli - trattoria napoletana</td>\n",
       "      <td>Paris</td>\n",
       "      <td>3727</td>\n",
       "      <td>20160325</td>\n",
       "      <td>0.5</td>\n",
       "    </tr>\n",
       "    <tr>\n",
       "      <th>3</th>\n",
       "      <td>102, Boulevard du Montparnasse</td>\n",
       "      <td>75014</td>\n",
       "      <td>Accueil horrible et sans politesse. Service in...</td>\n",
       "      <td>22/03/2016</td>\n",
       "      <td>1</td>\n",
       "      <td>TripAdvisor</td>\n",
       "      <td>la coupole</td>\n",
       "      <td>Paris</td>\n",
       "      <td>8074</td>\n",
       "      <td>20160322</td>\n",
       "      <td>0.0</td>\n",
       "    </tr>\n",
       "    <tr>\n",
       "      <th>4</th>\n",
       "      <td>102, Boulevard du Montparnasse</td>\n",
       "      <td>75014</td>\n",
       "      <td>Une grande déception, moi qui croyais découvri...</td>\n",
       "      <td>02/02/2016</td>\n",
       "      <td>2</td>\n",
       "      <td>TripAdvisor</td>\n",
       "      <td>la coupole</td>\n",
       "      <td>Paris</td>\n",
       "      <td>8145</td>\n",
       "      <td>20160202</td>\n",
       "      <td>1.0</td>\n",
       "    </tr>\n",
       "  </tbody>\n",
       "</table>\n",
       "</div>"
      ],
      "text/plain": [
       "                          Adresse Code Postal  \\\n",
       "0            64 Avenue Des Ternes               \n",
       "1   162 Boulevard du Montparnasse       75014   \n",
       "2   162 Boulevard du Montparnasse       75014   \n",
       "3  102, Boulevard du Montparnasse       75014   \n",
       "4  102, Boulevard du Montparnasse       75014   \n",
       "\n",
       "                                         Commentaire Date du commentaire  \\\n",
       "0  Menu unique à 75€ pour le réveillon pour un re...          04/01/2016   \n",
       "1  Mise en confiance par les avis positifs, j'ai ...          27/04/2016   \n",
       "2  Très médiocre .La pâte est molle(pas cuite) le...          25/03/2016   \n",
       "3  Accueil horrible et sans politesse. Service in...          22/03/2016   \n",
       "4  Une grande déception, moi qui croyais découvri...          02/02/2016   \n",
       "\n",
       "   Note      Origine                                      Resto  Ville    Id  \\\n",
       "0     2  TripAdvisor                          au petit marguery  Paris   941   \n",
       "1     1  TripAdvisor  il forno di napoli - trattoria napoletana  Paris  3717   \n",
       "2     2  TripAdvisor  il forno di napoli - trattoria napoletana  Paris  3727   \n",
       "3     1  TripAdvisor                                 la coupole  Paris  8074   \n",
       "4     2  TripAdvisor                                 la coupole  Paris  8145   \n",
       "\n",
       "       Date  POND1  \n",
       "0  20160104    0.0  \n",
       "1  20160427    0.0  \n",
       "2  20160325    0.5  \n",
       "3  20160322    0.0  \n",
       "4  20160202    1.0  "
      ]
     },
     "execution_count": 13,
     "metadata": {},
     "output_type": "execute_result"
    }
   ],
   "source": [
    "df_pond1 = pandas.read_csv(\"Commentaires notés.csv\", sep=\";\", encoding = \"utf-8\")\n",
    "df_pond1.head()"
   ]
  },
  {
   "cell_type": "markdown",
   "metadata": {},
   "source": [
    "Pour chacun de ces commentaires, on sélectionne les mots les plus discriminants."
   ]
  },
  {
   "cell_type": "code",
   "execution_count": 14,
   "metadata": {
    "collapsed": true
   },
   "outputs": [],
   "source": [
    "sent_detector = nltk.data.load('tokenizers/punkt/french.pickle')\n",
    "stemmer = SnowballStemmer('french')\n",
    "tokenizer = RegexpTokenizer(r'\\w+')\n",
    "\n",
    "def compute_corpus(corpus, with_stemmer=True):\n",
    "    dico = {}\n",
    "    nb_sentence = 0\n",
    "    for sentence in sent_detector.tokenize(corpus):\n",
    "        nb_sentence += 1\n",
    "        for token in tokenizer.tokenize(sentence.lower()):\n",
    "            if token.lower() not in stopwords:\n",
    "                if with_stemmer:\n",
    "                    stem = stemmer.stem(token.lower())\n",
    "                else:\n",
    "                    stem = token.lower()\n",
    "                if stem in dico:\n",
    "                    dico[stem] += 1\n",
    "                else:\n",
    "                    dico[stem] = 1\n",
    "    return dico\n",
    "\n",
    "def tf_idf(commentaire, dico_corpus, with_stemmer=True):\n",
    "    score = {}\n",
    "    dico = {}\n",
    "    for sentence in sent_detector.tokenize(commentaire):\n",
    "        for token in tokenizer.tokenize(sentence.lower()):\n",
    "            if token.lower() not in stopwords:\n",
    "                if with_stemmer:\n",
    "                    stem = stemmer.stem(token.lower())\n",
    "                else:\n",
    "                    stem = token.lower()\n",
    "                if stem in dico:\n",
    "                    dico[stem] += 1\n",
    "                else:\n",
    "                    dico[stem] = 1\n",
    "    for mot in dico:\n",
    "        score[mot] = dico[mot] * math.log(1 / dico_corpus[mot])\n",
    "    return score\n",
    "\n",
    "def tri_dico_byvalue(dico):\n",
    "    sorted_value = sorted(set(dico.values()), reverse=True)\n",
    "    sorted_key = []\n",
    "    for i in sorted_value:\n",
    "        for j in dico:\n",
    "            if dico[j] == i:\n",
    "                sorted_key.append(j)\n",
    "    return sorted_key"
   ]
  },
  {
   "cell_type": "markdown",
   "metadata": {},
   "source": [
    "On récupère l'ensemble de nos commentaires pour mesurer la fréquence d'apparition des mots."
   ]
  },
  {
   "cell_type": "code",
   "execution_count": 13,
   "metadata": {
    "collapsed": false
   },
   "outputs": [
    {
     "name": "stdout",
     "output_type": "stream",
     "text": [
      "22802620\n"
     ]
    }
   ],
   "source": [
    "corpus_commentaire = \"\"\n",
    "for i in range (df.shape[0]):\n",
    "    x = df.at[i, \"Commentaire\"]\n",
    "    corpus_commentaire += \" \" + x\n",
    "print(len(corpus_commentaire))"
   ]
  },
  {
   "cell_type": "code",
   "execution_count": 871,
   "metadata": {
    "collapsed": false
   },
   "outputs": [],
   "source": [
    "dico_corpus_stemmer = compute_corpus(corpus_commentaire)\n",
    "dico_corpus = compute_corpus(corpus_commentaire, False)\n",
    "with open('dico_corpus_stemmer.csv', 'w') as f:\n",
    "    w = csv.DictWriter(f, dico_corpus_stemmer.keys())\n",
    "    w.writeheader()\n",
    "    w.writerow(dico_corpus_stemmer)\n",
    "with open('dico_corpus.csv', 'w') as f:\n",
    "    w = csv.DictWriter(f, dico_corpus.keys())\n",
    "    w.writeheader()\n",
    "    w.writerow(dico_corpus)"
   ]
  },
  {
   "cell_type": "code",
   "execution_count": 15,
   "metadata": {
    "collapsed": false
   },
   "outputs": [
    {
     "name": "stdout",
     "output_type": "stream",
     "text": [
      "28917\n",
      "49845\n"
     ]
    }
   ],
   "source": [
    "reader = csv.reader(open('dico_corpus_stemmer.csv', 'r'))\n",
    "keys, values = reader\n",
    "dico_corpus_stemmer = {}\n",
    "n = len(keys)\n",
    "for i in range(n):\n",
    "    dico_corpus_stemmer[keys[i]] = values[i]\n",
    "print(len(dico_corpus_stemmer))\n",
    "reader = csv.reader(open('dico_corpus.csv', 'r'))\n",
    "keys, values = reader\n",
    "dico_corpus = {}\n",
    "n = len(keys)\n",
    "for i in range(n):\n",
    "    dico_corpus[keys[i]] = int(values[i])\n",
    "print(len(dico_corpus))"
   ]
  },
  {
   "cell_type": "markdown",
   "metadata": {},
   "source": [
    "On pondère nos mots clés en fonction de la note d'hygiène attribuée à ces commentaires."
   ]
  },
  {
   "cell_type": "code",
   "execution_count": 16,
   "metadata": {
    "collapsed": false
   },
   "outputs": [
    {
     "data": {
      "text/plain": [
       "2518"
      ]
     },
     "execution_count": 16,
     "metadata": {},
     "output_type": "execute_result"
    }
   ],
   "source": [
    "mot_cle = {}\n",
    "frequence_mot = {}\n",
    "for i in range(df_pond1.shape[0]):\n",
    "    # on récupère le commentaire et sa note moyenne d'hygiène\n",
    "    commentaire = df_pond1.at[i, \"Commentaire\"]\n",
    "    note = df_pond1.at[i, \"POND1\"]\n",
    "    # on récupère sa liste de mots les plus discriminants\n",
    "    x = tri_dico_byvalue(tf_idf(commentaire, dico_corpus, False))\n",
    "    n = int(len(x)/3) # on récupère le tiers des mots les plus discriminants\n",
    "    mots_discriminants = x[:n]\n",
    "    # pour chaque mot de cette liste, on lui associe la note du commentaire et note son apparition\n",
    "    for mot in mots_discriminants:\n",
    "        if mot in mot_cle:\n",
    "            mot_cle[mot] += note\n",
    "        else:\n",
    "            mot_cle[mot] = note\n",
    "        if mot in frequence_mot:\n",
    "            frequence_mot[mot] += 1\n",
    "        else:\n",
    "            frequence_mot[mot] = 1\n",
    "\n",
    "# pour chaque mot on calcule sa moyenne sur l'ensemble des commentaires dans lesquels il est apparu, plus un coefficient\n",
    "for mot in mot_cle:\n",
    "    mot_cle[mot] = (mot_cle[mot] / frequence_mot[mot]) \n",
    "\n",
    "len(mot_cle)"
   ]
  },
  {
   "cell_type": "code",
   "execution_count": 17,
   "metadata": {
    "collapsed": false
   },
   "outputs": [
    {
     "name": "stdout",
     "output_type": "stream",
     "text": [
      "10.0\n",
      "0.0\n"
     ]
    },
    {
     "data": {
      "text/plain": [
       "(array([  2.07100000e+03,   2.77000000e+02,   8.90000000e+01,\n",
       "          6.00000000e+00,   0.00000000e+00,   1.40000000e+01,\n",
       "          1.00000000e+00,   0.00000000e+00,   1.00000000e+00,\n",
       "          5.90000000e+01]),\n",
       " array([  0.,   1.,   2.,   3.,   4.,   5.,   6.,   7.,   8.,   9.,  10.]),\n",
       " <a list of 10 Patch objects>)"
      ]
     },
     "execution_count": 17,
     "metadata": {},
     "output_type": "execute_result"
    },
    {
     "data": {
      "image/png": "[encoded data removed]",
      "text/plain": [
       "<matplotlib.figure.Figure at 0x10f36cb00>"
      ]
     },
     "metadata": {},
     "output_type": "display_data"
    }
   ],
   "source": [
    "print(max(list(mot_cle.values())))\n",
    "print(min(list(mot_cle.values())))\n",
    "plt.hist(list(mot_cle.values()))"
   ]
  },
  {
   "cell_type": "markdown",
   "metadata": {},
   "source": [
    "On ne garde que les mots les plus significatifs."
   ]
  },
  {
   "cell_type": "code",
   "execution_count": 18,
   "metadata": {
    "collapsed": false,
    "scrolled": true
   },
   "outputs": [
    {
     "name": "stdout",
     "output_type": "stream",
     "text": [
      "60\n"
     ]
    },
    {
     "data": {
      "text/plain": [
       "['nori',\n",
       " 'pékinois',\n",
       " 'horribles',\n",
       " 'guère',\n",
       " 'traversent',\n",
       " 'loc',\n",
       " 'canapés',\n",
       " 'nantua',\n",
       " 'remarques',\n",
       " 'réfrigérateur',\n",
       " 'gaufres',\n",
       " 'marnière',\n",
       " 'écrevisse',\n",
       " 'alimentaire',\n",
       " 'plas',\n",
       " 'comprenons',\n",
       " 'vomi',\n",
       " '16',\n",
       " 'hawai',\n",
       " 'poubelle',\n",
       " 'sourd',\n",
       " 'gluant',\n",
       " 'criant',\n",
       " 'épicée',\n",
       " 'scandaleux',\n",
       " 'obligé',\n",
       " 'attendaient',\n",
       " 'exception',\n",
       " 'proposé',\n",
       " 'fraiches',\n",
       " 'désobligeantes',\n",
       " 'brulé',\n",
       " 'miushi',\n",
       " 'nuits',\n",
       " 'gluante',\n",
       " 'lendemain',\n",
       " 'poivre',\n",
       " 'commissariat',\n",
       " 'intoxication',\n",
       " 'malades',\n",
       " 'tombées',\n",
       " 'étonnant',\n",
       " 'oreille',\n",
       " 'indigestion',\n",
       " 'gave',\n",
       " 'assaisonnées',\n",
       " 'cuisiniers',\n",
       " 'pulperia',\n",
       " 'sept',\n",
       " 'courent',\n",
       " 'perte',\n",
       " 'retiendra',\n",
       " 'cru',\n",
       " 'infectes',\n",
       " 'pompon',\n",
       " 'potage',\n",
       " 'ventre',\n",
       " 'lac',\n",
       " 'chères',\n",
       " 'malade']"
      ]
     },
     "execution_count": 18,
     "metadata": {},
     "output_type": "execute_result"
    }
   ],
   "source": [
    "top_mot_cle = {}\n",
    "for mot in mot_cle:\n",
    "    if mot_cle[mot] > 6:\n",
    "        top_mot_cle[mot] = mot_cle[mot]\n",
    "print(len(top_mot_cle))\n",
    "tri_dico_byvalue(top_mot_cle)"
   ]
  },
  {
   "cell_type": "markdown",
   "metadata": {},
   "source": [
    "# Notation automatique de l'hygiène de tous les commentaires"
   ]
  },
  {
   "cell_type": "markdown",
   "metadata": {
    "collapsed": true
   },
   "source": [
    "On attribue une note d'hygiène à tous les commentaires grâce à nos mots clés pondérés."
   ]
  },
  {
   "cell_type": "code",
   "execution_count": 19,
   "metadata": {
    "collapsed": false
   },
   "outputs": [
    {
     "data": {
      "text/html": [
       "<div>\n",
       "<table border=\"1\" class=\"dataframe\">\n",
       "  <thead>\n",
       "    <tr style=\"text-align: right;\">\n",
       "      <th></th>\n",
       "      <th>Adresse</th>\n",
       "      <th>Code Postal</th>\n",
       "      <th>Commentaire</th>\n",
       "      <th>Date du commentaire</th>\n",
       "      <th>Note</th>\n",
       "      <th>Origine</th>\n",
       "      <th>Resto</th>\n",
       "      <th>Ville</th>\n",
       "      <th>Id</th>\n",
       "      <th>Date</th>\n",
       "      <th>Note_hyg</th>\n",
       "    </tr>\n",
       "  </thead>\n",
       "  <tbody>\n",
       "    <tr>\n",
       "      <th>0</th>\n",
       "      <td>63 AV MOZART</td>\n",
       "      <td>75016</td>\n",
       "      <td>Un accueil hyper chaleureux! Les gérants sont ...</td>\n",
       "      <td>30/04/2016</td>\n",
       "      <td>5</td>\n",
       "      <td>TripAdvisor</td>\n",
       "      <td>macis cafe</td>\n",
       "      <td>Paris</td>\n",
       "      <td>0</td>\n",
       "      <td>20160430</td>\n",
       "      <td>5.000000</td>\n",
       "    </tr>\n",
       "    <tr>\n",
       "      <th>1</th>\n",
       "      <td>63 AV MOZART</td>\n",
       "      <td>75016</td>\n",
       "      <td>Nous cherchions à déjeuner, seul bémol, l'heur...</td>\n",
       "      <td>21/04/2016</td>\n",
       "      <td>4</td>\n",
       "      <td>TripAdvisor</td>\n",
       "      <td>macis cafe</td>\n",
       "      <td>Paris</td>\n",
       "      <td>1</td>\n",
       "      <td>20160421</td>\n",
       "      <td>4.800000</td>\n",
       "    </tr>\n",
       "    <tr>\n",
       "      <th>2</th>\n",
       "      <td>63 AV MOZART</td>\n",
       "      <td>75016</td>\n",
       "      <td>Des plats réalisés à partir de produits frais ...</td>\n",
       "      <td>10/02/2016</td>\n",
       "      <td>3</td>\n",
       "      <td>TripAdvisor</td>\n",
       "      <td>macis cafe</td>\n",
       "      <td>Paris</td>\n",
       "      <td>2</td>\n",
       "      <td>20160210</td>\n",
       "      <td>5.000000</td>\n",
       "    </tr>\n",
       "    <tr>\n",
       "      <th>3</th>\n",
       "      <td>90 Rue des Orteaux</td>\n",
       "      <td>75020</td>\n",
       "      <td>Restaurant Sushi plutot correct dans l ensembl...</td>\n",
       "      <td>27/02/2016</td>\n",
       "      <td>3</td>\n",
       "      <td>TripAdvisor</td>\n",
       "      <td>sushi tomi</td>\n",
       "      <td>Paris</td>\n",
       "      <td>3</td>\n",
       "      <td>20160227</td>\n",
       "      <td>4.833333</td>\n",
       "    </tr>\n",
       "    <tr>\n",
       "      <th>4</th>\n",
       "      <td>90 Rue des Orteaux</td>\n",
       "      <td>75020</td>\n",
       "      <td>Déçue de ma dernière visite car impossible de ...</td>\n",
       "      <td>17/01/2016</td>\n",
       "      <td>3</td>\n",
       "      <td>TripAdvisor</td>\n",
       "      <td>sushi tomi</td>\n",
       "      <td>Paris</td>\n",
       "      <td>4</td>\n",
       "      <td>20160117</td>\n",
       "      <td>4.900000</td>\n",
       "    </tr>\n",
       "  </tbody>\n",
       "</table>\n",
       "</div>"
      ],
      "text/plain": [
       "              Adresse Code Postal  \\\n",
       "0        63 AV MOZART       75016   \n",
       "1        63 AV MOZART       75016   \n",
       "2        63 AV MOZART       75016   \n",
       "3  90 Rue des Orteaux       75020   \n",
       "4  90 Rue des Orteaux       75020   \n",
       "\n",
       "                                         Commentaire Date du commentaire  \\\n",
       "0  Un accueil hyper chaleureux! Les gérants sont ...          30/04/2016   \n",
       "1  Nous cherchions à déjeuner, seul bémol, l'heur...          21/04/2016   \n",
       "2  Des plats réalisés à partir de produits frais ...          10/02/2016   \n",
       "3  Restaurant Sushi plutot correct dans l ensembl...          27/02/2016   \n",
       "4  Déçue de ma dernière visite car impossible de ...          17/01/2016   \n",
       "\n",
       "   Note      Origine       Resto  Ville  Id      Date  Note_hyg  \n",
       "0     5  TripAdvisor  macis cafe  Paris   0  20160430  5.000000  \n",
       "1     4  TripAdvisor  macis cafe  Paris   1  20160421  4.800000  \n",
       "2     3  TripAdvisor  macis cafe  Paris   2  20160210  5.000000  \n",
       "3     3  TripAdvisor  sushi tomi  Paris   3  20160227  4.833333  \n",
       "4     3  TripAdvisor  sushi tomi  Paris   4  20160117  4.900000  "
      ]
     },
     "execution_count": 19,
     "metadata": {},
     "output_type": "execute_result"
    }
   ],
   "source": [
    "stemmer = SnowballStemmer('french')\n",
    "tokenizer = RegexpTokenizer(r'\\w+')\n",
    "for i in range(df.shape[0]):\n",
    "    df.at[i, \"Pondération_hyg\"] = 0 # on initialise nos valeurs\n",
    "    commentaire = df.at[i, \"Commentaire\"]\n",
    "    x = tri_dico_byvalue(tf_idf(commentaire, dico_corpus, False))\n",
    "    nb_mots = 0\n",
    "    x = x[:(int(len(x)/3))] # on ne récupère que le tiers des mots les plus discriminants pour le commentaire\n",
    "    for mot in x:\n",
    "        if mot in mot_cle:\n",
    "            nb_mots += 1\n",
    "            df.at[i, \"Pondération_hyg\"] += mot_cle[mot]\n",
    "    if nb_mots != 0:\n",
    "        df.at[i, \"Pondération_hyg\"] = df.at[i, \"Pondération_hyg\"] / nb_mots\n",
    "    # on normalise notre note\n",
    "    df.at[i,\"Note_hyg\"] = 5 - (df.at[i,\"Pondération_hyg\"] * 4 / 10)\n",
    "del df[\"Pondération_hyg\"]\n",
    "df.head()"
   ]
  },
  {
   "cell_type": "code",
   "execution_count": 20,
   "metadata": {
    "collapsed": false
   },
   "outputs": [
    {
     "name": "stdout",
     "output_type": "stream",
     "text": [
      "5.0\n",
      "1.0\n"
     ]
    },
    {
     "data": {
      "text/plain": [
       "(array([  4.92000000e+02,   1.20000000e+01,   7.00000000e+00,\n",
       "          3.00000000e+01,   3.23000000e+02,   6.12000000e+02,\n",
       "          8.45000000e+02,   1.22800000e+03,   3.37100000e+03,\n",
       "          7.89770000e+04]),\n",
       " array([ 1. ,  1.4,  1.8,  2.2,  2.6,  3. ,  3.4,  3.8,  4.2,  4.6,  5. ]),\n",
       " <a list of 10 Patch objects>)"
      ]
     },
     "execution_count": 20,
     "metadata": {},
     "output_type": "execute_result"
    },
    {
     "data": {
      "image/png": "[encoded data removed]",
      "text/plain": [
       "<matplotlib.figure.Figure at 0x10f36ca58>"
      ]
     },
     "metadata": {},
     "output_type": "display_data"
    }
   ],
   "source": [
    "print(max(df.Note_hyg))\n",
    "print(min(df.Note_hyg))\n",
    "plt.hist(list(df.Note_hyg))"
   ]
  },
  {
   "cell_type": "markdown",
   "metadata": {},
   "source": [
    "# Classification"
   ]
  },
  {
   "cell_type": "markdown",
   "metadata": {},
   "source": [
    "Pour chaque restaurant, on calcul ses notes moyennes et la variance des notes de ses commentaires."
   ]
  },
  {
   "cell_type": "code",
   "execution_count": 21,
   "metadata": {
    "collapsed": false
   },
   "outputs": [],
   "source": [
    "k = 5 # seuil au delà duquel les notes d'hygiène ne sont pas prise en compte\n",
    "informations_restos = {}\n",
    "liste_nom_resto = df.Resto.unique()\n",
    "for resto in liste_nom_resto:\n",
    "    df_resto = df[df.Resto == resto]\n",
    "    note_off_resto = sum(df_resto.Note)/len(df_resto.Note)\n",
    "    if len(df_resto[df_resto.Note_hyg < k].Note_hyg) > 0:\n",
    "        note_hyg_resto = sum(df_resto[df_resto.Note_hyg < k].Note_hyg)/len(df_resto[df_resto.Note_hyg < k].Note_hyg)\n",
    "    else:\n",
    "        note_hyg_resto = sum(df_resto.Note_hyg)/len(df_resto.Note_hyg)\n",
    "    var_off = np.var(df_resto.Note)\n",
    "    var_hyg = np.var(df_resto[df_resto.Note_hyg < k].Note_hyg)\n",
    "    informations_restos[resto] = (note_off_resto, note_hyg_resto, var_off, var_hyg)"
   ]
  },
  {
   "cell_type": "code",
   "execution_count": 22,
   "metadata": {
    "collapsed": true
   },
   "outputs": [],
   "source": [
    "for i in range(df.shape[0]):\n",
    "    resto = df.at[i, \"Resto\"]\n",
    "    df.at[i, \"Note_resto\"] = informations_restos[resto][0]\n",
    "    df.at[i, \"Note_hygiène_resto\"] = informations_restos[resto][1]\n",
    "    df.at[i, \"Variance_note_resto\"] = informations_restos[resto][2]\n",
    "    df.at[i, \"Variance_note_hygiène_resto\"] = informations_restos[resto][3]"
   ]
  },
  {
   "cell_type": "code",
   "execution_count": 23,
   "metadata": {
    "collapsed": false
   },
   "outputs": [
    {
     "data": {
      "text/html": [
       "<div>\n",
       "<table border=\"1\" class=\"dataframe\">\n",
       "  <thead>\n",
       "    <tr style=\"text-align: right;\">\n",
       "      <th></th>\n",
       "      <th>Adresse</th>\n",
       "      <th>Code Postal</th>\n",
       "      <th>Commentaire</th>\n",
       "      <th>Date du commentaire</th>\n",
       "      <th>Note</th>\n",
       "      <th>Origine</th>\n",
       "      <th>Resto</th>\n",
       "      <th>Ville</th>\n",
       "      <th>Id</th>\n",
       "      <th>Date</th>\n",
       "      <th>Note_hyg</th>\n",
       "      <th>Note_resto</th>\n",
       "      <th>Note_hygiène_resto</th>\n",
       "      <th>Variance_note_resto</th>\n",
       "      <th>Variance_note_hygiène_resto</th>\n",
       "    </tr>\n",
       "  </thead>\n",
       "  <tbody>\n",
       "    <tr>\n",
       "      <th>0</th>\n",
       "      <td>63 AV MOZART</td>\n",
       "      <td>75016</td>\n",
       "      <td>Un accueil hyper chaleureux! Les gérants sont ...</td>\n",
       "      <td>30/04/2016</td>\n",
       "      <td>5</td>\n",
       "      <td>TripAdvisor</td>\n",
       "      <td>macis cafe</td>\n",
       "      <td>Paris</td>\n",
       "      <td>0</td>\n",
       "      <td>20160430</td>\n",
       "      <td>5.000000</td>\n",
       "      <td>4</td>\n",
       "      <td>4.800000</td>\n",
       "      <td>0.666667</td>\n",
       "      <td>0.000000</td>\n",
       "    </tr>\n",
       "    <tr>\n",
       "      <th>1</th>\n",
       "      <td>63 AV MOZART</td>\n",
       "      <td>75016</td>\n",
       "      <td>Nous cherchions à déjeuner, seul bémol, l'heur...</td>\n",
       "      <td>21/04/2016</td>\n",
       "      <td>4</td>\n",
       "      <td>TripAdvisor</td>\n",
       "      <td>macis cafe</td>\n",
       "      <td>Paris</td>\n",
       "      <td>1</td>\n",
       "      <td>20160421</td>\n",
       "      <td>4.800000</td>\n",
       "      <td>4</td>\n",
       "      <td>4.800000</td>\n",
       "      <td>0.666667</td>\n",
       "      <td>0.000000</td>\n",
       "    </tr>\n",
       "    <tr>\n",
       "      <th>2</th>\n",
       "      <td>63 AV MOZART</td>\n",
       "      <td>75016</td>\n",
       "      <td>Des plats réalisés à partir de produits frais ...</td>\n",
       "      <td>10/02/2016</td>\n",
       "      <td>3</td>\n",
       "      <td>TripAdvisor</td>\n",
       "      <td>macis cafe</td>\n",
       "      <td>Paris</td>\n",
       "      <td>2</td>\n",
       "      <td>20160210</td>\n",
       "      <td>5.000000</td>\n",
       "      <td>4</td>\n",
       "      <td>4.800000</td>\n",
       "      <td>0.666667</td>\n",
       "      <td>0.000000</td>\n",
       "    </tr>\n",
       "    <tr>\n",
       "      <th>3</th>\n",
       "      <td>90 Rue des Orteaux</td>\n",
       "      <td>75020</td>\n",
       "      <td>Restaurant Sushi plutot correct dans l ensembl...</td>\n",
       "      <td>27/02/2016</td>\n",
       "      <td>3</td>\n",
       "      <td>TripAdvisor</td>\n",
       "      <td>sushi tomi</td>\n",
       "      <td>Paris</td>\n",
       "      <td>3</td>\n",
       "      <td>20160227</td>\n",
       "      <td>4.833333</td>\n",
       "      <td>3</td>\n",
       "      <td>4.866667</td>\n",
       "      <td>0.000000</td>\n",
       "      <td>0.001111</td>\n",
       "    </tr>\n",
       "    <tr>\n",
       "      <th>4</th>\n",
       "      <td>90 Rue des Orteaux</td>\n",
       "      <td>75020</td>\n",
       "      <td>Déçue de ma dernière visite car impossible de ...</td>\n",
       "      <td>17/01/2016</td>\n",
       "      <td>3</td>\n",
       "      <td>TripAdvisor</td>\n",
       "      <td>sushi tomi</td>\n",
       "      <td>Paris</td>\n",
       "      <td>4</td>\n",
       "      <td>20160117</td>\n",
       "      <td>4.900000</td>\n",
       "      <td>3</td>\n",
       "      <td>4.866667</td>\n",
       "      <td>0.000000</td>\n",
       "      <td>0.001111</td>\n",
       "    </tr>\n",
       "  </tbody>\n",
       "</table>\n",
       "</div>"
      ],
      "text/plain": [
       "              Adresse Code Postal  \\\n",
       "0        63 AV MOZART       75016   \n",
       "1        63 AV MOZART       75016   \n",
       "2        63 AV MOZART       75016   \n",
       "3  90 Rue des Orteaux       75020   \n",
       "4  90 Rue des Orteaux       75020   \n",
       "\n",
       "                                         Commentaire Date du commentaire  \\\n",
       "0  Un accueil hyper chaleureux! Les gérants sont ...          30/04/2016   \n",
       "1  Nous cherchions à déjeuner, seul bémol, l'heur...          21/04/2016   \n",
       "2  Des plats réalisés à partir de produits frais ...          10/02/2016   \n",
       "3  Restaurant Sushi plutot correct dans l ensembl...          27/02/2016   \n",
       "4  Déçue de ma dernière visite car impossible de ...          17/01/2016   \n",
       "\n",
       "   Note      Origine       Resto  Ville  Id      Date  Note_hyg  Note_resto  \\\n",
       "0     5  TripAdvisor  macis cafe  Paris   0  20160430  5.000000           4   \n",
       "1     4  TripAdvisor  macis cafe  Paris   1  20160421  4.800000           4   \n",
       "2     3  TripAdvisor  macis cafe  Paris   2  20160210  5.000000           4   \n",
       "3     3  TripAdvisor  sushi tomi  Paris   3  20160227  4.833333           3   \n",
       "4     3  TripAdvisor  sushi tomi  Paris   4  20160117  4.900000           3   \n",
       "\n",
       "   Note_hygiène_resto  Variance_note_resto  Variance_note_hygiène_resto  \n",
       "0            4.800000             0.666667                     0.000000  \n",
       "1            4.800000             0.666667                     0.000000  \n",
       "2            4.800000             0.666667                     0.000000  \n",
       "3            4.866667             0.000000                     0.001111  \n",
       "4            4.866667             0.000000                     0.001111  "
      ]
     },
     "execution_count": 23,
     "metadata": {},
     "output_type": "execute_result"
    }
   ],
   "source": [
    "df.head()"
   ]
  },
  {
   "cell_type": "markdown",
   "metadata": {},
   "source": [
    "On fait des graphiques avec ces variables."
   ]
  },
  {
   "cell_type": "code",
   "execution_count": 24,
   "metadata": {
    "collapsed": false
   },
   "outputs": [
    {
     "data": {
      "image/png": "[encoded data removed]",
      "text/plain": [
       "<matplotlib.figure.Figure at 0x10d8cf710>"
      ]
     },
     "metadata": {},
     "output_type": "display_data"
    }
   ],
   "source": [
    "plt.scatter(df[\"Note_resto\"] , df[\"Note_hygiène_resto\"], s=20)\n",
    "plt.show()"
   ]
  },
  {
   "cell_type": "code",
   "execution_count": 25,
   "metadata": {
    "collapsed": false
   },
   "outputs": [
    {
     "data": {
      "image/png": "[encoded data removed]",
      "text/plain": [
       "<matplotlib.figure.Figure at 0x10d7603c8>"
      ]
     },
     "metadata": {},
     "output_type": "display_data"
    }
   ],
   "source": [
    "plt.scatter(df[\"Variance_note_resto\"], df[\"Note_resto\"], s=20)\n",
    "plt.show()"
   ]
  },
  {
   "cell_type": "code",
   "execution_count": 26,
   "metadata": {
    "collapsed": false
   },
   "outputs": [
    {
     "data": {
      "image/png": "[encoded data removed]",
      "text/plain": [
       "<matplotlib.figure.Figure at 0x10d931978>"
      ]
     },
     "metadata": {},
     "output_type": "display_data"
    }
   ],
   "source": [
    "plt.scatter(df[\"Variance_note_resto\"], df[\"Variance_note_hygiène_resto\"])\n",
    "plt.show()"
   ]
  },
  {
   "cell_type": "code",
   "execution_count": 27,
   "metadata": {
    "collapsed": false
   },
   "outputs": [
    {
     "data": {
      "image/png": "[encoded data removed]",
      "text/plain": [
       "<matplotlib.figure.Figure at 0x10d94b400>"
      ]
     },
     "metadata": {},
     "output_type": "display_data"
    }
   ],
   "source": [
    "plt.scatter(df[\"Note_hyg\"], df[\"Note\"], s=20)\n",
    "plt.show()"
   ]
  },
  {
   "cell_type": "markdown",
   "metadata": {},
   "source": [
    "On applique sur nos restaurants un modèle de classification."
   ]
  },
  {
   "cell_type": "code",
   "execution_count": null,
   "metadata": {
    "collapsed": true
   },
   "outputs": [],
   "source": []
  },
  {
   "cell_type": "code",
   "execution_count": null,
   "metadata": {
    "collapsed": true
   },
   "outputs": [],
   "source": []
  },
  {
   "cell_type": "code",
   "execution_count": null,
   "metadata": {
    "collapsed": true
   },
   "outputs": [],
   "source": []
  },
  {
   "cell_type": "markdown",
   "metadata": {
    "collapsed": true
   },
   "source": [
    "# Nuages de mots et carte"
   ]
  },
  {
   "cell_type": "markdown",
   "metadata": {
    "collapsed": true
   },
   "source": [
    "On reprend nos mots les plus discriminants, pondérés par leur fréquence d'apparition. "
   ]
  },
  {
   "cell_type": "code",
   "execution_count": 28,
   "metadata": {
    "collapsed": false
   },
   "outputs": [
    {
     "name": "stdout",
     "output_type": "stream",
     "text": [
      "10.0\n",
      "0.0\n"
     ]
    }
   ],
   "source": [
    "score_nuage = {}\n",
    "for mot in mot_cle:\n",
    "    score_nuage[mot] = mot_cle[mot]\n",
    "print(max(list(score_nuage.values())))\n",
    "print(min(list(score_nuage.values())))\n",
    "#tri_dico_byvalue(score_nuage)"
   ]
  },
  {
   "cell_type": "code",
   "execution_count": 98,
   "metadata": {
    "collapsed": false,
    "scrolled": true
   },
   "outputs": [
    {
     "name": "stdout",
     "output_type": "stream",
     "text": [
      "10.0\n",
      "0.0179533213645\n",
      "60\n"
     ]
    }
   ],
   "source": [
    "top_score_nuage = {}\n",
    "for mot in top_mot_cle:\n",
    "    top_score_nuage[mot] = top_mot_cle[mot] / dico_corpus[mot]\n",
    "print(max(list(top_score_nuage.values())))\n",
    "print(min(list(top_score_nuage.values())))\n",
    "print(len(top_score_nuage))\n",
    "with open('top_score_nuage.csv', 'w') as f:\n",
    "    w = csv.DictWriter(f, top_score_nuage.keys())\n",
    "    w.writeheader()\n",
    "    w.writerow(top_score_nuage)"
   ]
  },
  {
   "cell_type": "code",
   "execution_count": 99,
   "metadata": {
    "collapsed": false,
    "scrolled": true
   },
   "outputs": [
    {
     "name": "stdout",
     "output_type": "stream",
     "text": [
      "60\n"
     ]
    },
    {
     "data": {
      "text/plain": [
       "['plas',\n",
       " 'hawai',\n",
       " 'commissariat',\n",
       " 'gave',\n",
       " 'infectes',\n",
       " 'miushi',\n",
       " 'pulperia',\n",
       " 'nori',\n",
       " 'indigestion',\n",
       " 'marnière',\n",
       " 'traversent',\n",
       " 'sourd',\n",
       " 'gluante',\n",
       " 'réfrigérateur',\n",
       " 'désobligeantes',\n",
       " 'nantua',\n",
       " 'vomi',\n",
       " 'retiendra',\n",
       " 'comprenons',\n",
       " 'criant',\n",
       " 'écrevisse',\n",
       " 'pompon',\n",
       " 'nuits',\n",
       " 'horribles',\n",
       " 'pékinois',\n",
       " 'brulé',\n",
       " 'tombées',\n",
       " 'perte',\n",
       " 'malades',\n",
       " 'sept',\n",
       " 'attendaient',\n",
       " 'poubelle',\n",
       " 'courent',\n",
       " 'intoxication',\n",
       " 'assaisonnées',\n",
       " 'gaufres',\n",
       " 'loc',\n",
       " 'guère',\n",
       " 'alimentaire',\n",
       " 'scandaleux',\n",
       " 'oreille',\n",
       " 'lac',\n",
       " 'gluant',\n",
       " 'potage',\n",
       " 'remarques',\n",
       " 'canapés',\n",
       " 'lendemain',\n",
       " 'épicée',\n",
       " 'fraiches',\n",
       " 'malade',\n",
       " 'obligé',\n",
       " 'ventre',\n",
       " 'poivre',\n",
       " 'cuisiniers',\n",
       " 'étonnant',\n",
       " 'chères',\n",
       " 'exception',\n",
       " 'cru',\n",
       " '16',\n",
       " 'proposé']"
      ]
     },
     "execution_count": 99,
     "metadata": {},
     "output_type": "execute_result"
    }
   ],
   "source": [
    "reader = csv.reader(open('top_score_nuage.csv', 'r'))\n",
    "keys, values = reader\n",
    "top_score_nuage = {}\n",
    "n = len(keys)\n",
    "for i in range(n):\n",
    "    top_score_nuage[keys[i]] = values[i]\n",
    "print(len(top_score_nuage))\n",
    "tri_dico_byvalue(top_score_nuage)"
   ]
  },
  {
   "cell_type": "markdown",
   "metadata": {},
   "source": [
    "On définit une fonction pour sélectionner les pires restaurants en terme d'hygiène."
   ]
  },
  {
   "cell_type": "code",
   "execution_count": 83,
   "metadata": {
    "collapsed": false
   },
   "outputs": [],
   "source": [
    "def fonction_filtre_resto(liste_mot_cle, stem=False):\n",
    "    # on transforme notre liste de mots clés\n",
    "    stemmer = SnowballStemmer('french')\n",
    "    liste_mot_cle = [unicodedata.normalize('NFKD', i).encode('ASCII', 'ignore').decode('ASCII') for i in liste_mot_cle]\n",
    "    liste_mots_stem = [stemmer.stem(i) for i in liste_mot_cle]\n",
    "    liste_mots_stem = [unicodedata.normalize('NFKD', i).encode('ASCII', 'ignore').decode('ASCII') for i in liste_mots_stem]\n",
    "\n",
    "    print(\"Base de données:\", df.shape, \"==> df\")\n",
    "    # on réduit le dataframe aux mots clés et aux notes\n",
    "    df_test = df.copy(deep=True)\n",
    "    if stem:\n",
    "        df_test['Sale'] = df_test['Commentaire'].apply(lambda x : mot_included(str(x), liste_mots_stem))\n",
    "    else:\n",
    "        df_test['Sale'] = df_test['Commentaire'].apply(lambda x : mot_included(str(x), liste_mot_cle))\n",
    "    df_tres_sale = df_test.query(\"Sale == True & Note_hyg < 5 & Note in [1, 2]\")\n",
    "    del df_tres_sale[\"Sale\"]\n",
    "    df_tres_sale['Id_resto'] = df_tres_sale['Resto'] + \" $ \" + df_tres_sale['Adresse']\n",
    "    df_tres_sale.reset_index(drop=True, inplace=True)\n",
    "    print (\"Mots clés et note de commentaire:\", df_tres_sale.shape, \"==> df_tres_sale\")\n",
    "    print(\"Restaurants potentiellement sales:\", len(df_tres_sale.Id_resto.unique()))\n",
    "    # on réduit le dataframe aux restaurants cités plusieurs fois\n",
    "    resto_sale1 = []\n",
    "    for resto in df_tres_sale.Id_resto.unique():\n",
    "        nb = len(df_tres_sale[df_tres_sale.Id_resto == resto])\n",
    "        if nb > 1 :\n",
    "            resto_sale1.append(resto)\n",
    "    df_tres_sale_recurrent = df_tres_sale.query(\"Id_resto in %s\" %resto_sale1)\n",
    "    df_tres_sale_recurrent.reset_index(drop=True, inplace=True)\n",
    "    print(\"Restaurants récurrent:\", df_tres_sale_recurrent.shape, \"==> df_tres_sale_recurrent\")\n",
    "    print(\"Restaurants potentiellement sales:\", len(resto_sale1))\n",
    "    # on réduit le dataframe aux restaurants cités durant le même mois\n",
    "    resto_sale2 = []\n",
    "    for resto in df_tres_sale_recurrent.Id_resto.unique():\n",
    "        df_resto = df_tres_sale_recurrent[df_tres_sale_recurrent.Id_resto == resto]\n",
    "        df_resto.reset_index(drop=True, inplace=True)\n",
    "        for i in range(df_resto.shape[0]):\n",
    "            if df_resto.at[i, \"Note_hyg\"] < 3:\n",
    "                datei = df_resto.at[i, \"Date\"]\n",
    "                for j in range(df_resto.shape[0]):\n",
    "                    if j != i:\n",
    "                        if df_resto.at[j, \"Note_hyg\"] < 3:\n",
    "                            datej = df_resto.at[j, \"Date\"]\n",
    "                            # on vérifie que deux commentaires critique au moins ont été publiés à un moins d'intervalle maximum\n",
    "                            if str(datei)[4:6] == str(datej)[4:6]:\n",
    "                                resto_sale2.append(resto)\n",
    "                            elif abs( int(str(datei)[4:6]) - int(str(datej)[4:6]) ) == 1:\n",
    "                                start = min(datei, datej)\n",
    "                                for n in range(1, 31):\n",
    "                                    if (str(start)[4:6] in [\"01\", \"03\", \"05\", \"07\", \"08\", \"10\", \"12\"]) and (str(start)[6:8] == \"31\"):\n",
    "                                        start = int(\"2016\" + str(start)[4:6] + \"01\")\n",
    "                                    elif (str(start)[4:6] in [\"04\", \"06\", \"09\", \"11\"]) and (str(start)[6:8] == \"30\"):\n",
    "                                        start = int(\"2016\" + str(start)[4:6] + \"01\")\n",
    "                                    elif (str(start)[4:6] == \"02\") and (str(start)[6:8] == \"29\"):\n",
    "                                        start = int(\"2016\" + str(start)[4:6] + \"01\")\n",
    "                                    else:\n",
    "                                        start += 1\n",
    "                                if str(max(datei, datej))[6:8] < str(start):\n",
    "                                    resto_sale2.append(resto)\n",
    "    resto_sale2 = list(set(resto_sale2))\n",
    "    df_tres_sale_recurrent_date = df_tres_sale_recurrent.query(\"Id_resto in %s\" %resto_sale2)\n",
    "    df_tres_sale_recurrent_date.reset_index(drop=True, inplace=True)\n",
    "    print(\"Date commentaires proche:\", df_tres_sale_recurrent_date.shape, \"==> df_tres_sale_recurrent_date\")\n",
    "    print(\"Restaurants potentiellement sales:\", len(set(resto_sale2)))\n",
    "    return df_tres_sale, df_tres_sale_recurrent, df_tres_sale_recurrent_date, resto_sale1, resto_sale2"
   ]
  },
  {
   "cell_type": "code",
   "execution_count": 71,
   "metadata": {
    "collapsed": false
   },
   "outputs": [],
   "source": [
    "def export_resto_cible(filename1, filename2, liste1, liste2):\n",
    "    resto_cible1 = {}\n",
    "    for i in liste1:\n",
    "        i = i.split(\"$\")\n",
    "        resto_cible1[i[0]] = i[1]\n",
    "    resto_cible2 = {}\n",
    "    for i in liste2:\n",
    "        i = i.split(\"$\")\n",
    "        resto_cible2[i[0]] = i[1]\n",
    "    with open(filename1+'.csv', 'w') as f:\n",
    "            w = csv.DictWriter(f, resto_cible1.keys())\n",
    "            w.writeheader()\n",
    "            w.writerow(resto_cible1)\n",
    "    with open(filename2+'.csv', 'w') as f:\n",
    "            w = csv.DictWriter(f, resto_cible2.keys())\n",
    "            w.writeheader()\n",
    "            w.writerow(resto_cible2)"
   ]
  },
  {
   "cell_type": "code",
   "execution_count": 96,
   "metadata": {
    "collapsed": false
   },
   "outputs": [],
   "source": [
    "def outcome_com (df):\n",
    "    df.reset_index(drop=True, inplace=True)\n",
    "    for i in range(df.shape[0]):\n",
    "        print(df.at[i, \"Resto\"])\n",
    "        print(df.at[i, \"Date du commentaire\"])\n",
    "        print(df.at[i, \"Note_hyg\"])\n",
    "        print(df.at[i, \"Commentaire\"])\n",
    "        print(\"######\")\n",
    "        print(\"\\n\")"
   ]
  },
  {
   "cell_type": "code",
   "execution_count": 117,
   "metadata": {
    "collapsed": false
   },
   "outputs": [
    {
     "data": {
      "text/plain": [
       "{'16': 10.0,\n",
       " 'alimentaire': 10.0,\n",
       " 'assaisonnées': 10.0,\n",
       " 'attendaient': 10.0,\n",
       " 'brulé': 10.0,\n",
       " 'canapés': 10.0,\n",
       " 'chères': 10.0,\n",
       " 'commissariat': 10.0,\n",
       " 'comprenons': 10.0,\n",
       " 'courent': 10.0,\n",
       " 'criant': 10.0,\n",
       " 'cru': 10.0,\n",
       " 'cuisiniers': 10.0,\n",
       " 'désobligeantes': 10.0,\n",
       " 'exception': 10.0,\n",
       " 'fraiches': 10.0,\n",
       " 'gaufres': 10.0,\n",
       " 'gave': 10.0,\n",
       " 'gluant': 10.0,\n",
       " 'gluante': 10.0,\n",
       " 'guère': 10.0,\n",
       " 'hawai': 10.0,\n",
       " 'horribles': 10.0,\n",
       " 'indigestion': 10.0,\n",
       " 'infectes': 10.0,\n",
       " 'intoxication': 10.0,\n",
       " 'lac': 10.0,\n",
       " 'lendemain': 10.0,\n",
       " 'loc': 10.0,\n",
       " 'malade': 8.3333333333333339,\n",
       " 'malades': 10.0,\n",
       " 'marnière': 10.0,\n",
       " 'miushi': 10.0,\n",
       " 'nantua': 10.0,\n",
       " 'nori': 10.0,\n",
       " 'nuits': 10.0,\n",
       " 'obligé': 10.0,\n",
       " 'oreille': 10.0,\n",
       " 'perte': 10.0,\n",
       " 'plas': 10.0,\n",
       " 'poivre': 10.0,\n",
       " 'pompon': 10.0,\n",
       " 'potage': 10.0,\n",
       " 'poubelle': 10.0,\n",
       " 'proposé': 10.0,\n",
       " 'pulperia': 10.0,\n",
       " 'pékinois': 10.0,\n",
       " 'remarques': 10.0,\n",
       " 'retiendra': 10.0,\n",
       " 'réfrigérateur': 10.0,\n",
       " 'scandaleux': 10.0,\n",
       " 'sept': 10.0,\n",
       " 'sourd': 10.0,\n",
       " 'tombées': 10.0,\n",
       " 'traversent': 10.0,\n",
       " 'ventre': 10.0,\n",
       " 'vomi': 10.0,\n",
       " 'écrevisse': 10.0,\n",
       " 'épicée': 10.0,\n",
       " 'étonnant': 10.0}"
      ]
     },
     "execution_count": 117,
     "metadata": {},
     "output_type": "execute_result"
    }
   ],
   "source": [
    "top_mot_cle"
   ]
  },
  {
   "cell_type": "markdown",
   "metadata": {},
   "source": [
    "On filtre avec notre liste de mots clés créée automatiquement."
   ]
  },
  {
   "cell_type": "code",
   "execution_count": 105,
   "metadata": {
    "collapsed": false
   },
   "outputs": [
    {
     "name": "stdout",
     "output_type": "stream",
     "text": [
      "Base de données: (85897, 15) ==> df\n",
      "Mots clés et note de commentaire: (2204, 16) ==> df_tres_sale\n",
      "Restaurants potentiellement sales: 1576\n",
      "Restaurants récurrent: (1016, 16) ==> df_tres_sale_recurrent\n",
      "Restaurants potentiellement sales: 388\n",
      "Date commentaires proche: (13, 16) ==> df_tres_sale_recurrent_date\n",
      "Restaurants potentiellement sales: 3\n"
     ]
    },
    {
     "data": {
      "text/html": [
       "<div>\n",
       "<table border=\"1\" class=\"dataframe\">\n",
       "  <thead>\n",
       "    <tr style=\"text-align: right;\">\n",
       "      <th></th>\n",
       "      <th>Adresse</th>\n",
       "      <th>Code Postal</th>\n",
       "      <th>Commentaire</th>\n",
       "      <th>Date du commentaire</th>\n",
       "      <th>Note</th>\n",
       "      <th>Origine</th>\n",
       "      <th>Resto</th>\n",
       "      <th>Ville</th>\n",
       "      <th>Id</th>\n",
       "      <th>Date</th>\n",
       "      <th>Note_hyg</th>\n",
       "      <th>Note_resto</th>\n",
       "      <th>Note_hygiène_resto</th>\n",
       "      <th>Variance_note_resto</th>\n",
       "      <th>Variance_note_hygiène_resto</th>\n",
       "      <th>Id_resto</th>\n",
       "    </tr>\n",
       "  </thead>\n",
       "  <tbody>\n",
       "    <tr>\n",
       "      <th>0</th>\n",
       "      <td>60 rue Pierre Charron</td>\n",
       "      <td>75008</td>\n",
       "      <td>Les plats sont quelconques pas mauvais, mais p...</td>\n",
       "      <td>21/04/2016</td>\n",
       "      <td>2</td>\n",
       "      <td>TripAdvisor</td>\n",
       "      <td>ziti</td>\n",
       "      <td>Paris</td>\n",
       "      <td>49587</td>\n",
       "      <td>20160421</td>\n",
       "      <td>4.950000</td>\n",
       "      <td>3.153846</td>\n",
       "      <td>4.067460</td>\n",
       "      <td>1.514793</td>\n",
       "      <td>1.565797</td>\n",
       "      <td>ziti $ 60 rue Pierre Charron</td>\n",
       "    </tr>\n",
       "    <tr>\n",
       "      <th>1</th>\n",
       "      <td>60 rue Pierre Charron</td>\n",
       "      <td>75008</td>\n",
       "      <td>Nous avons dîner ce soir et nous Sommes très d...</td>\n",
       "      <td>05/03/2016</td>\n",
       "      <td>1</td>\n",
       "      <td>TripAdvisor</td>\n",
       "      <td>ziti</td>\n",
       "      <td>Paris</td>\n",
       "      <td>49592</td>\n",
       "      <td>20160305</td>\n",
       "      <td>2.600000</td>\n",
       "      <td>3.153846</td>\n",
       "      <td>4.067460</td>\n",
       "      <td>1.514793</td>\n",
       "      <td>1.565797</td>\n",
       "      <td>ziti $ 60 rue Pierre Charron</td>\n",
       "    </tr>\n",
       "    <tr>\n",
       "      <th>2</th>\n",
       "      <td>60 rue Pierre Charron</td>\n",
       "      <td>75008</td>\n",
       "      <td>Une cuisine goûteuse et un service de très bon...</td>\n",
       "      <td>07/02/2016</td>\n",
       "      <td>1</td>\n",
       "      <td>TripAdvisor</td>\n",
       "      <td>ziti</td>\n",
       "      <td>Paris</td>\n",
       "      <td>49598</td>\n",
       "      <td>20160207</td>\n",
       "      <td>1.666667</td>\n",
       "      <td>3.153846</td>\n",
       "      <td>4.067460</td>\n",
       "      <td>1.514793</td>\n",
       "      <td>1.565797</td>\n",
       "      <td>ziti $ 60 rue Pierre Charron</td>\n",
       "    </tr>\n",
       "    <tr>\n",
       "      <th>3</th>\n",
       "      <td>33, avenue des Champs-Elysées</td>\n",
       "      <td>75008</td>\n",
       "      <td>Un restaurant parfait pour les touristes, on p...</td>\n",
       "      <td>27/04/2016</td>\n",
       "      <td>2</td>\n",
       "      <td>TripAdvisor</td>\n",
       "      <td>pizza pino</td>\n",
       "      <td>Paris</td>\n",
       "      <td>67833</td>\n",
       "      <td>20160427</td>\n",
       "      <td>4.925000</td>\n",
       "      <td>2.925000</td>\n",
       "      <td>4.658713</td>\n",
       "      <td>1.669375</td>\n",
       "      <td>0.359157</td>\n",
       "      <td>pizza pino $ 33, avenue des Champs-Elysées</td>\n",
       "    </tr>\n",
       "    <tr>\n",
       "      <th>4</th>\n",
       "      <td>33, avenue des Champs-Elysées</td>\n",
       "      <td>75008</td>\n",
       "      <td>Nous nous sommes arrêtés dans ce restaurant qu...</td>\n",
       "      <td>23/04/2016</td>\n",
       "      <td>2</td>\n",
       "      <td>TripAdvisor</td>\n",
       "      <td>pizza pino</td>\n",
       "      <td>Paris</td>\n",
       "      <td>67839</td>\n",
       "      <td>20160423</td>\n",
       "      <td>4.920000</td>\n",
       "      <td>2.925000</td>\n",
       "      <td>4.658713</td>\n",
       "      <td>1.669375</td>\n",
       "      <td>0.359157</td>\n",
       "      <td>pizza pino $ 33, avenue des Champs-Elysées</td>\n",
       "    </tr>\n",
       "    <tr>\n",
       "      <th>5</th>\n",
       "      <td>33, avenue des Champs-Elysées</td>\n",
       "      <td>75008</td>\n",
       "      <td>J'ai commander une escalope parmigiana et frui...</td>\n",
       "      <td>15/02/2016</td>\n",
       "      <td>1</td>\n",
       "      <td>TripAdvisor</td>\n",
       "      <td>pizza pino</td>\n",
       "      <td>Paris</td>\n",
       "      <td>67889</td>\n",
       "      <td>20160215</td>\n",
       "      <td>4.866667</td>\n",
       "      <td>2.925000</td>\n",
       "      <td>4.658713</td>\n",
       "      <td>1.669375</td>\n",
       "      <td>0.359157</td>\n",
       "      <td>pizza pino $ 33, avenue des Champs-Elysées</td>\n",
       "    </tr>\n",
       "    <tr>\n",
       "      <th>6</th>\n",
       "      <td>33, avenue des Champs-Elysées</td>\n",
       "      <td>75008</td>\n",
       "      <td>Plat du jour \"livré\" en sept minutes, le soir ...</td>\n",
       "      <td>08/02/2016</td>\n",
       "      <td>2</td>\n",
       "      <td>TripAdvisor</td>\n",
       "      <td>pizza pino</td>\n",
       "      <td>Paris</td>\n",
       "      <td>67896</td>\n",
       "      <td>20160208</td>\n",
       "      <td>1.380000</td>\n",
       "      <td>2.925000</td>\n",
       "      <td>4.658713</td>\n",
       "      <td>1.669375</td>\n",
       "      <td>0.359157</td>\n",
       "      <td>pizza pino $ 33, avenue des Champs-Elysées</td>\n",
       "    </tr>\n",
       "    <tr>\n",
       "      <th>7</th>\n",
       "      <td>33, avenue des Champs-Elysées</td>\n",
       "      <td>75008</td>\n",
       "      <td>Ce restaurant est vraiment un scandale. Trop c...</td>\n",
       "      <td>14/01/2016</td>\n",
       "      <td>1</td>\n",
       "      <td>TripAdvisor</td>\n",
       "      <td>pizza pino</td>\n",
       "      <td>Paris</td>\n",
       "      <td>67907</td>\n",
       "      <td>20160114</td>\n",
       "      <td>4.277778</td>\n",
       "      <td>2.925000</td>\n",
       "      <td>4.658713</td>\n",
       "      <td>1.669375</td>\n",
       "      <td>0.359157</td>\n",
       "      <td>pizza pino $ 33, avenue des Champs-Elysées</td>\n",
       "    </tr>\n",
       "    <tr>\n",
       "      <th>8</th>\n",
       "      <td>33, avenue des Champs-Elysées</td>\n",
       "      <td>75008</td>\n",
       "      <td>Si vous venez ici-bas pour une pizza ne prenez...</td>\n",
       "      <td>06/01/2016</td>\n",
       "      <td>2</td>\n",
       "      <td>TripAdvisor</td>\n",
       "      <td>pizza pino</td>\n",
       "      <td>Paris</td>\n",
       "      <td>67910</td>\n",
       "      <td>20160106</td>\n",
       "      <td>4.800741</td>\n",
       "      <td>2.925000</td>\n",
       "      <td>4.658713</td>\n",
       "      <td>1.669375</td>\n",
       "      <td>0.359157</td>\n",
       "      <td>pizza pino $ 33, avenue des Champs-Elysées</td>\n",
       "    </tr>\n",
       "    <tr>\n",
       "      <th>9</th>\n",
       "      <td>33, avenue des Champs-Elysées</td>\n",
       "      <td>75008</td>\n",
       "      <td>Nous avons pris deux pizzas différentes mais n...</td>\n",
       "      <td>02/01/2016</td>\n",
       "      <td>1</td>\n",
       "      <td>TripAdvisor</td>\n",
       "      <td>pizza pino</td>\n",
       "      <td>Paris</td>\n",
       "      <td>67916</td>\n",
       "      <td>20160102</td>\n",
       "      <td>1.666667</td>\n",
       "      <td>2.925000</td>\n",
       "      <td>4.658713</td>\n",
       "      <td>1.669375</td>\n",
       "      <td>0.359157</td>\n",
       "      <td>pizza pino $ 33, avenue des Champs-Elysées</td>\n",
       "    </tr>\n",
       "    <tr>\n",
       "      <th>10</th>\n",
       "      <td>27, Quai de Grenelle</td>\n",
       "      <td></td>\n",
       "      <td>Personnel vraiment désagréable. J'y suis allée...</td>\n",
       "      <td>05/03/2016</td>\n",
       "      <td>1</td>\n",
       "      <td>TripAdvisor</td>\n",
       "      <td>okito sushi</td>\n",
       "      <td>Paris</td>\n",
       "      <td>72898</td>\n",
       "      <td>20160305</td>\n",
       "      <td>1.983333</td>\n",
       "      <td>3.200000</td>\n",
       "      <td>2.891000</td>\n",
       "      <td>2.360000</td>\n",
       "      <td>1.676389</td>\n",
       "      <td>okito sushi $ 27, Quai de Grenelle</td>\n",
       "    </tr>\n",
       "    <tr>\n",
       "      <th>11</th>\n",
       "      <td>27, Quai de Grenelle</td>\n",
       "      <td></td>\n",
       "      <td>Formule à volonté pour 13 euros. Les sushis so...</td>\n",
       "      <td>18/02/2016</td>\n",
       "      <td>1</td>\n",
       "      <td>TripAdvisor</td>\n",
       "      <td>okito sushi</td>\n",
       "      <td>Paris</td>\n",
       "      <td>72901</td>\n",
       "      <td>20160218</td>\n",
       "      <td>2.360000</td>\n",
       "      <td>3.200000</td>\n",
       "      <td>2.891000</td>\n",
       "      <td>2.360000</td>\n",
       "      <td>1.676389</td>\n",
       "      <td>okito sushi $ 27, Quai de Grenelle</td>\n",
       "    </tr>\n",
       "    <tr>\n",
       "      <th>12</th>\n",
       "      <td>27, Quai de Grenelle</td>\n",
       "      <td></td>\n",
       "      <td>Un japonais chinois. Nous y sommes à 5, 4 ont ...</td>\n",
       "      <td>09/01/2016</td>\n",
       "      <td>1</td>\n",
       "      <td>TripAdvisor</td>\n",
       "      <td>okito sushi</td>\n",
       "      <td>Paris</td>\n",
       "      <td>72904</td>\n",
       "      <td>20160109</td>\n",
       "      <td>3.000000</td>\n",
       "      <td>3.200000</td>\n",
       "      <td>2.891000</td>\n",
       "      <td>2.360000</td>\n",
       "      <td>1.676389</td>\n",
       "      <td>okito sushi $ 27, Quai de Grenelle</td>\n",
       "    </tr>\n",
       "  </tbody>\n",
       "</table>\n",
       "</div>"
      ],
      "text/plain": [
       "                          Adresse Code Postal  \\\n",
       "0           60 rue Pierre Charron       75008   \n",
       "1           60 rue Pierre Charron       75008   \n",
       "2           60 rue Pierre Charron       75008   \n",
       "3   33, avenue des Champs-Elysées       75008   \n",
       "4   33, avenue des Champs-Elysées       75008   \n",
       "5   33, avenue des Champs-Elysées       75008   \n",
       "6   33, avenue des Champs-Elysées       75008   \n",
       "7   33, avenue des Champs-Elysées       75008   \n",
       "8   33, avenue des Champs-Elysées       75008   \n",
       "9   33, avenue des Champs-Elysées       75008   \n",
       "10           27, Quai de Grenelle               \n",
       "11           27, Quai de Grenelle               \n",
       "12           27, Quai de Grenelle               \n",
       "\n",
       "                                          Commentaire Date du commentaire  \\\n",
       "0   Les plats sont quelconques pas mauvais, mais p...          21/04/2016   \n",
       "1   Nous avons dîner ce soir et nous Sommes très d...          05/03/2016   \n",
       "2   Une cuisine goûteuse et un service de très bon...          07/02/2016   \n",
       "3   Un restaurant parfait pour les touristes, on p...          27/04/2016   \n",
       "4   Nous nous sommes arrêtés dans ce restaurant qu...          23/04/2016   \n",
       "5   J'ai commander une escalope parmigiana et frui...          15/02/2016   \n",
       "6   Plat du jour \"livré\" en sept minutes, le soir ...          08/02/2016   \n",
       "7   Ce restaurant est vraiment un scandale. Trop c...          14/01/2016   \n",
       "8   Si vous venez ici-bas pour une pizza ne prenez...          06/01/2016   \n",
       "9   Nous avons pris deux pizzas différentes mais n...          02/01/2016   \n",
       "10  Personnel vraiment désagréable. J'y suis allée...          05/03/2016   \n",
       "11  Formule à volonté pour 13 euros. Les sushis so...          18/02/2016   \n",
       "12  Un japonais chinois. Nous y sommes à 5, 4 ont ...          09/01/2016   \n",
       "\n",
       "    Note      Origine        Resto  Ville     Id      Date  Note_hyg  \\\n",
       "0      2  TripAdvisor         ziti  Paris  49587  20160421  4.950000   \n",
       "1      1  TripAdvisor         ziti  Paris  49592  20160305  2.600000   \n",
       "2      1  TripAdvisor         ziti  Paris  49598  20160207  1.666667   \n",
       "3      2  TripAdvisor   pizza pino  Paris  67833  20160427  4.925000   \n",
       "4      2  TripAdvisor   pizza pino  Paris  67839  20160423  4.920000   \n",
       "5      1  TripAdvisor   pizza pino  Paris  67889  20160215  4.866667   \n",
       "6      2  TripAdvisor   pizza pino  Paris  67896  20160208  1.380000   \n",
       "7      1  TripAdvisor   pizza pino  Paris  67907  20160114  4.277778   \n",
       "8      2  TripAdvisor   pizza pino  Paris  67910  20160106  4.800741   \n",
       "9      1  TripAdvisor   pizza pino  Paris  67916  20160102  1.666667   \n",
       "10     1  TripAdvisor  okito sushi  Paris  72898  20160305  1.983333   \n",
       "11     1  TripAdvisor  okito sushi  Paris  72901  20160218  2.360000   \n",
       "12     1  TripAdvisor  okito sushi  Paris  72904  20160109  3.000000   \n",
       "\n",
       "    Note_resto  Note_hygiène_resto  Variance_note_resto  \\\n",
       "0     3.153846            4.067460             1.514793   \n",
       "1     3.153846            4.067460             1.514793   \n",
       "2     3.153846            4.067460             1.514793   \n",
       "3     2.925000            4.658713             1.669375   \n",
       "4     2.925000            4.658713             1.669375   \n",
       "5     2.925000            4.658713             1.669375   \n",
       "6     2.925000            4.658713             1.669375   \n",
       "7     2.925000            4.658713             1.669375   \n",
       "8     2.925000            4.658713             1.669375   \n",
       "9     2.925000            4.658713             1.669375   \n",
       "10    3.200000            2.891000             2.360000   \n",
       "11    3.200000            2.891000             2.360000   \n",
       "12    3.200000            2.891000             2.360000   \n",
       "\n",
       "    Variance_note_hygiène_resto                                    Id_resto  \n",
       "0                      1.565797                ziti $ 60 rue Pierre Charron  \n",
       "1                      1.565797                ziti $ 60 rue Pierre Charron  \n",
       "2                      1.565797                ziti $ 60 rue Pierre Charron  \n",
       "3                      0.359157  pizza pino $ 33, avenue des Champs-Elysées  \n",
       "4                      0.359157  pizza pino $ 33, avenue des Champs-Elysées  \n",
       "5                      0.359157  pizza pino $ 33, avenue des Champs-Elysées  \n",
       "6                      0.359157  pizza pino $ 33, avenue des Champs-Elysées  \n",
       "7                      0.359157  pizza pino $ 33, avenue des Champs-Elysées  \n",
       "8                      0.359157  pizza pino $ 33, avenue des Champs-Elysées  \n",
       "9                      0.359157  pizza pino $ 33, avenue des Champs-Elysées  \n",
       "10                     1.676389          okito sushi $ 27, Quai de Grenelle  \n",
       "11                     1.676389          okito sushi $ 27, Quai de Grenelle  \n",
       "12                     1.676389          okito sushi $ 27, Quai de Grenelle  "
      ]
     },
     "execution_count": 105,
     "metadata": {},
     "output_type": "execute_result"
    }
   ],
   "source": [
    "MLdf_tres_sale, MLdf_tres_sale_recurrent, MLdf_tres_sale_recurrent_date, MLresto_sale1, MLresto_sale2 = fonction_filtre_resto(list(top_mot_cle), stem=False)\n",
    "MLdf_tres_sale_recurrent_date"
   ]
  },
  {
   "cell_type": "markdown",
   "metadata": {},
   "source": [
    "On filtre avec une liste de mots clés créée de toute pièce."
   ]
  },
  {
   "cell_type": "code",
   "execution_count": 106,
   "metadata": {
    "collapsed": false
   },
   "outputs": [
    {
     "name": "stdout",
     "output_type": "stream",
     "text": [
      "Base de données: (85897, 15) ==> df\n",
      "Mots clés et note de commentaire: (212, 16) ==> df_tres_sale\n",
      "Restaurants potentiellement sales: 201\n",
      "Restaurants récurrent: (21, 16) ==> df_tres_sale_recurrent\n",
      "Restaurants potentiellement sales: 10\n",
      "Date commentaires proche: (7, 16) ==> df_tres_sale_recurrent_date\n",
      "Restaurants potentiellement sales: 3\n"
     ]
    },
    {
     "data": {
      "text/html": [
       "<div>\n",
       "<table border=\"1\" class=\"dataframe\">\n",
       "  <thead>\n",
       "    <tr style=\"text-align: right;\">\n",
       "      <th></th>\n",
       "      <th>Adresse</th>\n",
       "      <th>Code Postal</th>\n",
       "      <th>Commentaire</th>\n",
       "      <th>Date du commentaire</th>\n",
       "      <th>Note</th>\n",
       "      <th>Origine</th>\n",
       "      <th>Resto</th>\n",
       "      <th>Ville</th>\n",
       "      <th>Id</th>\n",
       "      <th>Date</th>\n",
       "      <th>Note_hyg</th>\n",
       "      <th>Note_resto</th>\n",
       "      <th>Note_hygiène_resto</th>\n",
       "      <th>Variance_note_resto</th>\n",
       "      <th>Variance_note_hygiène_resto</th>\n",
       "      <th>Id_resto</th>\n",
       "    </tr>\n",
       "  </thead>\n",
       "  <tbody>\n",
       "    <tr>\n",
       "      <th>0</th>\n",
       "      <td>60 rue Pierre Charron</td>\n",
       "      <td>75008</td>\n",
       "      <td>Nous avons dîner ce soir et nous Sommes très d...</td>\n",
       "      <td>05/03/2016</td>\n",
       "      <td>1</td>\n",
       "      <td>TripAdvisor</td>\n",
       "      <td>ziti</td>\n",
       "      <td>Paris</td>\n",
       "      <td>49592</td>\n",
       "      <td>20160305</td>\n",
       "      <td>2.600000</td>\n",
       "      <td>3.153846</td>\n",
       "      <td>4.067460</td>\n",
       "      <td>1.514793</td>\n",
       "      <td>1.565797</td>\n",
       "      <td>ziti $ 60 rue Pierre Charron</td>\n",
       "    </tr>\n",
       "    <tr>\n",
       "      <th>1</th>\n",
       "      <td>60 rue Pierre Charron</td>\n",
       "      <td>75008</td>\n",
       "      <td>Une cuisine goûteuse et un service de très bon...</td>\n",
       "      <td>07/02/2016</td>\n",
       "      <td>1</td>\n",
       "      <td>TripAdvisor</td>\n",
       "      <td>ziti</td>\n",
       "      <td>Paris</td>\n",
       "      <td>49598</td>\n",
       "      <td>20160207</td>\n",
       "      <td>1.666667</td>\n",
       "      <td>3.153846</td>\n",
       "      <td>4.067460</td>\n",
       "      <td>1.514793</td>\n",
       "      <td>1.565797</td>\n",
       "      <td>ziti $ 60 rue Pierre Charron</td>\n",
       "    </tr>\n",
       "    <tr>\n",
       "      <th>2</th>\n",
       "      <td>33, avenue des Champs-Elysées</td>\n",
       "      <td>75008</td>\n",
       "      <td>Plat du jour \"livré\" en sept minutes, le soir ...</td>\n",
       "      <td>08/02/2016</td>\n",
       "      <td>2</td>\n",
       "      <td>TripAdvisor</td>\n",
       "      <td>pizza pino</td>\n",
       "      <td>Paris</td>\n",
       "      <td>67896</td>\n",
       "      <td>20160208</td>\n",
       "      <td>1.380000</td>\n",
       "      <td>2.925000</td>\n",
       "      <td>4.658713</td>\n",
       "      <td>1.669375</td>\n",
       "      <td>0.359157</td>\n",
       "      <td>pizza pino $ 33, avenue des Champs-Elysées</td>\n",
       "    </tr>\n",
       "    <tr>\n",
       "      <th>3</th>\n",
       "      <td>33, avenue des Champs-Elysées</td>\n",
       "      <td>75008</td>\n",
       "      <td>Nous avons pris deux pizzas différentes mais n...</td>\n",
       "      <td>02/01/2016</td>\n",
       "      <td>1</td>\n",
       "      <td>TripAdvisor</td>\n",
       "      <td>pizza pino</td>\n",
       "      <td>Paris</td>\n",
       "      <td>67916</td>\n",
       "      <td>20160102</td>\n",
       "      <td>1.666667</td>\n",
       "      <td>2.925000</td>\n",
       "      <td>4.658713</td>\n",
       "      <td>1.669375</td>\n",
       "      <td>0.359157</td>\n",
       "      <td>pizza pino $ 33, avenue des Champs-Elysées</td>\n",
       "    </tr>\n",
       "    <tr>\n",
       "      <th>4</th>\n",
       "      <td>27, Quai de Grenelle</td>\n",
       "      <td></td>\n",
       "      <td>Personnel vraiment désagréable. J'y suis allée...</td>\n",
       "      <td>05/03/2016</td>\n",
       "      <td>1</td>\n",
       "      <td>TripAdvisor</td>\n",
       "      <td>okito sushi</td>\n",
       "      <td>Paris</td>\n",
       "      <td>72898</td>\n",
       "      <td>20160305</td>\n",
       "      <td>1.983333</td>\n",
       "      <td>3.200000</td>\n",
       "      <td>2.891000</td>\n",
       "      <td>2.360000</td>\n",
       "      <td>1.676389</td>\n",
       "      <td>okito sushi $ 27, Quai de Grenelle</td>\n",
       "    </tr>\n",
       "    <tr>\n",
       "      <th>5</th>\n",
       "      <td>27, Quai de Grenelle</td>\n",
       "      <td></td>\n",
       "      <td>Formule à volonté pour 13 euros. Les sushis so...</td>\n",
       "      <td>18/02/2016</td>\n",
       "      <td>1</td>\n",
       "      <td>TripAdvisor</td>\n",
       "      <td>okito sushi</td>\n",
       "      <td>Paris</td>\n",
       "      <td>72901</td>\n",
       "      <td>20160218</td>\n",
       "      <td>2.360000</td>\n",
       "      <td>3.200000</td>\n",
       "      <td>2.891000</td>\n",
       "      <td>2.360000</td>\n",
       "      <td>1.676389</td>\n",
       "      <td>okito sushi $ 27, Quai de Grenelle</td>\n",
       "    </tr>\n",
       "    <tr>\n",
       "      <th>6</th>\n",
       "      <td>27, Quai de Grenelle</td>\n",
       "      <td></td>\n",
       "      <td>Un japonais chinois. Nous y sommes à 5, 4 ont ...</td>\n",
       "      <td>09/01/2016</td>\n",
       "      <td>1</td>\n",
       "      <td>TripAdvisor</td>\n",
       "      <td>okito sushi</td>\n",
       "      <td>Paris</td>\n",
       "      <td>72904</td>\n",
       "      <td>20160109</td>\n",
       "      <td>3.000000</td>\n",
       "      <td>3.200000</td>\n",
       "      <td>2.891000</td>\n",
       "      <td>2.360000</td>\n",
       "      <td>1.676389</td>\n",
       "      <td>okito sushi $ 27, Quai de Grenelle</td>\n",
       "    </tr>\n",
       "  </tbody>\n",
       "</table>\n",
       "</div>"
      ],
      "text/plain": [
       "                         Adresse Code Postal  \\\n",
       "0          60 rue Pierre Charron       75008   \n",
       "1          60 rue Pierre Charron       75008   \n",
       "2  33, avenue des Champs-Elysées       75008   \n",
       "3  33, avenue des Champs-Elysées       75008   \n",
       "4           27, Quai de Grenelle               \n",
       "5           27, Quai de Grenelle               \n",
       "6           27, Quai de Grenelle               \n",
       "\n",
       "                                         Commentaire Date du commentaire  \\\n",
       "0  Nous avons dîner ce soir et nous Sommes très d...          05/03/2016   \n",
       "1  Une cuisine goûteuse et un service de très bon...          07/02/2016   \n",
       "2  Plat du jour \"livré\" en sept minutes, le soir ...          08/02/2016   \n",
       "3  Nous avons pris deux pizzas différentes mais n...          02/01/2016   \n",
       "4  Personnel vraiment désagréable. J'y suis allée...          05/03/2016   \n",
       "5  Formule à volonté pour 13 euros. Les sushis so...          18/02/2016   \n",
       "6  Un japonais chinois. Nous y sommes à 5, 4 ont ...          09/01/2016   \n",
       "\n",
       "   Note      Origine        Resto  Ville     Id      Date  Note_hyg  \\\n",
       "0     1  TripAdvisor         ziti  Paris  49592  20160305  2.600000   \n",
       "1     1  TripAdvisor         ziti  Paris  49598  20160207  1.666667   \n",
       "2     2  TripAdvisor   pizza pino  Paris  67896  20160208  1.380000   \n",
       "3     1  TripAdvisor   pizza pino  Paris  67916  20160102  1.666667   \n",
       "4     1  TripAdvisor  okito sushi  Paris  72898  20160305  1.983333   \n",
       "5     1  TripAdvisor  okito sushi  Paris  72901  20160218  2.360000   \n",
       "6     1  TripAdvisor  okito sushi  Paris  72904  20160109  3.000000   \n",
       "\n",
       "   Note_resto  Note_hygiène_resto  Variance_note_resto  \\\n",
       "0    3.153846            4.067460             1.514793   \n",
       "1    3.153846            4.067460             1.514793   \n",
       "2    2.925000            4.658713             1.669375   \n",
       "3    2.925000            4.658713             1.669375   \n",
       "4    3.200000            2.891000             2.360000   \n",
       "5    3.200000            2.891000             2.360000   \n",
       "6    3.200000            2.891000             2.360000   \n",
       "\n",
       "   Variance_note_hygiène_resto                                    Id_resto  \n",
       "0                     1.565797                ziti $ 60 rue Pierre Charron  \n",
       "1                     1.565797                ziti $ 60 rue Pierre Charron  \n",
       "2                     0.359157  pizza pino $ 33, avenue des Champs-Elysées  \n",
       "3                     0.359157  pizza pino $ 33, avenue des Champs-Elysées  \n",
       "4                     1.676389          okito sushi $ 27, Quai de Grenelle  \n",
       "5                     1.676389          okito sushi $ 27, Quai de Grenelle  \n",
       "6                     1.676389          okito sushi $ 27, Quai de Grenelle  "
      ]
     },
     "execution_count": 106,
     "metadata": {},
     "output_type": "execute_result"
    }
   ],
   "source": [
    "nos_mots_sales = [\"indispose\", \"malade\", \"intoxication\", \"diarrhee\", \"fatigue\", \"maux\", \"fievre\", \"vomi\", \"chiasse\", \"caca\", \"nausee\", \"indigestion\", \"barbouille\", \"colique\", \"dysenterie\"]\n",
    "df_tres_sale, df_tres_sale_recurrent, df_tres_sale_recurrent_date, resto_sale1, resto_sale2 = fonction_filtre_resto(nos_mots_sales, stem=False)\n",
    "df_tres_sale_recurrent_date"
   ]
  },
  {
   "cell_type": "markdown",
   "metadata": {},
   "source": [
    "On récupère les restaurants et les adresses concernées."
   ]
  },
  {
   "cell_type": "code",
   "execution_count": 107,
   "metadata": {
    "collapsed": false
   },
   "outputs": [
    {
     "data": {
      "text/plain": [
       "['quindici $ Centre Commercial Beaugrenelle - 7 Rue Linois',\n",
       " 'le pachyderme $ 2 Bis Boulevard Saint Martin',\n",
       " \"chez lili et marcel $ 1, Quai d'Austerlitz\",\n",
       " 'merci $ 111 Boulevard Beaumarchais',\n",
       " 'le petit zinc $ 11 Rue St Benoit',\n",
       " 'the place to... $ 47, avenue de Wagram',\n",
       " 'léon de bruxelles - paris - place de la république $ 8 Place de la Republique',\n",
       " 'le pigalle $ 9 rue Frochot',\n",
       " 'hippopotamus paris bercy arena 12e $ 102 rue de Bercy',\n",
       " \"l'abordage $ 2 Place Bergson\",\n",
       " 'le carré des invalides $ 129 Rue de Grenelle',\n",
       " 'cafe le baron $ 11 rue de Chateaudun',\n",
       " 'café république $ 9 place de la République',\n",
       " \"l'horizon $ 120 rue de Rennes\",\n",
       " 'montreux jazz café $ Place Louis Armand',\n",
       " \"l'institut $ 1 Boulevard Saint-Germain\",\n",
       " 'non coupable $ 21 Rue Auber',\n",
       " \"bizz'art $ 167 quai de Valmy\",\n",
       " 'paris en seine $ 10 Quai des Orfevres',\n",
       " 'le crystal paris $ 10, rue des Acacias',\n",
       " 'le paradis du fruit $ 21, bd Edgar Quinet',\n",
       " 'le bistro melrose $ 5, Place de Clichy',\n",
       " 'michalak masterclass $ 60 rue du faubourg Poissonniere',\n",
       " 'indian connection $ 33/35 rue de Lappe',\n",
       " '231 east street $ 6 Rue de Ponthieu',\n",
       " 'la petite place $ 16 Rue du Parc Royal',\n",
       " 'indiana cafe $ 1, av du Général Leclerc',\n",
       " 'tea follies $ 6 Place Gustave Toudouze',\n",
       " 'restaurants du monde $ 93 rue de Rivoli',\n",
       " 'bistro romain $ 117 rue St Lazare',\n",
       " 'chez clement porte maillot $ 99 Boulevard Gouvion Saint-Cyr',\n",
       " 'la paulette $ rue de Bretagne',\n",
       " 'aux saveurs de beyrouth $ 20 Rue Biot',\n",
       " 'pizza pino $ 57 Boulevard du Montparnasse',\n",
       " 'le sawa $ 196 Avenue Maine',\n",
       " 'la coupole $ 102, Boulevard du Montparnasse',\n",
       " 'factory and co bercy village $ 23 Cour Saint Emilion',\n",
       " 'faust - restaurant $ Pont Alexandre III, Port des Invalides',\n",
       " 'cafe oz denfert $ 3, place Denfert-Rochereau',\n",
       " \"la casa dell'estelle $ 14 Rue De castellane\",\n",
       " 'cafe eugene $ 49 Boulevard Victor',\n",
       " 'vapiano $ 36 rue Marbeuf',\n",
       " 'champeaux $ 12, Passage De La Canopee',\n",
       " 'restaurant champeaux $ 12, Passage De La Canopee',\n",
       " 'hippopotamus paris bercy cour saint emilion 12e $ 28 Rue François Truffaut',\n",
       " 'les petites gouttes $ 39, rue Pajol',\n",
       " 'irish corner nation $ 26 place de la Nation',\n",
       " 'le grand cerf $ 79 Boulevard de Sebastopol',\n",
       " 'grand café de la poste $ 103, Boulevard Malesherbes',\n",
       " \"les relais d'alsace - taverne karlsbräu - paris 12 ème $ 1 Rue Lyon\",\n",
       " 'le saint jean $ 23 Rue Abbesses',\n",
       " 'le petit poucet $ 5 Place de Clichy',\n",
       " 'hao hao $ 14, rue Bertholet',\n",
       " 'las vegans $ 30, Boulevard Bonne Nouvelle',\n",
       " 'cafe delmas $ 2, Place de la Contrescarpe',\n",
       " 'gumbo yaya $ 3 Rue Charles Robin',\n",
       " 'indiana café $ 42 bis bd Bonne Nouvelle',\n",
       " 'le lucernaire $ 53 Rue N-D des Champs',\n",
       " \"red d'hippo $ Gare de Paris-Lyon\",\n",
       " \"james hetfeeld's pub $ 17 Boulevard Poissonniere\",\n",
       " 'indiana cafe $ 14, place de la Bastille',\n",
       " 'pizza del arte $ Metro Richelieu drouot',\n",
       " 'le chalet du lac de saint-mandé $ Orée du Bois de Vincennes',\n",
       " 'cafe des concerts $ 213 avenue jean Jaures 75019',\n",
       " \"l'âne qui rit $ 3 Rue Laugier\",\n",
       " \"la coupe d'or $ 330 Rue St Honore\",\n",
       " 'hd diner saint michel $ 25 rue Francisque Gay',\n",
       " 'aarapana $ 6 rue du petit pont',\n",
       " 'au clairon des chasseurs $ Place du Tertre, Montmartre',\n",
       " \"sanz by bizz'art $ 49,rue du faubourg Saint-Antoine\",\n",
       " 'la pirada $ 7 rue de la lappe',\n",
       " 'trattoria da gig $ 105 rue Saint Maur',\n",
       " 'cafe marco polo $ 8, Avenue Trone',\n",
       " 'upizzeria mimmo $ 14 Rue Saint Denis',\n",
       " 'partie de campagne $ 36 Cour Saint-Émilion, Bercy Village',\n",
       " 'pan asie $ 13 Rue Saint Severin',\n",
       " 'la petaudiere $ 7 Rue Norvins',\n",
       " 'fleur de lys $ 44 Avenue de choisy',\n",
       " 'le deauville $ 75, Avenue des Champs Elysees',\n",
       " \"l'auvergne a paris $ 102 Rue Blomet\",\n",
       " 'hd diner chatelet $ 25 rue de la Reynie',\n",
       " \"bistro de la tour $ 4 Rue de l'Arrivee\",\n",
       " 'le sulky $ 2 Route de la Ferme',\n",
       " 'cafe marco polo $ 8, avenue du Trone',\n",
       " 'la bucherie $ 41 Rue Bucherie',\n",
       " \"bastille's pub $ 13, rue de la Roquette\",\n",
       " 'dupont versailles $ 386 rue Vaugirard',\n",
       " 'au baroudeur $ 12 Boulevard de Denain',\n",
       " 'restaurant thailandais $ 6 r Mandar',\n",
       " 'chez clement - porte de versailles $ 407 Rue de Vaugirard',\n",
       " 'cafe jade $ 10 rue de Buci',\n",
       " 'le zyriab by noura $ 1 rue des Fossés Saint Bernard',\n",
       " 'la casbah $ 18/20 rue de la Forge Royale',\n",
       " 'santoor $ 30 rue Marbeuf',\n",
       " 'la boheme du tertre $ 2,place du Tertre',\n",
       " 'bistrot saint andre $ 36 Rue St Andre des Arts',\n",
       " 'dupont cafe paris 15eme arrondissement $ 198 rue de La Convention',\n",
       " 'la parisienne $ 51, Rue de la Plaine',\n",
       " 'royal trinite $ 59 rue de Chateaudun',\n",
       " 'le grand bleu $ 11 Boulevard Bastille',\n",
       " 'auberge notre-dame $ 69 quai de la Tournelle',\n",
       " \"aux tours notre dame $ 23 rue d'Arcole\",\n",
       " \"l'etincelle $ 42 Bis rue de Rivoli\",\n",
       " 'okyama $ 15 bis boulevard Victor Hugo',\n",
       " 'le saint severin $ 5 Rue Saint-Severin',\n",
       " 'jeanne b $ 61 rue Lepic',\n",
       " 'chez prosper $ 7 av Trône',\n",
       " 'la palme, restaurant lounge $ 28 avenue de la porte des poissonniers',\n",
       " 'missada $ 45 Rue Laugier',\n",
       " 'café départ $ 1 Rue du Rocher',\n",
       " 'la petite hostellerie $ 35 Rue Harpe',\n",
       " 'planet sushi $ 24 Boulevard Richard Lenoir',\n",
       " 'pizza firenze $ 24 Rue de Caumartin',\n",
       " \"l'entrepôt villette $ 216 avenue Jean Jaurès\",\n",
       " 'la gentilhommiere $ Place Saint Andre des Arts',\n",
       " 'la prima $ 401, Rue Vaugirard',\n",
       " 'falstaff $ 10, Place Bastille',\n",
       " 'le bastille $ 8 place de la Bastille',\n",
       " 'le grand bistrot $ 7, Rue St Séverin',\n",
       " 'la porte montmartre $ 29 rue de la poissonnière',\n",
       " 'hippopotamus aquaboulevard $ 4 rue Louis Armand',\n",
       " 'le relais paris opéra $ 1 Rue Auber',\n",
       " 'cafe le dome $ Rue Saint-Dominique 149',\n",
       " 'casa rina $ 8, rue du Faubourg-Montmartre',\n",
       " 'crêperie armoric saveurs $ 95 rue de Saussure',\n",
       " 'aux délices de manon $ 400 Rue Saint Honore',\n",
       " 'la porte océane $ Gare Montparnasse',\n",
       " 'blue elephant $ 43-45 rue de la Roquette',\n",
       " \"capitaine fracasse - diner croisiere $ Escale de L'ile aux Cygnes\",\n",
       " 'la cantine du troquet dupleix $ 53 Boulevard de Grenelle',\n",
       " 'le loir dans la theiere $ 3,rue des Rosiers',\n",
       " 'le coude fou $ 12, Rue Bourg Tibourg',\n",
       " 'le café des chats - marais $ 16 rue Michel Le Comte',\n",
       " 'léon de bruxelles - paris - champs-elysees $ 63 Avenue des Champs-Elysees',\n",
       " 'autour du saumon - convention $ 116 Rue de la Convention',\n",
       " 'le dome du marais $ 53 bis, rue des Francs Bourgeois',\n",
       " 'derriere $ 69, Rue des Gravilliers',\n",
       " \"l'etoile 1903 $ 4 ave de Wagram\",\n",
       " 'la bocca della verita $ 2 Rue du Sabot',\n",
       " 'brasserie mollard $ 115, rue Saint-Lazare',\n",
       " 'pharamond $ 24 rue de la Grande Truanderie',\n",
       " \"l'opéra restaurant $ 1, Place Jacques Rouché\",\n",
       " 'chipotle $ 20 Boulevard Montmartre',\n",
       " 'eclectic paris $ Centre beaugrenelle',\n",
       " 'big fernand montorgueil $ 32 rue Saint Sauveur',\n",
       " 'paname brewing company $ 41 Quai de Loire',\n",
       " 'léon de bruxelles - paris-montparnasse $ 82 bis Bld du Montparnasse',\n",
       " \"les parigots $ 5 Rue Chateau d'eau\",\n",
       " 'uma $ 7 Rue du 29 Juillet',\n",
       " 'les fils à maman paris $ 7 Bis Rue Geoffroy Marie',\n",
       " 'restaurant de le centre george pompidou $ ultimo piso del Centro george Pompidou',\n",
       " 'presto fresco $ 14, rue Montmartre',\n",
       " 'la mosquee $ 39 rue Geoffroy-Saint-Hilaire, Place Monge',\n",
       " 'cafe george v $ 120 avenue des Champs Elysees',\n",
       " 'le speakeasy restaurant piano bar $ 25 Rue Jean Giraudoux',\n",
       " 'auberge de venise $ 2 Rue de la Bastille',\n",
       " 'papillon $ 8 rue Meissonier',\n",
       " 'la perla - restaurant italien $ 5 rue Montorgueil',\n",
       " \"paya thaï $ 30 Rue D'Aligre\",\n",
       " \"la maison de l'aubrac $ 37 Rue Marbeuf\",\n",
       " 'the frog at bercy village $ 25, Cour Saint Emilion',\n",
       " 'le coq rico - paris $ 98 Rue Lepic',\n",
       " 'le jules verne $ Avenue Gustave Eiffel',\n",
       " \"l'as du fallafel $ 34, rue des Rosiers\",\n",
       " 'miznon $ 22, Rue des Ecouffes',\n",
       " 'hai kai $ 104 quai de jemmapes',\n",
       " 'chez casimir $ 6, rue de Belzunce, Gare du Nord',\n",
       " 'il cottage $ 1 Boulevard Lannes',\n",
       " 'le wagon bleu $ 7 Rue Boursault',\n",
       " 'la cicciolina $ 11 Rue Crespin du Gast',\n",
       " \"cave de l'insolite $ 30 Rue de la Folie Mericourt\",\n",
       " \"helene darroze $ 4 Rue d'Assas\",\n",
       " 'mamie burger faubourg montmartre $ 21 Rue Du Faubourg Montmartre',\n",
       " 'la fruitiere $ 11 Bis Rue de Cotte',\n",
       " 'bma - le bistrot de maelle et augustin $ 39 Avenue Duquesne',\n",
       " 'gladines saint-germain $ 44 Boulevard Saint-Germain',\n",
       " 'kong $ 1, rue du Pont Neuf',\n",
       " 'la marée jeanne $ 3, Rue Mandar',\n",
       " 'la gueuze $ 19, rue Soufflot',\n",
       " 'la ferme de charles $ 9/9 bis, Cour des Petites Ecuries',\n",
       " 'le georges $ 17, Rue Beaubourg (Centre Georges Pompidou)',\n",
       " 'christophe michalak $ 16 Rue De La Verrerie',\n",
       " 'cafe marly $ 93,rue de Rivoli',\n",
       " 'le pain quotidien $ 18-20 Rue des Archives',\n",
       " 'boeuf sur le toit $ 34 Rue Du Colisee',\n",
       " 'beefclub $ 58 Rue Jean Jacques Rousseau',\n",
       " 'sur un arbre perché $ 1, rue du 4 Septembre',\n",
       " 'le restaurant $ 32 Rue Veron',\n",
       " 'rococo fine kebab $ 4 Rue du Faubourg-Saint-Martin',\n",
       " 'deux fois plus de piment $ 33 rue St-Sebastien',\n",
       " 'matignon paris $ 3, avenue Matignon',\n",
       " \"le village a' neuilly $ 175 Avenue Charles de Gaulle\",\n",
       " 'la gare $ 19,chaussee de la Muette',\n",
       " 'la briciola $ Rue Charlot',\n",
       " '58 tour eiffel $ Champ De Mars',\n",
       " 'laduree royale $ 16 Rue Royale',\n",
       " \"schwartz's deli $ 16 rue des Ecouffes\",\n",
       " 'aux pres $ 27 Rue du Dragon',\n",
       " 'le ciel de paris $ 33, avenue du Maine',\n",
       " \"flam's colisee $ 16 rue du Colisee\",\n",
       " 'les marronniers $ 18,rue des Archives',\n",
       " 'le beaumarchais $ 21 Boulevard Beaumarchais',\n",
       " 'hd diner opera $ 25 Bvd des Italiens',\n",
       " 'les chouettes $ 32 rue de Picardie',\n",
       " 'nolita $ A 1, avenue Matignon',\n",
       " 'mg road $ 205 Rue Saint-Martin',\n",
       " 'les fondus de la raclette montparnasse $ 209, Boulevard Raspail',\n",
       " 'le bar a huitres montparnasse $ 112,boulevard du Montparnasse',\n",
       " 'la chambre aux oiseaux $ 48, rue Bichat Paris 10E',\n",
       " 'mi va mi $ 23 Rue des Rosiers',\n",
       " \"le hibou $ 16 Carrefour de L'Odeon\",\n",
       " 'grazie $ 91 Boulevard Beaumarchais',\n",
       " 'the frog & british library $ 114 Avenue de France',\n",
       " \"nos ancêtres les gaulois $ 39, Rue Saint Louis en L'Ile\",\n",
       " 'agapes traditions et gourmandises $ 47 Bis, Rue Poliveau',\n",
       " 'il brigante $ 14 Rue du Ruisseau',\n",
       " 'baranaan indian cocktail $ 7, Rue du Faubourg Saint Martin',\n",
       " 'ziti $ 60 rue Pierre Charron',\n",
       " 'auberge de flora $ 44 Bld Richard Lenoir',\n",
       " 'flunch place de clichy $ 1-3 Rue Caulaincourt',\n",
       " 'le coq $ 2 place du Trocadero',\n",
       " 'gran caffe convivium $ 28 RUE MARBEUF',\n",
       " 'le paradis du fruit $ 23,bd. des Italiens',\n",
       " 'goumard $ 9,rue Duphot',\n",
       " 'chez marc $ 12 Rue des Volontaires',\n",
       " 'chai 33 $ 33 cour saint Emillion',\n",
       " 'mansouria $ 11,rue Faidherbe-Chaligny',\n",
       " \"l'atelier de joel robuchon etoile $ 133 Avenue des Champs-Elysees\",\n",
       " 'le gastroquet $ 10 rue Desnouettes',\n",
       " 'gai moulin bistro $ 10 Rue Saint-Merri',\n",
       " 'miss ko $ 49/51 Avenue George V',\n",
       " 'ober mamma $ 107 Boulevard Richard Lenoir',\n",
       " 'hard rock cafe paris $ 14, Boulevard Montmartre',\n",
       " 'la brasserie du louvre $ Place du Palais Royal',\n",
       " 'ladurée champs-elysées $ 75 Avenue des Champs-Elysees',\n",
       " 'le relais de venise $ 271, boulevard Péreire',\n",
       " 'le comptoir du 5eme $ 1 rue des Grands Degres',\n",
       " 'pierre herme $ 18 Rue Sainte-Croix-De-La-Bretonnerie',\n",
       " 'equinox $ 33 Rue des Rosiers',\n",
       " \"j'go drouot $ 4 rue Drouot\",\n",
       " 'maison becquey $ 34 Quai De La Marne',\n",
       " 'sushi buffet $ 39 Rue de Lappe',\n",
       " 'hippopotamus paris vaugirard 15e $ 286 rue de Vaugirard',\n",
       " 'les comediens $ 1 Rue de la Trinite',\n",
       " 'lucien la chance $ 8 rue des Dames',\n",
       " 'jaipur cafe $ 15-17 rue des Messageries',\n",
       " 'le bistrot du louchebem $ 7 Rue des Prouvaires',\n",
       " \"pho 13 $ 66 Avenue d'Ivry\",\n",
       " 'bords de seine $ 1 place du Châtelet',\n",
       " 'victoria 1836 $ 12, Rue de Presbourg 75116 Paris',\n",
       " 'botak cafe $ 1 Rue Paul Albert',\n",
       " 'ma cocotte $ 93 Rue des Rosiers, Saint-Ouen',\n",
       " 'les bols de jean $ 2 Rue de Choiseul',\n",
       " 'le perchoir $ 14 rue Crespin du Gast',\n",
       " 'manfred cafe restaurant $ 1 Rue Reaumur',\n",
       " 'chez josephine $ 6 Place du Marche Sainte Catherine',\n",
       " 'le cafe de pauline $ 9 RUE DE L AMBROISIE',\n",
       " 'chez clément opéra $ 17, Boulevard des Capucines',\n",
       " 'vapiano marbeuf $ 36 rue Marbeuf',\n",
       " \"l'estaminet $ 116 rue Oberkampf\",\n",
       " 'la cantoche 42 $ 42 Rue de Menilmontant',\n",
       " 'restaurant tout le monde en parle $ 4 rue du Depart',\n",
       " 'un dimanche a paris $ 4-6-8, Cour du Commerce Saint Andre',\n",
       " 'le verre galant $ 256 rue Croix Nivert',\n",
       " 'via del gusto $ 344 Rue de Vaugirard',\n",
       " \"blend argout $ 44 Rue d'Argout\",\n",
       " \"restaurant du musee d'orsay $ 1 rue de la Legion d'honneur\",\n",
       " 'la petite chaise $ 36,rue de Grenelle',\n",
       " \"le procope $ 13,rue de l'Ancienne Comedie\",\n",
       " 'le plomb du cantal $ 3 rue de la Gaité',\n",
       " \"fraiche restaurant $ 8 Rue Vicq d'Azir\",\n",
       " 'cepe & figue $ Cour du Commerce St-Andre',\n",
       " 'the grilled cheese factory $ 9 rue Jacques Coeur',\n",
       " 'manko paris $ 15 avenue Montaigne',\n",
       " \"starvin' joe $ 42 Rue de Charonne\",\n",
       " 'cafe le buci $ corner of Dauphine and Buci',\n",
       " 'cafe barjot $ 18, avenue Ledru Rollin',\n",
       " 'au petit grain de sel $ 164 Av du Maine',\n",
       " 'table $ 3 Rue de Prague',\n",
       " 'berko $ 23 Rue Rambuteau',\n",
       " 'le cavalier bleu $ 143 Rue Saint Martin',\n",
       " 'cafe madeleine $ 1, rue Tronchet',\n",
       " \"le trait d'union $ 122 Rue Rennes\",\n",
       " 'bistro des 2 theatres $ 18 Rue Blanche',\n",
       " 'maison landemaine $ 2 Rue Crozatier 75012',\n",
       " '500 cinquecento $ 38 Rue Saint Denis',\n",
       " \"l'atelier des artistes $ 4, Rue Rampon\",\n",
       " 'cafe de la comedie $ 157 rue St Honore',\n",
       " 'jodhpur palace $ 16 Rue Hénard',\n",
       " 'dame tartine $ 2,rue Brisemiche',\n",
       " 'la marine brasserie restaurant $ 59 Boulevard du Montparnasse',\n",
       " 'g.iv $ 3 Rue Poissonniere',\n",
       " 'la mangue verte $ 100, Avenue Ivry',\n",
       " 'le comptoir général $ 80 Quai de Jemmapes',\n",
       " 'kohinoor $ 23 rue Blanche',\n",
       " 'pizza pino $ 33, avenue des Champs-Elysées',\n",
       " 'le recrutement café $ 36, Boulevard La Tour Maubourg',\n",
       " 'café brasserie les arts & métiers $ 51 Rue de Turbigo',\n",
       " 'iguana café $ 20 Rue des Severiano de Heredia',\n",
       " 'el nopalito $ 5 Rue de Reuilly',\n",
       " \"chez francis $ 7, Place de l'Alma\",\n",
       " 'chez luna $ 108 Rue de Ménilmontant',\n",
       " 'brasserie julien $ 16 Rue du Faubourg',\n",
       " 'chez francoise $ Aerogare des Invalides',\n",
       " 'eclair de genie $ 14 Rue Pavée',\n",
       " 'feyrouz $ 8,rue de Lourmel',\n",
       " 'hippopotamus paris montparnasse 14e $ 68 boulevard du Montparnasse',\n",
       " 'le tire bouchon $ 9 Rue Norvins',\n",
       " 'burger king paris boétie $ 124 Rue de la Boetie',\n",
       " 'la casa belucci $ 12 Avenue de Villiers',\n",
       " 'publicis drugstore $ 133, av des Champs-Elysees',\n",
       " 'la trattoria $ 20 rue Clapeyron',\n",
       " 'welcome café $ 210 Rue de Rivoli',\n",
       " 'beaucoup $ 7 rue froissart',\n",
       " 'les fontaines de saint honore $ 196, Rue St Honore',\n",
       " 'yeeels - paris $ 24 Avenue George V',\n",
       " 'mama lova $ Marcadet',\n",
       " 'el picador $ 80 boulevard des Batignolles',\n",
       " 'king falafel palace $ 26 Rue des Rosiers',\n",
       " 'comptoir moderne $ 26 Rue de la Croix Nivert',\n",
       " 'la favorite $ 4 rue de Rivoli',\n",
       " 'pietro commerce $ 5 Place Etienne Pernet',\n",
       " 'itadaki $ 64 Rue Monsieur le Prince',\n",
       " 'le brebant $ 32 Boulevard Poissonniere',\n",
       " 'chez marianne $ 2,rue des Hospitalières-Saint-Gervais',\n",
       " 'e-da $ 62 rue des entrepreneurs',\n",
       " 'le paris london $ 16 Place Madeleine',\n",
       " 'les princes $ 6, Place du Docteur Paul Michaux',\n",
       " 'noura marceau $ 27 avenue Marceau',\n",
       " 'okito sushi $ 27, Quai de Grenelle',\n",
       " 'chez ma cousine $ 12 rue Norvins',\n",
       " 'le bec rouge $ 46, bd du Montparnasse',\n",
       " 'flesh restaurant $ 25, Rue de Douai',\n",
       " 'higuma $ 32 rue Sainte-Anne',\n",
       " 'terminus nord $ 23,rue de Dunkerque',\n",
       " \"l'avenue $ 41, Avenue Montaigne\",\n",
       " 'aki $ 11 bis rue sainte anne',\n",
       " 'swann et vincent $ 22, place Denfert-Rochereau',\n",
       " 'la bonne heure $ 11 rue Brochant',\n",
       " 'big fernand $ 55 rue du Faubourg Poissonnière',\n",
       " 'cadet de gascogne $ 4 Place du Tertre',\n",
       " 'restaurant la recyclerie $ 83 Boulevard Ornano',\n",
       " 'el burro blanco $ 79, Rue du Cardinal Lemoine',\n",
       " 'le twickenham $ 68, Boul. Saint Germain',\n",
       " 'la prune folle $ Rue Crussol',\n",
       " 'auberge du moulin vert $ 34 Bis rue des Plantes',\n",
       " 'villa borghese $ 27 RUE BREA',\n",
       " 'aux trois maillets $ 67 Rue Saint-Denis',\n",
       " 'hippopotamus paris place de la république 3e $ 17 Place de la Republique',\n",
       " 'brasserie bofinger $ 5-7, Rue de la Bastille',\n",
       " 'le chalet des iles $ Lac inferieur du bois de Boulogne',\n",
       " 'restaurant grillé $ 15 Rue Saint-Augustin',\n",
       " '53 tolbiac $ 53 rue de Tolbiac',\n",
       " 'cafe branly $ 27,Quai Branly',\n",
       " 'pizza pino $ 4, Place De La Republique',\n",
       " 'au metro $ 8 place Felix Eboue',\n",
       " 'cafe beaubourg $ 43 rue St-Merri',\n",
       " 'le soufflot cafe $ 16 Rue Soufflot',\n",
       " 'mamie tevennec $ 119, avenue Parmentier 75011 Paris',\n",
       " 'bianco $ 60 Rue Montorgueil',\n",
       " \"le saint regis $ 39 Rue D'Orsel\",\n",
       " 'au petit victor hugo $ 143 avenue victor hugo',\n",
       " 'brasserie pepiniere $ 6 Place St Augustin',\n",
       " 'a la place saint georges $ 60 rue Saint Georges',\n",
       " 'la contrescarpe $ 57 RUE LACEPEDE',\n",
       " 'le 12 $ 12 Rue Dauphine',\n",
       " \"le ceni's $ 7 Rue Mont Cenis\",\n",
       " 'casa paco $ 13,rue Bassano',\n",
       " 'la comedia $ 107 Rue Monge',\n",
       " 'barrio latino $ 46 Rue du Faubourg Saint-Antoine',\n",
       " \"la vache au comptoir $ 13, rue d'Odessa\",\n",
       " \"l'alcazar $ 62 rue Mazarine\",\n",
       " 'le bouillon chartier $ 7 Rue du Faubourg Montmartre',\n",
       " \"buddha bar $ 8/12 Rue Boissy d'Anglais\",\n",
       " 'le wepler $ 14,place de Clichy',\n",
       " 'suan thai $ 35 rue du Temple',\n",
       " 'le 141 $ 141 Avenue Malakoff',\n",
       " 'margherita $ 11 Rue de L Ancienne Comedie',\n",
       " 'la chope daguerre $ 17 rue Daguerre',\n",
       " 'la baleine $ 47 rue Cuvier',\n",
       " 'le tibourg $ 4 rue du bourg Tibourg',\n",
       " 'faggio $ 72 Rue De Rochechouart',\n",
       " 'les alchimistes $ 16 Rue Favart',\n",
       " 'pau brasil paris $ 32 Rue de Tilsitt',\n",
       " 'chez eugene $ 17 Place du Tertre',\n",
       " 'le bistrot beaubourg $ 39 rue Beaubourg',\n",
       " 'bistrot des amis $ 67, rue du Cherche-Midi',\n",
       " 'café de la terrasse $ 76 Avenue de la Grande Armee']"
      ]
     },
     "execution_count": 107,
     "metadata": {},
     "output_type": "execute_result"
    }
   ],
   "source": [
    "MLresto_sale1"
   ]
  },
  {
   "cell_type": "code",
   "execution_count": 108,
   "metadata": {
    "collapsed": false
   },
   "outputs": [
    {
     "data": {
      "text/plain": [
       "['ziti $ 60 rue Pierre Charron',\n",
       " 'okito sushi $ 27, Quai de Grenelle',\n",
       " 'pizza pino $ 33, avenue des Champs-Elysées']"
      ]
     },
     "execution_count": 108,
     "metadata": {},
     "output_type": "execute_result"
    }
   ],
   "source": [
    "MLresto_sale2"
   ]
  },
  {
   "cell_type": "code",
   "execution_count": 109,
   "metadata": {
    "collapsed": false
   },
   "outputs": [
    {
     "data": {
      "text/plain": [
       "['la marée jeanne $ 3, Rue Mandar',\n",
       " \"nos ancêtres les gaulois $ 39, Rue Saint Louis en L'Ile\",\n",
       " 'ziti $ 60 rue Pierre Charron',\n",
       " 'la petite chaise $ 36,rue de Grenelle',\n",
       " 'jodhpur palace $ 16 Rue Hénard',\n",
       " 'la marine brasserie restaurant $ 59 Boulevard du Montparnasse',\n",
       " 'pizza pino $ 33, avenue des Champs-Elysées',\n",
       " 'okito sushi $ 27, Quai de Grenelle',\n",
       " 'auberge du moulin vert $ 34 Bis rue des Plantes',\n",
       " 'bistrot des amis $ 67, rue du Cherche-Midi']"
      ]
     },
     "execution_count": 109,
     "metadata": {},
     "output_type": "execute_result"
    }
   ],
   "source": [
    "resto_sale1"
   ]
  },
  {
   "cell_type": "code",
   "execution_count": 110,
   "metadata": {
    "collapsed": false
   },
   "outputs": [
    {
     "data": {
      "text/plain": [
       "['ziti $ 60 rue Pierre Charron',\n",
       " 'okito sushi $ 27, Quai de Grenelle',\n",
       " 'pizza pino $ 33, avenue des Champs-Elysées']"
      ]
     },
     "execution_count": 110,
     "metadata": {},
     "output_type": "execute_result"
    }
   ],
   "source": [
    "resto_sale2"
   ]
  },
  {
   "cell_type": "code",
   "execution_count": 90,
   "metadata": {
    "collapsed": true
   },
   "outputs": [],
   "source": [
    "export_resto_cible(\"resto_cible1_main\", \"resto_cible2_main\", resto_sale1, resto_sale2)\n",
    "export_resto_cible(\"resto_cible1_auto\", \"resto_cible2_auto\", MLresto_sale1, MLresto_sale2)"
   ]
  },
  {
   "cell_type": "markdown",
   "metadata": {},
   "source": [
    "On enregistre les bases de restaurants avec une supposée mauvaise hygiène."
   ]
  },
  {
   "cell_type": "code",
   "execution_count": 93,
   "metadata": {
    "collapsed": true
   },
   "outputs": [],
   "source": [
    "MLdf_tres_sale_recurrent.to_csv(\"MLdf_tres_sale_recurrent.csv\", sep=\";\", index = False, encoding = 'utf-8')\n",
    "MLdf_tres_sale_recurrent_date.to_csv(\"MLdf_tres_sale_recurrent_date.csv\", sep=\";\", index = False, encoding = 'utf-8')"
   ]
  },
  {
   "cell_type": "markdown",
   "metadata": {},
   "source": [
    "On vérifie la teneur des commentaires."
   ]
  },
  {
   "cell_type": "code",
   "execution_count": 91,
   "metadata": {
    "collapsed": false
   },
   "outputs": [
    {
     "name": "stdout",
     "output_type": "stream",
     "text": [
      "ziti\n",
      "05/03/2016\n",
      "2.6\n",
      "Nous avons dîner ce soir et nous Sommes très déçus de ce restaurant; Les plats n ont pas de goûts; pâte à la truffe écoeurante et pizza sans goût; En sortant du restaurant ma femme à eu une intoxication alimentaire : des gros mots de ventre et à vomis à plusieurs reprise Soirée Romantique tombe à l eau !!!!\n",
      "######\n",
      "\n",
      "\n",
      "ziti\n",
      "07/02/2016\n",
      "1.66666666667\n",
      "Une cuisine goûteuse et un service de très bonne qualité gâchée par un problème avec les produits frais. J'ai pris des pâtes fraîches aux coquillages qui m'ont valu d'être malade quelques heures après.\n",
      "######\n",
      "\n",
      "\n",
      "pizza pino\n",
      "08/02/2016\n",
      "1.38\n",
      "Plat du jour \"livré\" en sept minutes, le soir même intoxication alimentaire grâce aux noix de saint Jacques pas fraiches servies en pâtes. A éviter donc pour moi.\n",
      "######\n",
      "\n",
      "\n",
      "pizza pino\n",
      "02/01/2016\n",
      "1.66666666667\n",
      "Nous avons pris deux pizzas différentes mais nous avons été malade tous les 2 une partie de l après midi (jusqu en soirée pour mon amie). Nous ne reviendrons pas.\n",
      "######\n",
      "\n",
      "\n",
      "okito sushi\n",
      "05/03/2016\n",
      "1.98333333333\n",
      "Personnel vraiment désagréable. J'y suis allée avec 7 de mes amis et on a TOUS eu une intoxication, tous sans exception. A EVITER !\n",
      "######\n",
      "\n",
      "\n",
      "okito sushi\n",
      "18/02/2016\n",
      "2.36\n",
      "Formule à volonté pour 13 euros. Les sushis sont infectes. Le riz n est pas cuit. La feuille de nori ressemble à du plastique. Service très long. Très bruyant. On se serait cru dans une cantine. Les serveurs sont désagréables. Nous avons dû demandé à 3 reprises notre commande pour être servis ... Nous avons été malade toute l après...\n",
      "######\n",
      "\n",
      "\n",
      "okito sushi\n",
      "09/01/2016\n",
      "3.0\n",
      "Un japonais chinois. Nous y sommes à 5, 4 ont été malades dans l'après-midi. Buffet à volonté qui vient à bout de notre volonté au bout de 4 brochettes. Les makis ne sont pas beaux, les brochettes ne sont pas bonnes, l'attente était très longue et l'un des serveurs mal luné. Bref : un buffet à volonté aucunement comparable à...\n",
      "######\n",
      "\n",
      "\n",
      "########################### \n",
      " ########################### \n",
      " ########################### \n",
      " ########################### \n",
      "\n",
      "ziti\n",
      "21/04/2016\n",
      "4.95\n",
      "Les plats sont quelconques pas mauvais, mais pas bon non plus. Attention à la facturation 2 bouteilles d'eau évian facturées 16€...\n",
      "######\n",
      "\n",
      "\n",
      "ziti\n",
      "05/03/2016\n",
      "2.6\n",
      "Nous avons dîner ce soir et nous Sommes très déçus de ce restaurant; Les plats n ont pas de goûts; pâte à la truffe écoeurante et pizza sans goût; En sortant du restaurant ma femme à eu une intoxication alimentaire : des gros mots de ventre et à vomis à plusieurs reprise Soirée Romantique tombe à l eau !!!!\n",
      "######\n",
      "\n",
      "\n",
      "ziti\n",
      "07/02/2016\n",
      "1.66666666667\n",
      "Une cuisine goûteuse et un service de très bonne qualité gâchée par un problème avec les produits frais. J'ai pris des pâtes fraîches aux coquillages qui m'ont valu d'être malade quelques heures après.\n",
      "######\n",
      "\n",
      "\n",
      "pizza pino\n",
      "27/04/2016\n",
      "4.925\n",
      "Un restaurant parfait pour les touristes, on paye vraiment juste l'emplacement sur les champs élysées !!! Le service était très rapide donc si vous êtes pressés c'est top !!! Plus de 18€ une pizza reine (juste jambon-champignons) et environ 15€ une pizza avec des saint-jacques, allez comprendre !!! 6.60€ un coca, on est touriste donc ça passe ... Je pense...\n",
      "######\n",
      "\n",
      "\n",
      "pizza pino\n",
      "23/04/2016\n",
      "4.92\n",
      "Nous nous sommes arrêtés dans ce restaurant que nous connaissons puisque nous en avons un à Lyon. Accueillis et placés de suite avec nos enfants... Commande prise rapidement, plat principal servi rapidement mais alors après, une catastrophe ! Mon mari avait demandé une entrecôte saignante, elle était plus que cuite... Attente interminable pour avoir les desserts des enfants et la...\n",
      "######\n",
      "\n",
      "\n",
      "pizza pino\n",
      "15/02/2016\n",
      "4.86666666667\n",
      "J'ai commander une escalope parmigiana et fruit de mer pour ma femme . Déjà une heure d'attente pour avoir nos plats . l'escalope il fallait la chercher sous l'aubergine . le plat de ma femme était froid . Sincèrement le patron de ce restaurant doit changer tous ces ouvrier en salle sans exceptions. Tous Impolis , il jetais les assiettes...\n",
      "######\n",
      "\n",
      "\n",
      "pizza pino\n",
      "08/02/2016\n",
      "1.38\n",
      "Plat du jour \"livré\" en sept minutes, le soir même intoxication alimentaire grâce aux noix de saint Jacques pas fraiches servies en pâtes. A éviter donc pour moi.\n",
      "######\n",
      "\n",
      "\n",
      "pizza pino\n",
      "14/01/2016\n",
      "4.27777777778\n",
      "Ce restaurant est vraiment un scandale. Trop cher pour ce qu'il y a dans l'assiette. Pizza trop petite pour 20€. Burger vraiment pas présentable et brulé! Service 0/20. Pas un sourire. On sent les serveurs blazés. Pas trop fini de payer que l'on vous fait comprendre qu'il faut bouger pour laisser la place à d'autres personnes. Pour un restaurant des...\n",
      "######\n",
      "\n",
      "\n",
      "pizza pino\n",
      "06/01/2016\n",
      "4.80074074074\n",
      "Si vous venez ici-bas pour une pizza ne prenez surtout pas la pizza Bruno détrempée par les lardons décongelés et hyper salés. Qui a eut les tranches de reblochon car je n'ai eu que des croûtes. Pizza infecte 17 euros 90 quand même ne vous faites pas avoir par cette pizzeria qui à eut une bonne réputation il y a...\n",
      "######\n",
      "\n",
      "\n",
      "pizza pino\n",
      "02/01/2016\n",
      "1.66666666667\n",
      "Nous avons pris deux pizzas différentes mais nous avons été malade tous les 2 une partie de l après midi (jusqu en soirée pour mon amie). Nous ne reviendrons pas.\n",
      "######\n",
      "\n",
      "\n",
      "okito sushi\n",
      "05/03/2016\n",
      "1.98333333333\n",
      "Personnel vraiment désagréable. J'y suis allée avec 7 de mes amis et on a TOUS eu une intoxication, tous sans exception. A EVITER !\n",
      "######\n",
      "\n",
      "\n",
      "okito sushi\n",
      "18/02/2016\n",
      "2.36\n",
      "Formule à volonté pour 13 euros. Les sushis sont infectes. Le riz n est pas cuit. La feuille de nori ressemble à du plastique. Service très long. Très bruyant. On se serait cru dans une cantine. Les serveurs sont désagréables. Nous avons dû demandé à 3 reprises notre commande pour être servis ... Nous avons été malade toute l après...\n",
      "######\n",
      "\n",
      "\n",
      "okito sushi\n",
      "09/01/2016\n",
      "3.0\n",
      "Un japonais chinois. Nous y sommes à 5, 4 ont été malades dans l'après-midi. Buffet à volonté qui vient à bout de notre volonté au bout de 4 brochettes. Les makis ne sont pas beaux, les brochettes ne sont pas bonnes, l'attente était très longue et l'un des serveurs mal luné. Bref : un buffet à volonté aucunement comparable à...\n",
      "######\n",
      "\n",
      "\n"
     ]
    }
   ],
   "source": [
    "outcome_com (df_tres_sale_recurrent_date)\n",
    "print(\"###########################\", \"\\n\", \"###########################\", \"\\n\", \"###########################\", \"\\n\", \"###########################\", \"\\n\") \n",
    "outcome_com (MLdf_tres_sale_recurrent_date)"
   ]
  },
  {
   "cell_type": "code",
   "execution_count": 97,
   "metadata": {
    "collapsed": true
   },
   "outputs": [
    {
     "name": "stdout",
     "output_type": "stream",
     "text": [
      "le crystal paris\n",
      "09/02/2016\n",
      "1.0\n",
      "Bon mais loin d'être gastronomique. Je dirais plutôt cuisine bistro chic. Les prix sont trop élevés et ne sont pas justifiés. Mon carpaccio de saint Jacques manquait de fraîcheur et de saveurs trop fade, les épices ajoutées ne se mariaient pas à la subtilité des saint Jacques .Le petit morceau de poivron rouge cru aurait mérité d'être confit. La pièce...\n",
      "######\n",
      "\n",
      "\n",
      "231 east street\n",
      "22/01/2016\n",
      "1.0\n",
      "Pain brulé, cheddar au compte goutte sur les frites, et commande incomplete. Merci les gars continuez comme ça, mais préparez vos CV ça durera pas.\n",
      "######\n",
      "\n",
      "\n",
      "aux saveurs de beyrouth\n",
      "01/05/2016\n",
      "2.9\n",
      "J'ai pris l'assiette vegetarienne, et la nuit fut difficile. Des relans d'odeur d'outre tombe par la bouche en ayant à peine terminé le plateau. Toute la journée du lendemain : meme chose ! Je pense que la nourriture n'etait tout simplement pas fraiche pour subir cet etat de putrefaction.\n",
      "######\n",
      "\n",
      "\n",
      "cafe eugene\n",
      "24/03/2016\n",
      "1.0\n",
      "Tout d'abord un endroit ridiculement petit avec des tables tellement serrées qu'on est obligé de se lever pour laisser passer les autres personnes. Burger au cantal d'un demi micron de centimètre (le cantal) avec des frites tellement recuites qu'elles étaient dures et difficiles à piquer avec la fourchette . Ruche incessante de serveurs qui courent partout et qui se font...\n",
      "######\n",
      "\n",
      "\n",
      "le petit poucet\n",
      "05/03/2016\n",
      "2.9\n",
      "Ils ne servent plus de boissons chaudes à 18h en plein hiver... C'est très étonnant pourtant un café bar brasserie. Et en plus c'est très cher! Le coca est à 5,80€\n",
      "######\n",
      "\n",
      "\n",
      "au clairon des chasseurs\n",
      "08/05/2016\n",
      "2.45\n",
      "Piège à touristes. Nous nous sommes juste arrêtés boire une bière. Les 25cL de 1664 sont facturés 6 euros... alors que le prix affiché est de 5 euros sur une carte pourtant bien dissimulée sur un mur dérobé. Service détestable où les employés se permettent entre eux des remarques désobligeantes sur les clients ne comprenant pas notre langue. Un établissement...\n",
      "######\n",
      "\n",
      "\n",
      "upizzeria mimmo\n",
      "07/04/2016\n",
      "2.85\n",
      "Ambiance très froide entre le personnel. Les remarques fait au personnel devant les clients. Il devrait rajouter un fond musical pour l'ambiance. Je pense que le sourire du personnel est portée disparu. Le serveur inverse les plats. Nous avons bien aimer se coter box pour manger en tête à tête. Salade de mauvaise qualité sûrement de la salade en sachets....\n",
      "######\n",
      "\n",
      "\n",
      "pan asie\n",
      "19/04/2016\n",
      "1.0\n",
      "Produits pas vraiment très frais. Ne pas y aller hors buffet soir que je n'ai pas essayé. J'en ai mal au ventre.\n",
      "######\n",
      "\n",
      "\n",
      "chez clement - porte de versailles\n",
      "29/01/2016\n",
      "1.0\n",
      "Premièrement, ils n'ont pas voulu nous servir le kir royal sur la carte car ils ne servent le champagne qu'en bouteille. Deuxièmement, j'ai pris le saumon sauce oseille avec légumes, et j'ai fais une bonne intoxication alimentaire derrière... Horrible !! Je n'y remettrai pas les pieds ...\n",
      "######\n",
      "\n",
      "\n",
      "la casbah\n",
      "15/02/2016\n",
      "1.0\n",
      "Pas terrible... J'ai l'impression que ce resto est en perte de vitesse... Nous y allions il y a quelques années avec mon épouse, mais cela semble avoir bien changé...\n",
      "######\n",
      "\n",
      "\n",
      "bistrot saint andre\n",
      "21/01/2016\n",
      "2.24444444444\n",
      "j'ai déjeuné dans ce restaurant dimanche. nous avons pris deux formules. Très décu, c'est vraiment un prix d'appel, mais le respect de la cuisson pourrait être respecté. bien cuit ne signifie pas brulé et une viande très dure à macher. ne pas mettre de salade si elle n'est pas lavé correctement. la tarte tatin était guère appétissante cela ressemblait plutot...\n",
      "######\n",
      "\n",
      "\n",
      "missada\n",
      "01/02/2016\n",
      "2.33333333333\n",
      "Nous sommes allés mon mari et moi-même un dimanche midi.... mais plus jamais nous ne remettrons les pieds dans ce restaurant. service laisse à desirer, nourriture mauvaise, mon mari a fait une intoxication alimentaire aussitôt après avoir consommé un plat. Nous sommes allés avec les pompiers aux urgencies Bichat.... nous avons eu très peur et malgré cela nous avons dû...\n",
      "######\n",
      "\n",
      "\n",
      "café départ\n",
      "10/02/2016\n",
      "2.9\n",
      "On est tout de suite accueilli froidement, non pas sur cette table vous êtes tout seul, j'encaisse tout de suite ... Bref on se sent tout de suite mal à l'aise. Pourtant le décor est plutôt sympa mais mieux vaut attendre autre part à Saint Lazare. Premier bistrot où je vois la bière proposé au litre (18€ à 20€) sûrement...\n",
      "######\n",
      "\n",
      "\n",
      "la bocca della verita\n",
      "16/01/2016\n",
      "1.0\n",
      "Restaurant très cher et très mauvais on m'a servi une escalope j'ai cru pendant un moment que c'était une semelle de chaussure Restaurants à éviter peut-être seulement pour boire un verre.\n",
      "######\n",
      "\n",
      "\n",
      "brasserie mollard\n",
      "04/01/2016\n",
      "1.66666666667\n",
      "Produis ne sont pas frais! J’étais malade après.Le service est moyen. Très belle arnaque pour des étranges.Mais le dessert ça allé.\n",
      "######\n",
      "\n",
      "\n",
      "big fernand montorgueil\n",
      "09/02/2016\n",
      "1.0\n",
      "Commande en livraison dimanche soir, intoxication alimentaire bonjour, arrêt de travail jusqu'a jeudi.\n",
      "######\n",
      "\n",
      "\n",
      "léon de bruxelles - paris-montparnasse\n",
      "25/01/2016\n",
      "1.66666666667\n",
      "Franchement c'est pas bon et cher. On a mangé moules marnière et gaufres au chocolat. Les moules sont mal assaisonnées, et le dessert est total industriel. L'ensemble est sans intérêt. Le service est zéro, les serveurs courent tout le temps, résultat une impression de déranger. Le pompon, on a été malade toute la nuit, genre intoxication alimentaire. Alors pour moi,...\n",
      "######\n",
      "\n",
      "\n",
      "rococo fine kebab\n",
      "14/02/2016\n",
      "1.0\n",
      "Très jolie deco . Les hipsters ont leur joli lieu Kebab. .. Les hipsters vont maigrir. .. sur 6 amis 4 étaient malades juste après ... tout commence dans un joli cadre lumière tamisée , mais oreilles agressées par une musique hip hop trop forte ... un service désolant : une serveuse qui soupire à chaque fois que l on...\n",
      "######\n",
      "\n",
      "\n",
      "le ciel de paris\n",
      "17/03/2016\n",
      "1.0\n",
      "Le cadre et le service sont parfait Cependant pour un restaurant gastronomique la nourriture manque de finesse de plus une intoxication alimentaire a suivi....\n",
      "######\n",
      "\n",
      "\n",
      "baranaan indian cocktail\n",
      "04/03/2016\n",
      "2.93333333333\n",
      "Malgré des coktails et des mets de qualité, l'endroit manque d'identité. L'idée du concept du train n'est pas assez poussée. Les coktails sont chers. Mais le plus scandaleux c'est que lorsque l'on a fini de consommer on nous pousse vers la sortie! malgrè pourtant une addition salée\n",
      "######\n",
      "\n",
      "\n",
      "ziti\n",
      "05/03/2016\n",
      "2.6\n",
      "Nous avons dîner ce soir et nous Sommes très déçus de ce restaurant; Les plats n ont pas de goûts; pâte à la truffe écoeurante et pizza sans goût; En sortant du restaurant ma femme à eu une intoxication alimentaire : des gros mots de ventre et à vomis à plusieurs reprise Soirée Romantique tombe à l eau !!!!\n",
      "######\n",
      "\n",
      "\n",
      "ziti\n",
      "07/02/2016\n",
      "1.66666666667\n",
      "Une cuisine goûteuse et un service de très bonne qualité gâchée par un problème avec les produits frais. J'ai pris des pâtes fraîches aux coquillages qui m'ont valu d'être malade quelques heures après.\n",
      "######\n",
      "\n",
      "\n",
      "flunch place de clichy\n",
      "09/03/2016\n",
      "1.0\n",
      "Nul et archi nul, personnel : ta envie de les tués, service : médiocre, qualité alimentaire : a gerber et enfin le client est soumis a un régime : manger sans pain afin que eux puisse limiter leur perte. de plus le personnel te balade comme si qu'on était une balle de ping pong sans obtenir ce que l'on souhaite...\n",
      "######\n",
      "\n",
      "\n",
      "chai 33\n",
      "15/04/2016\n",
      "2.96666666667\n",
      "[14/04/16 ; Dîner ; Table nº50 ; 9 pers. ] Chapitre 1: Le faux espoir A l'arrivée, mes amis et moi découvrons un cadre sympa et une décoration moderne. Bref l'ambiance des lieux annonce un repas de qualité et agréable, idéal pour un anniversaire surprise. Chapitre 2: La désillusion Nous avons tous passé commande assez rapidement. Chacun choisissant son plat...\n",
      "######\n",
      "\n",
      "\n",
      "le relais de venise\n",
      "28/02/2016\n",
      "2.33333333333\n",
      "J'y suis déjà allé diner plusieurs fois et tjs très content. Cependant ce vendredi 26 février soir, malgré un service parfait, j'ai choppé une intoxication alimentaire. J'ai passé une journée et une nuit entre vomissement et diarrhée. Je recommande ce resto mais suite à ce dernier diner je n'y retournerai pas d'aussitôt.\n",
      "######\n",
      "\n",
      "\n",
      "le comptoir du 5eme\n",
      "07/05/2016\n",
      "2.9\n",
      "Bon, que dire? j'ai fait confiance à la notation correcte sur l'ensemble des sites. L'expérience fut assez désastreuse sur le plan culinaire. Il n'y a pas grand chose à sauver de ma soirée. - L'entrée : une salade au poulet croustillant et écrevisse. La salade se résumait à des sabots de salade (dont je ne saurais identifier la variété). Le...\n",
      "######\n",
      "\n",
      "\n",
      "le bistrot du louchebem\n",
      "09/05/2016\n",
      "2.63333333333\n",
      "Nous pensions trouver le petit frère du restaurant du même nom situé en face mais avec un peu moins de monde : ça aurait dû nous mettre la puce à l'oreille! Qualité médiocre, viande de veau mal cuite et maux de ventre à la clé! Bref, à éviter!\n",
      "######\n",
      "\n",
      "\n",
      "les bols de jean\n",
      "02/02/2016\n",
      "1.0\n",
      "N'y aller pas spécialement pour le pain sans Gluten ! il n'est pas proposé tous les jours dommage quand on y va pour déguster sans gluten.\n",
      "######\n",
      "\n",
      "\n",
      "le cafe de pauline\n",
      "25/02/2016\n",
      "2.93333333333\n",
      "Venu pour manger entre amis un soir , les plats sont bon ( risotto et Poulet ) , par contre le serveur est plus que détestable , se permet des remarques en passant entre les tables , demande à ses collègues de couper le chauffage pour faire partir les clients.. À fuir\n",
      "######\n",
      "\n",
      "\n",
      "restaurant tout le monde en parle\n",
      "21/02/2016\n",
      "1.0\n",
      "Un pur moment d'horreur! 47 euros payé pour un menu digne d'une cantine de resto Universitaire ( les étudiants savent de quoi je parle), soit presque une journée de salaire livrée à la poubelle... Vive le tri sélectif! Vestiaire facturé doublement, 2 euros pour le sac à main de ses dames ( qu'il est absolument interdit de garder sur soi,...\n",
      "######\n",
      "\n",
      "\n",
      "restaurant tout le monde en parle\n",
      "24/01/2016\n",
      "1.0\n",
      "Soirée d anniversaire à un prix élevé. Prince de réservation scandaleux, menu imposé une semaine à l'avance, vestiaire obligatoire, repas fade et expédié en moins de 2h. Bref à fuir...\n",
      "######\n",
      "\n",
      "\n",
      "the grilled cheese factory\n",
      "12/02/2016\n",
      "2.93333333333\n",
      "Je suis allée là bas pour un déjeuner sur le pouce. Bien mal m'en a pris. J'ai mangé la moitié de mon sandwich, l'autre moitié a fini dans la poubelle.\n",
      "######\n",
      "\n",
      "\n",
      "manko paris\n",
      "12/04/2016\n",
      "2.75\n",
      "Rien a rajouter...a fuir de tout évidence 😡 Attente interminable pour annoncer en fin de course que les cuisines sont fermées!!! Cocktails hors de prix et clientèle vulgaire...scandaleux😡😡😡\n",
      "######\n",
      "\n",
      "\n",
      "starvin' joe\n",
      "08/02/2016\n",
      "2.6\n",
      "Les photos donnent envie.. On s'attend à un pain d'exception mais le tout manque cruellement de goût. Pas vraiment de sauce, et la viande n'est pas top. C'est dommage\n",
      "######\n",
      "\n",
      "\n",
      "500 cinquecento\n",
      "20/03/2016\n",
      "1.66666666667\n",
      "Nous sommes venu a 6 personnes tester ce resto et me voila malade du week end . J'ai pris un hamburger xxl .\n",
      "######\n",
      "\n",
      "\n",
      "la marine brasserie restaurant\n",
      "25/04/2016\n",
      "2.33333333333\n",
      "Nous sommes allés dans cette brasserie pour un match de foot un soir, j'ai commandé un hamburger, résultat : intoxication alimentaire, le steak haché, mal cuit, n'était pas du tout frais.\n",
      "######\n",
      "\n",
      "\n",
      "la marine brasserie restaurant\n",
      "12/01/2016\n",
      "2.33333333333\n",
      "Je suis allé plusieurs fois dans ce bar mais la dernière fois le tartare à eu raison de moi... certes il n'étais pas mauvais au premier abord mais au final je me suis tapé une intoxication alimentaire!\n",
      "######\n",
      "\n",
      "\n",
      "kohinoor\n",
      "11/03/2016\n",
      "1.0\n",
      "allez y pour manger le midi à10 euros un plat simple mais pas pour savourez la cuisine indienne rapide et mal de ventre sont mes deux principaux souvenirs moi qui suis un peu fragile\n",
      "######\n",
      "\n",
      "\n",
      "pizza pino\n",
      "08/02/2016\n",
      "1.38\n",
      "Plat du jour \"livré\" en sept minutes, le soir même intoxication alimentaire grâce aux noix de saint Jacques pas fraiches servies en pâtes. A éviter donc pour moi.\n",
      "######\n",
      "\n",
      "\n",
      "pizza pino\n",
      "02/01/2016\n",
      "1.66666666667\n",
      "Nous avons pris deux pizzas différentes mais nous avons été malade tous les 2 une partie de l après midi (jusqu en soirée pour mon amie). Nous ne reviendrons pas.\n",
      "######\n",
      "\n",
      "\n",
      "café brasserie les arts & métiers\n",
      "18/04/2016\n",
      "1.0\n",
      "Nous avons pris la formule brunch mais on s'est fait un peu avoir: 3 plats et c'est tout. Pas de boissons. Certes, les plats étaient bons mais sans boisson, cela fait cher (16€/personne).\n",
      "######\n",
      "\n",
      "\n",
      "chez luna\n",
      "03/01/2016\n",
      "2.17291666667\n",
      "Nous avons été très déçus par le brunch proposé, pour le prix affiché je m'attendais à un minimum de service de la part de la patronne. Les plats n'ont aucun goût et j'ai l'impression que ça fait plusieurs jours qu'ils attendaient dans le réfrigérateur. J'ai vomi tout ce que j'ai mangé en plusieurs fois et j'ai eu de gros problèmes...\n",
      "######\n",
      "\n",
      "\n",
      "brasserie julien\n",
      "07/03/2016\n",
      "1.0\n",
      "Découverte, lors d'un déjeuner d'affaire de cette brasserie typiquement parisienne au décorum suranné mais assez plaisant, qui nous ramène dans le Paris du début XXeme. Pour le reste des \"détails\" qui tuent. Un velouté aux champignons en entrée qui arrive tiède/froid avec un tas de crème fraîche au milieu à peine sortie du réfrigérateur... Nous attendions une soupe bien chaude...\n",
      "######\n",
      "\n",
      "\n",
      "eclair de genie\n",
      "07/02/2016\n",
      "2.8\n",
      "Un lieu de plaisir où nous avons quelques habitudes. Quel dommage que le service soit aussi mal organisé, et parfois détestable. Cet après-midi, une queue habituelle pour un dimanche, un service débordé et désorganisé. Après une longue attente dans la queue, le serveur rattrape l'attente par quelques mots agréables, et patatras, la caissière nous rembarre, en glissant à l'oreille du...\n",
      "######\n",
      "\n",
      "\n",
      "feyrouz\n",
      "07/01/2016\n",
      "1.62666666667\n",
      "Etant venu à 20 on nous a obligé à prendre le menu à 30 € ! On nous gave de salades pas chères à l'entrée puis de canapés limite décongelés pour ensuite nous servir de la viande tout aussi décongelée. Par contre la quantité est au rendez-vous. On en retiendra un accueil très moyen et une indigestion le lendemain.\n",
      "######\n",
      "\n",
      "\n",
      "hippopotamus paris montparnasse 14e\n",
      "25/03/2016\n",
      "2.975\n",
      "Personne â l'accueil.. Nous nous sommes places tout seul. Perso : j'ai pris un tartare de bœuf cru. Viande correcte mais assaisonnement médiocre. Quelques morceaux de cornichons et de câpres baignant dans l'huile. Rien d'autre ! Le pompon : la pomme de terre bouillie et rebouillie, insipide et servie froide. Quelle déception pour un plat de référence.\n",
      "######\n",
      "\n",
      "\n",
      "le tire bouchon\n",
      "23/02/2016\n",
      "2.83333333333\n",
      "Le restaurant est pourtant chouette lorsque l'on y rentre, une deco atypique et chaleureuse...mais lorsque l'o arrive aux plats c'est le drame. Une soupe à l'oignon douteuse et des crêpes faites à la va vite (l'oeuf était encore cru dans la mienne)...\n",
      "######\n",
      "\n",
      "\n",
      "la casa belucci\n",
      "18/01/2016\n",
      "1.0\n",
      "Pizzas vraiment pas au top, l oeuf non cuit du tout dans la calzone très bof. Les salades plus chères que les pizzas, et l'accueil vraiment pas top du tout. Suis venu un midi je ne reviendrai plus.\n",
      "######\n",
      "\n",
      "\n",
      "noura marceau\n",
      "17/01/2016\n",
      "2.8\n",
      "La cuisine est absolument affreuse. Nous avons commandé en livraison plusieurs plats différents , et sans exception rien ne se mange. À éviter !\n",
      "######\n",
      "\n",
      "\n",
      "okito sushi\n",
      "05/03/2016\n",
      "1.98333333333\n",
      "Personnel vraiment désagréable. J'y suis allée avec 7 de mes amis et on a TOUS eu une intoxication, tous sans exception. A EVITER !\n",
      "######\n",
      "\n",
      "\n",
      "okito sushi\n",
      "18/02/2016\n",
      "2.36\n",
      "Formule à volonté pour 13 euros. Les sushis sont infectes. Le riz n est pas cuit. La feuille de nori ressemble à du plastique. Service très long. Très bruyant. On se serait cru dans une cantine. Les serveurs sont désagréables. Nous avons dû demandé à 3 reprises notre commande pour être servis ... Nous avons été malade toute l après...\n",
      "######\n",
      "\n",
      "\n",
      "el burro blanco\n",
      "03/01/2016\n",
      "1.16666666667\n",
      "Une arnaque, malade le lendemain intoxication alimentaire. c est une honte ce restaurant j invite les service d hygiène a venir faire un tour. HORRIBLE RESTAURANT !!!!!\n",
      "######\n",
      "\n",
      "\n",
      "auberge du moulin vert\n",
      "24/03/2016\n",
      "2.33333333333\n",
      "Nous avons réservé pour 4 en toute confiance, et commandé pour deux un plateaux de coquillage. Les deux personnes on eu une grave intoxication alimentaire malgré plusieurs relance aucun arrangement commercial en vue. Restaurant déconseillé. Mr duble.\n",
      "######\n",
      "\n",
      "\n",
      "le chalet des iles\n",
      "31/01/2016\n",
      "1.0\n",
      "Réveillon à dégoûter des sorties Parisiennes !! une honte 60€ la Despé, aucun apéritif dînatoire , vol délibéré, la Direction a osé me prétendre par mail .... que tout avait été respecté selon l'offre et que les buffets étaient disposés dans le complexe !!! pure mensonge nous sommes partis à 00h30 manger un Grecque sur Paris Le pompon il a...\n",
      "######\n",
      "\n",
      "\n",
      "la vache au comptoir\n",
      "11/02/2016\n",
      "1.0\n",
      "Grosse intoxication alimentaire à cause d'un steak tartare... C'est quand même rare à Paris mais par précaution et par politesse, j'ai préféré leur téléphoner pour les prévenir. J'ai bien précisé que je n'appelais pas pour me plaindre mais pour éviter que cela ne se reproduise : on m'a rétorqué immédiatement que c'était absolument impossible, que la viande fraîche arrivait sous...\n",
      "######\n",
      "\n",
      "\n",
      "suan thai\n",
      "14/02/2016\n",
      "2.58\n",
      "Encore une fois un restaurant qui propose un menu spécial saint Valentin. Encore une fois c'est décevant et cher pour ce qui est proposé. Meme pas un verre pour les clients menu. Meme pas des plats spéciaux pour cette occasion. En additionnant entrée plat dessert autant prendre la carte c'est moins cher !!!! La nourriture. La nourriture. La nourriture. Comme...\n",
      "######\n",
      "\n",
      "\n",
      "la baleine\n",
      "15/02/2016\n",
      "1.0\n",
      "assez cher pour ce qui est servi. un fast food amélioré. service assez long. cadre sympa. guère de choix\n",
      "######\n",
      "\n",
      "\n"
     ]
    }
   ],
   "source": [
    "outcome_com (MLdf_tres_sale_recurrent[MLdf_tres_sale_recurrent.Note_hyg < 3])"
   ]
  },
  {
   "cell_type": "markdown",
   "metadata": {},
   "source": [
    "On établit un nuage de mots à chaque étape de sélection."
   ]
  },
  {
   "cell_type": "code",
   "execution_count": 100,
   "metadata": {
    "collapsed": false
   },
   "outputs": [],
   "source": [
    "def score_nuage(df, dico_corpus, filename, stemmer=False):\n",
    "    res = {}\n",
    "    texte = \"\"\n",
    "    for i in range(df.shape[0]):\n",
    "        texte += \". \" + df.at[i, \"Commentaire\"]\n",
    "    x = tf_idf(texte, dico_corpus, with_stemmer=stemmer)\n",
    "    l = tri_dico_byvalue(x)[:100]\n",
    "    for mot in l:\n",
    "        res[mot] = x[mot] \n",
    "    with open(filename+'.csv', 'w') as f:\n",
    "        w = csv.DictWriter(f, res.keys())\n",
    "        w.writeheader()\n",
    "        w.writerow(res)\n",
    "    return res"
   ]
  },
  {
   "cell_type": "code",
   "execution_count": 101,
   "metadata": {
    "collapsed": false
   },
   "outputs": [],
   "source": [
    "score_nuage_sale = score_nuage(MLdf_tres_sale, dico_corpus, \"score_nuage_sale\", False)\n",
    "score_nuage_sale_recurrent = score_nuage(MLdf_tres_sale_recurrent, dico_corpus, \"score_nuage_sale_recurrent\", False)\n",
    "score_nuage_sale_recurrent_date = score_nuage(MLdf_tres_sale_recurrent_date, dico_corpus, \"score_nuage_sale_recurrent_date\", False)"
   ]
  },
  {
   "cell_type": "code",
   "execution_count": 102,
   "metadata": {
    "collapsed": false,
    "scrolled": true
   },
   "outputs": [
    {
     "data": {
      "text/plain": [
       "{'141': 0.0,\n",
       " '18h08': 0.0,\n",
       " '18h12': 0.0,\n",
       " '19h08': 0.0,\n",
       " '20h50': 0.0,\n",
       " '55e': 0.0,\n",
       " '7assiette': 0.0,\n",
       " '85m': 0.0,\n",
       " '8h00': 0.0,\n",
       " 'acropolis': 0.0,\n",
       " 'approvissionner': 0.0,\n",
       " 'arnaquers': 0.0,\n",
       " 'asseptisée': 0.0,\n",
       " 'aus': 0.0,\n",
       " 'berné': 0.0,\n",
       " 'bouchéees': 0.0,\n",
       " 'bredouillait': 0.0,\n",
       " 'brf': 0.0,\n",
       " 'brusqué': 0.0,\n",
       " 'cappucccino': 0.0,\n",
       " 'carie': 0.0,\n",
       " 'cognaient': 0.0,\n",
       " 'coloris': 0.0,\n",
       " 'comci': 0.0,\n",
       " 'commercialise': 0.0,\n",
       " 'consommais': 0.0,\n",
       " 'cosmopolites': 0.0,\n",
       " 'coutumières': 0.0,\n",
       " 'crachent': 0.0,\n",
       " 'cramee': 0.0,\n",
       " 'cristalline': 0.0,\n",
       " 'dessèché': 0.0,\n",
       " 'deuxiême': 0.0,\n",
       " 'disputant': 0.0,\n",
       " 'duxelle': 0.0,\n",
       " 'dégoutantes': 0.0,\n",
       " 'démissionner': 0.0,\n",
       " 'désertés': 0.0,\n",
       " 'enduites': 0.0,\n",
       " 'epaisse': 0.0,\n",
       " 'esclandre': 0.0,\n",
       " 'estebetch': 0.0,\n",
       " 'exaspérantes': 0.0,\n",
       " 'explicité': 0.0,\n",
       " 'fouchtra': 0.0,\n",
       " 'glacials': 0.0,\n",
       " 'glacon': 0.0,\n",
       " 'gratinė': 0.0,\n",
       " 'grisonnante': 0.0,\n",
       " 'grossièreté': 0.0,\n",
       " 'gueulant': 0.0,\n",
       " 'gênées': 0.0,\n",
       " 'h15': 0.0,\n",
       " 'harvard': 0.0,\n",
       " 'heeuuuu': 0.0,\n",
       " 'illustrant': 0.0,\n",
       " 'illégale': 0.0,\n",
       " 'imbeciles': 0.0,\n",
       " 'inexpérimentés': 0.0,\n",
       " 'infichu': 0.0,\n",
       " 'karaokés': 0.0,\n",
       " 'lacunaire': 0.0,\n",
       " 'legislation': 0.0,\n",
       " 'malheuresment': 0.0,\n",
       " 'mediocres': 0.0,\n",
       " 'menants': 0.0,\n",
       " 'mensonger': 0.0,\n",
       " 'mjc': 0.0,\n",
       " 'mélancolique': 0.0,\n",
       " 'mûriers': 0.0,\n",
       " 'osiez': 0.0,\n",
       " 'parutions': 0.0,\n",
       " 'patauger': 0.0,\n",
       " 'plantées': 0.0,\n",
       " 'ports': 0.0,\n",
       " 'promotionnelles': 0.0,\n",
       " 'proposerait': 0.0,\n",
       " 'prux': 0.0,\n",
       " 'préféreraient': 0.0,\n",
       " 'pucerons': 0.0,\n",
       " 'pénaliser': 0.0,\n",
       " 'qlqch': 0.0,\n",
       " 'rayonnante': 0.0,\n",
       " 'recompte': 0.0,\n",
       " 'recouper': 0.0,\n",
       " 'reginella': 0.0,\n",
       " 'regretterais': 0.0,\n",
       " 'relate': 0.0,\n",
       " 'requises': 0.0,\n",
       " 'situ': 0.0,\n",
       " 'sulky': 0.0,\n",
       " 'tamiser': 0.0,\n",
       " 'trista': 0.0,\n",
       " 'trées': 0.0,\n",
       " 'urticaire': 0.0,\n",
       " 'zadig': 0.0,\n",
       " 'élevages': 0.0,\n",
       " 'épargnée': 0.0,\n",
       " 'équivaut': 0.0,\n",
       " 'étang': 0.0}"
      ]
     },
     "execution_count": 102,
     "metadata": {},
     "output_type": "execute_result"
    }
   ],
   "source": [
    "score_nuage_sale"
   ]
  },
  {
   "cell_type": "code",
   "execution_count": 103,
   "metadata": {
    "collapsed": false,
    "scrolled": true
   },
   "outputs": [
    {
     "data": {
      "text/plain": [
       "{'0705': 0.0,\n",
       " '141': 0.0,\n",
       " '18h08': 0.0,\n",
       " '18h12': 0.0,\n",
       " '20h50': 0.0,\n",
       " '55e': 0.0,\n",
       " '80euro': 0.0,\n",
       " '8h00': 0.0,\n",
       " 'accessit': 0.0,\n",
       " 'additionnant': 0.0,\n",
       " 'ameuter': 0.0,\n",
       " 'anarquer': 0.0,\n",
       " 'annihile': 0.0,\n",
       " 'anticiperez': 0.0,\n",
       " 'balustrades': 0.0,\n",
       " 'bouygues': 0.0,\n",
       " 'bredouillait': 0.0,\n",
       " 'briefé': 0.0,\n",
       " 'candide': 0.0,\n",
       " 'cappucccino': 0.0,\n",
       " 'caramels': 0.0,\n",
       " 'changerai': 0.0,\n",
       " 'choppé': 0.0,\n",
       " 'cognaient': 0.0,\n",
       " 'collectif': 0.0,\n",
       " 'coloris': 0.0,\n",
       " 'conservés': 0.0,\n",
       " 'cosmopolites': 0.0,\n",
       " 'coutumières': 0.0,\n",
       " 'disputant': 0.0,\n",
       " 'dodos': 0.0,\n",
       " 'dormaient': 0.0,\n",
       " 'duxelle': 0.0,\n",
       " 'dégoutantes': 0.0,\n",
       " 'démente': 0.0,\n",
       " 'déplus': 0.0,\n",
       " 'détergents': 0.0,\n",
       " 'déterminent': 0.0,\n",
       " 'dürüm': 0.0,\n",
       " 'echoppe': 0.0,\n",
       " 'egt': 0.0,\n",
       " 'enviedevomir': 0.0,\n",
       " 'epaisse': 0.0,\n",
       " 'estebetch': 0.0,\n",
       " 'exclure': 0.0,\n",
       " 'existions': 0.0,\n",
       " 'frendly': 0.0,\n",
       " 'gagnées': 0.0,\n",
       " 'genous': 0.0,\n",
       " 'glacials': 0.0,\n",
       " 'glacon': 0.0,\n",
       " 'grisé': 0.0,\n",
       " 'grâtiné': 0.0,\n",
       " 'h15': 0.0,\n",
       " 'hadès': 0.0,\n",
       " 'harvard': 0.0,\n",
       " 'heeuuuu': 0.0,\n",
       " 'imbeciles': 0.0,\n",
       " 'inattentionné': 0.0,\n",
       " 'infichu': 0.0,\n",
       " 'injonction': 0.0,\n",
       " 'insimpides': 0.0,\n",
       " 'invoqué': 0.0,\n",
       " 'jérusalem': 0.0,\n",
       " 'lacunaire': 0.0,\n",
       " 'marnière': 0.0,\n",
       " 'mjc': 0.0,\n",
       " 'mûriers': 0.0,\n",
       " 'nie': 0.0,\n",
       " 'notifiés': 0.0,\n",
       " 'notrre': 0.0,\n",
       " 'obligeant': 0.0,\n",
       " 'opacité': 0.0,\n",
       " 'patauger': 0.0,\n",
       " 'pompeï': 0.0,\n",
       " 'positf': 0.0,\n",
       " 'proposerait': 0.0,\n",
       " 'prux': 0.0,\n",
       " 'préféreraient': 0.0,\n",
       " 'pénaliser': 0.0,\n",
       " 'qqn': 0.0,\n",
       " 'raisonnent': 0.0,\n",
       " 'regretterais': 0.0,\n",
       " 'relate': 0.0,\n",
       " 'reluisantes': 0.0,\n",
       " 'remplacee': 0.0,\n",
       " 'repoussants': 0.0,\n",
       " 'resé': 0.0,\n",
       " 'réassortiment': 0.0,\n",
       " 'soûlée': 0.0,\n",
       " 'sulky': 0.0,\n",
       " 'surfries': 0.0,\n",
       " 'surgélateur': 0.0,\n",
       " 'transparaît': 0.0,\n",
       " 'urgencies': 0.0,\n",
       " 'volés': 0.0,\n",
       " 'égouttait': 0.0,\n",
       " 'élevages': 0.0,\n",
       " 'épargnée': 0.0,\n",
       " 'équivaut': 0.0}"
      ]
     },
     "execution_count": 103,
     "metadata": {},
     "output_type": "execute_result"
    }
   ],
   "source": [
    "score_nuage_sale_recurrent"
   ]
  },
  {
   "cell_type": "code",
   "execution_count": 104,
   "metadata": {
    "collapsed": false,
    "scrolled": true
   },
   "outputs": [
    {
     "data": {
      "text/plain": [
       "{'0': -4.276666119016055,\n",
       " '17': -5.820082930352362,\n",
       " '18': -5.958424693029782,\n",
       " '60': -5.327876168789581,\n",
       " '90': -6.030685260261263,\n",
       " 'arrêtés': -4.983606621708336,\n",
       " 'aubergine': -4.727387818712341,\n",
       " 'aucunement': -3.044522437723423,\n",
       " 'blazés': 0.0,\n",
       " 'bouger': -3.8066624897703196,\n",
       " 'bouteilles': -5.41610040220442,\n",
       " 'brulé': -3.044522437723423,\n",
       " 'bruno': -2.9444389791664407,\n",
       " 'catastrophe': -4.718498871295094,\n",
       " 'champignons': -5.680172609017068,\n",
       " 'changer': -5.973809611869261,\n",
       " 'chercher': -5.497168225293202,\n",
       " 'coca': -4.7535901911063645,\n",
       " 'comparable': -3.332204510175204,\n",
       " 'connaissons': -4.248495242049359,\n",
       " 'coquillages': -4.174387269895637,\n",
       " 'croûtes': -0.6931471805599453,\n",
       " 'cru': -5.537334267018537,\n",
       " 'différentes': -5.955837369464831,\n",
       " 'doit': -6.075346031088684,\n",
       " 'décongelés': -2.9444389791664407,\n",
       " 'désagréables': -4.736198448394496,\n",
       " 'détrempée': -1.791759469228055,\n",
       " 'dû': -5.8522024797744745,\n",
       " 'entrecôte': -6.05443934626937,\n",
       " 'environ': -6.113682179832232,\n",
       " 'eviter': -4.394449154672439,\n",
       " 'exception': -5.356586274672012,\n",
       " 'exceptions': -2.3025850929940455,\n",
       " 'facturation': -2.5649493574615367,\n",
       " 'facturées': -1.791759469228055,\n",
       " 'fallait': -5.308267697401205,\n",
       " 'feuille': -5.0875963352323845,\n",
       " 'fini': -5.730099782973574,\n",
       " 'fraiches': -4.882801922586371,\n",
       " 'fraîches': -5.631211781821365,\n",
       " 'fruit': -5.652489180268651,\n",
       " 'goûteuse': -6.0063531596017325,\n",
       " 'gâchée': -3.1354942159291497,\n",
       " 'heures': -6.198478716492308,\n",
       " 'impolis': -2.1972245773362196,\n",
       " 'infecte': -4.060443010546419,\n",
       " 'infectes': -1.0986122886681098,\n",
       " 'interminable': -4.605170185988091,\n",
       " 'jambon': -6.061456918928017,\n",
       " 'jetais': -1.3862943611198906,\n",
       " 'laisser': -5.831882477283517,\n",
       " 'lardons': -3.951243718581427,\n",
       " 'livré': -3.8066624897703196,\n",
       " 'luné': -1.3862943611198906,\n",
       " 'lyon': -5.424950017481403,\n",
       " 'makis': -5.303304908059076,\n",
       " 'malades': -3.367295829986474,\n",
       " 'mari': -5.8111409929767,\n",
       " 'mots': -4.890349128221754,\n",
       " 'noix': -5.666426688112432,\n",
       " 'nori': -1.6094379124341003,\n",
       " 'ouvrier': -2.995732273553991,\n",
       " 'parmigiana': -2.3978952727983707,\n",
       " 'paye': -5.988961416889864,\n",
       " 'payer': -6.102558594613569,\n",
       " 'pizzeria': -6.023447592961032,\n",
       " 'placés': -5.170483995038151,\n",
       " 'plastique': -4.875197323201151,\n",
       " 'prenez': -5.537334267018537,\n",
       " 'pressés': -5.14166355650266,\n",
       " 'principal': -5.707110264748875,\n",
       " 'prise': -6.192362489474872,\n",
       " 'présentable': -1.3862943611198906,\n",
       " 'puisque': -5.389071729816501,\n",
       " 'quelconques': -4.718498871295094,\n",
       " 'reblochon': -2.70805020110221,\n",
       " 'reine': -3.4657359027997265,\n",
       " 'reprise': -3.828641396489095,\n",
       " 'reprises': -5.631211781821365,\n",
       " 'ressemble': -5.2832037287379885,\n",
       " 'romantique': -5.583496308781699,\n",
       " 'réputation': -5.765191102784844,\n",
       " 'saignante': -4.442651256490317,\n",
       " 'salés': -4.990432586778736,\n",
       " 'scandale': -3.8066624897703196,\n",
       " 'sept': -3.4011973816621555,\n",
       " 'servies': -6.025865973825314,\n",
       " 'sincèrement': -4.532599493153256,\n",
       " 'sortant': -5.680172609017068,\n",
       " 'tombe': -4.584967478670572,\n",
       " 'touriste': -5.402677381872279,\n",
       " 'tranches': -5.0875963352323845,\n",
       " 'valu': -2.0794415416798357,\n",
       " 'venez': -5.455321115357702,\n",
       " 'ventre': -5.030437921392435,\n",
       " 'vomis': -1.3862943611198906,\n",
       " 'écoeurante': -2.995732273553991,\n",
       " 'élysées': -4.709530201312334,\n",
       " 'évian': -1.6094379124341003}"
      ]
     },
     "execution_count": 104,
     "metadata": {},
     "output_type": "execute_result"
    }
   ],
   "source": [
    "score_nuage_sale_recurrent_date"
   ]
  },
  {
   "cell_type": "code",
   "execution_count": 111,
   "metadata": {
    "collapsed": false
   },
   "outputs": [
    {
     "name": "stdout",
     "output_type": "stream",
     "text": [
      "Base de données: (85897, 15) ==> df\n",
      "Mots clés et note de commentaire: (1, 16) ==> df_tres_sale\n",
      "Restaurants potentiellement sales: 1\n",
      "Restaurants récurrent: (0, 16) ==> df_tres_sale_recurrent\n",
      "Restaurants potentiellement sales: 0\n",
      "Date commentaires proche: (0, 16) ==> df_tres_sale_recurrent_date\n",
      "Restaurants potentiellement sales: 0\n"
     ]
    },
    {
     "data": {
      "text/html": [
       "<div>\n",
       "<table border=\"1\" class=\"dataframe\">\n",
       "  <thead>\n",
       "    <tr style=\"text-align: right;\">\n",
       "      <th></th>\n",
       "      <th>Adresse</th>\n",
       "      <th>Code Postal</th>\n",
       "      <th>Commentaire</th>\n",
       "      <th>Date du commentaire</th>\n",
       "      <th>Note</th>\n",
       "      <th>Origine</th>\n",
       "      <th>Resto</th>\n",
       "      <th>Ville</th>\n",
       "      <th>Id</th>\n",
       "      <th>Date</th>\n",
       "      <th>Note_hyg</th>\n",
       "      <th>Note_resto</th>\n",
       "      <th>Note_hygiène_resto</th>\n",
       "      <th>Variance_note_resto</th>\n",
       "      <th>Variance_note_hygiène_resto</th>\n",
       "      <th>Id_resto</th>\n",
       "    </tr>\n",
       "  </thead>\n",
       "  <tbody>\n",
       "  </tbody>\n",
       "</table>\n",
       "</div>"
      ],
      "text/plain": [
       "Empty DataFrame\n",
       "Columns: [Adresse, Code Postal, Commentaire, Date du commentaire, Note, Origine, Resto, Ville, Id, Date, Note_hyg, Note_resto, Note_hygiène_resto, Variance_note_resto, Variance_note_hygiène_resto, Id_resto]\n",
       "Index: []"
      ]
     },
     "execution_count": 111,
     "metadata": {},
     "output_type": "execute_result"
    }
   ],
   "source": [
    "nos_mots_sales = [\"marnière\"]\n",
    "a, b, c, liste1, liste2 = fonction_filtre_resto(nos_mots_sales, stem=False)\n",
    "c"
   ]
  },
  {
   "cell_type": "code",
   "execution_count": 113,
   "metadata": {
    "collapsed": false
   },
   "outputs": [
    {
     "name": "stdout",
     "output_type": "stream",
     "text": [
      "Franchement c'est pas bon et cher. On a mangé moules marnière et gaufres au chocolat. Les moules sont mal assaisonnées, et le dessert est total industriel. L'ensemble est sans intérêt. Le service est zéro, les serveurs courent tout le temps, résultat une impression de déranger. Le pompon, on a été malade toute la nuit, genre intoxication alimentaire. Alors pour moi,...\n"
     ]
    }
   ],
   "source": [
    "for i in a.Commentaire:\n",
    "    print(i)"
   ]
  },
  {
   "cell_type": "code",
   "execution_count": 114,
   "metadata": {
    "collapsed": false
   },
   "outputs": [
    {
     "name": "stdout",
     "output_type": "stream",
     "text": [
      "Base de données: (85897, 15) ==> df\n",
      "Mots clés et note de commentaire: (1, 16) ==> df_tres_sale\n",
      "Restaurants potentiellement sales: 1\n",
      "Restaurants récurrent: (0, 16) ==> df_tres_sale_recurrent\n",
      "Restaurants potentiellement sales: 0\n",
      "Date commentaires proche: (0, 16) ==> df_tres_sale_recurrent_date\n",
      "Restaurants potentiellement sales: 0\n"
     ]
    },
    {
     "data": {
      "text/html": [
       "<div>\n",
       "<table border=\"1\" class=\"dataframe\">\n",
       "  <thead>\n",
       "    <tr style=\"text-align: right;\">\n",
       "      <th></th>\n",
       "      <th>Adresse</th>\n",
       "      <th>Code Postal</th>\n",
       "      <th>Commentaire</th>\n",
       "      <th>Date du commentaire</th>\n",
       "      <th>Note</th>\n",
       "      <th>Origine</th>\n",
       "      <th>Resto</th>\n",
       "      <th>Ville</th>\n",
       "      <th>Id</th>\n",
       "      <th>Date</th>\n",
       "      <th>Note_hyg</th>\n",
       "      <th>Note_resto</th>\n",
       "      <th>Note_hygiène_resto</th>\n",
       "      <th>Variance_note_resto</th>\n",
       "      <th>Variance_note_hygiène_resto</th>\n",
       "      <th>Id_resto</th>\n",
       "    </tr>\n",
       "  </thead>\n",
       "  <tbody>\n",
       "  </tbody>\n",
       "</table>\n",
       "</div>"
      ],
      "text/plain": [
       "Empty DataFrame\n",
       "Columns: [Adresse, Code Postal, Commentaire, Date du commentaire, Note, Origine, Resto, Ville, Id, Date, Note_hyg, Note_resto, Note_hygiène_resto, Variance_note_resto, Variance_note_hygiène_resto, Id_resto]\n",
       "Index: []"
      ]
     },
     "execution_count": 114,
     "metadata": {},
     "output_type": "execute_result"
    }
   ],
   "source": [
    "nos_mots_sales = [\"commissariat\"]\n",
    "a, b, c, liste1, liste2 = fonction_filtre_resto(nos_mots_sales, stem=False)\n",
    "c"
   ]
  },
  {
   "cell_type": "code",
   "execution_count": 115,
   "metadata": {
    "collapsed": false
   },
   "outputs": [
    {
     "name": "stdout",
     "output_type": "stream",
     "text": [
      "....écrevisse sauce nantua = grave intoxication alimentaire.... Avec perte de connaissance dans la rue.... Heureusement à 2 pas d'un commissariat.... Sans commentaires\n"
     ]
    }
   ],
   "source": [
    "for i in a.Commentaire:\n",
    "    print(i)"
   ]
  },
  {
   "cell_type": "code",
   "execution_count": null,
   "metadata": {
    "collapsed": true
   },
   "outputs": [],
   "source": []
  },
  {
   "cell_type": "markdown",
   "metadata": {},
   "source": [
    "On sélectionne les restaurants avec une liste de mots clés faite main pour comparer."
   ]
  },
  {
   "cell_type": "code",
   "execution_count": null,
   "metadata": {
    "collapsed": true
   },
   "outputs": [],
   "source": []
  },
  {
   "cell_type": "code",
   "execution_count": null,
   "metadata": {
    "collapsed": true
   },
   "outputs": [],
   "source": []
  },
  {
   "cell_type": "markdown",
   "metadata": {},
   "source": [
    "On récupère les adresses de nos pires restaurants."
   ]
  },
  {
   "cell_type": "code",
   "execution_count": null,
   "metadata": {
    "collapsed": true
   },
   "outputs": [],
   "source": []
  },
  {
   "cell_type": "code",
   "execution_count": null,
   "metadata": {
    "collapsed": true
   },
   "outputs": [],
   "source": []
  },
  {
   "cell_type": "code",
   "execution_count": null,
   "metadata": {
    "collapsed": true
   },
   "outputs": [],
   "source": []
  },
  {
   "cell_type": "code",
   "execution_count": null,
   "metadata": {
    "collapsed": true
   },
   "outputs": [],
   "source": []
  },
  {
   "cell_type": "code",
   "execution_count": null,
   "metadata": {
    "collapsed": true
   },
   "outputs": [],
   "source": []
  },
  {
   "cell_type": "code",
   "execution_count": null,
   "metadata": {
    "collapsed": true
   },
   "outputs": [],
   "source": []
  },
  {
   "cell_type": "code",
   "execution_count": null,
   "metadata": {
    "collapsed": true
   },
   "outputs": [],
   "source": []
  },
  {
   "cell_type": "code",
   "execution_count": null,
   "metadata": {
    "collapsed": true
   },
   "outputs": [],
   "source": []
  },
  {
   "cell_type": "code",
   "execution_count": null,
   "metadata": {
    "collapsed": true
   },
   "outputs": [],
   "source": []
  },
  {
   "cell_type": "code",
   "execution_count": null,
   "metadata": {
    "collapsed": true
   },
   "outputs": [],
   "source": []
  }
 ],
 "metadata": {
  "kernelspec": {
   "display_name": "Python [Root]",
   "language": "python",
   "name": "Python [Root]"
  },
  "language_info": {
   "codemirror_mode": {
    "name": "ipython",
    "version": 3
   },
   "file_extension": ".py",
   "mimetype": "text/x-python",
   "name": "python",
   "nbconvert_exporter": "python",
   "pygments_lexer": "ipython3",
   "version": "3.5.1"
  }
 },
 "nbformat": 4,
 "nbformat_minor": 0
}

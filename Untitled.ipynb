{
 "cells": [
  {
   "cell_type": "code",
   "execution_count": 1,
   "metadata": {
    "collapsed": false
   },
   "outputs": [
    {
     "name": "stdout",
     "output_type": "stream",
     "text": [
      "Populating the interactive namespace from numpy and matplotlib\n"
     ]
    }
   ],
   "source": [
    "%pylab inline"
   ]
  },
  {
   "cell_type": "code",
   "execution_count": 30,
   "metadata": {
    "collapsed": true
   },
   "outputs": [],
   "source": [
    "import pandas as pd\n",
    "import glob\n",
    "import os\n",
    "from docx import Document\n",
    "from collections import Counter\n",
    "import html2text\n",
    "import goslate\n",
    "from textblob.blob import TextBlob\n",
    "import time"
   ]
  },
  {
   "cell_type": "code",
   "execution_count": 3,
   "metadata": {
    "collapsed": false
   },
   "outputs": [],
   "source": [
    "path_files = glob.glob('Rapports publics de la Cour et mВtadonnВes - 2015/*')\n",
    "df = pd.read_csv('export.csv', sep = '\\t')"
   ]
  },
  {
   "cell_type": "code",
   "execution_count": 4,
   "metadata": {
    "collapsed": false
   },
   "outputs": [
    {
     "data": {
      "text/plain": [
       "'jf00151796.html'"
      ]
     },
     "execution_count": 4,
     "metadata": {},
     "output_type": "execute_result"
    }
   ],
   "source": [
    "df['Texte int\\xe9gral'][0]"
   ]
  },
  {
   "cell_type": "code",
   "execution_count": 5,
   "metadata": {
    "collapsed": false
   },
   "outputs": [
    {
     "data": {
      "text/plain": [
       "'Rapports publics de la Cour et m\\xd0\\x92tadonn\\xd0\\x92es - 2015/jf00147846.html'"
      ]
     },
     "execution_count": 5,
     "metadata": {},
     "output_type": "execute_result"
    }
   ],
   "source": [
    "path_files[0]"
   ]
  },
  {
   "cell_type": "code",
   "execution_count": 6,
   "metadata": {
    "collapsed": false
   },
   "outputs": [],
   "source": [
    "df.text = df['Texte int\\xe9gral'].apply(lambda row: 'Rapports publics de la Cour et m\\xd0\\x92tadonn\\xd0\\x92es - 2015/'+str(row))"
   ]
  },
  {
   "cell_type": "code",
   "execution_count": 7,
   "metadata": {
    "collapsed": false
   },
   "outputs": [
    {
     "data": {
      "text/plain": [
       "'Rapports publics de la Cour et m\\xd0\\x92tadonn\\xd0\\x92es - 2015/jf00151796.html'"
      ]
     },
     "execution_count": 7,
     "metadata": {},
     "output_type": "execute_result"
    }
   ],
   "source": [
    "df.text[0]"
   ]
  },
  {
   "cell_type": "code",
   "execution_count": 11,
   "metadata": {
    "collapsed": false
   },
   "outputs": [],
   "source": [
    "html = open(path_files[0]).read()\n",
    "text = html2text.html2text(html).replace('\\n', ' ')\n",
    "words = text.replace(',', ' ').replace('.', ' ').split()"
   ]
  },
  {
   "cell_type": "code",
   "execution_count": 13,
   "metadata": {
    "collapsed": false
   },
   "outputs": [
    {
     "data": {
      "text/plain": [
       "[u'En', u'application', u'de']"
      ]
     },
     "execution_count": 13,
     "metadata": {},
     "output_type": "execute_result"
    }
   ],
   "source": [
    "words[0:3]"
   ]
  },
  {
   "cell_type": "code",
   "execution_count": 15,
   "metadata": {
    "collapsed": true
   },
   "outputs": [],
   "source": [
    "gs = goslate.Goslate()"
   ]
  },
  {
   "cell_type": "code",
   "execution_count": 27,
   "metadata": {
    "collapsed": false
   },
   "outputs": [],
   "source": [
    "#print(gs.translate('La formation continue, avant tout conçue comme un vecteur de mise en œuvre des réformes pédagogiques', 'en'))"
   ]
  },
  {
   "cell_type": "code",
   "execution_count": 28,
   "metadata": {
    "collapsed": false
   },
   "outputs": [
    {
     "data": {
      "text/plain": [
       "TextBlob(\"Continuing education, primarily designed as an implementation vehicle for educational reform, is not used by the department as a human resources management lever: both the administrative organization that deprivations in the evaluation the needs of teachers and in monitoring the training course are obstacles.\")"
      ]
     },
     "execution_count": 28,
     "metadata": {},
     "output_type": "execute_result"
    }
   ],
   "source": [
    "en_blob = TextBlob(u'La formation continue, avant tout conçue comme un vecteur de mise en œuvre des réformes pédagogiques, n’est pas utilisée par le ministère comme un levier de gestion des ressources humaines : aussi bien l’organisation administrative, que les manques constatés dans l’évaluation des besoins des enseignants et dans le suivi du parcours de formation y font obstacle.')\n",
    "a = en_blob.translate(to='en')\n",
    "a"
   ]
  },
  {
   "cell_type": "code",
   "execution_count": 31,
   "metadata": {
    "collapsed": false
   },
   "outputs": [
    {
     "name": "stdout",
     "output_type": "stream",
     "text": [
      "0.89905500412\n"
     ]
    }
   ],
   "source": [
    "start = time.time()\n",
    "text_blob = TextBlob(text)\n",
    "a = text_blob.translate(to='en')\n",
    "print(time.time() - start)"
   ]
  },
  {
   "cell_type": "code",
   "execution_count": 35,
   "metadata": {
    "collapsed": false
   },
   "outputs": [
    {
     "name": "stdout",
     "output_type": "stream",
     "text": [
      "0.0613970756531\n"
     ]
    }
   ],
   "source": [
    "start = time.time()\n",
    "b = a.sentiment\n",
    "print(time.time() - start)"
   ]
  },
  {
   "cell_type": "code",
   "execution_count": 36,
   "metadata": {
    "collapsed": false
   },
   "outputs": [
    {
     "data": {
      "text/plain": [
       "Sentiment(polarity=0.09166311688311693, subjectivity=0.3976305727605727)"
      ]
     },
     "execution_count": 36,
     "metadata": {},
     "output_type": "execute_result"
    }
   ],
   "source": [
    "b"
   ]
  },
  {
   "cell_type": "code",
   "execution_count": 62,
   "metadata": {
    "collapsed": true
   },
   "outputs": [],
   "source": [
    "def get_sentiment_french(text):\n",
    "    \n",
    "    # Read html\n",
    "    html = open(text).read()\n",
    "    text = html2text.html2text(html).replace('\\n', ' ')\n",
    "    \n",
    "    # Use TextBlob to translate it and measure subjectivity & polarity\n",
    "    text_blob = TextBlob(text)\n",
    "    #english_text = text_blob.translate(to='en')\n",
    "    sentiment = text_blob.sentiment\n",
    "    \n",
    "    return sentiment"
   ]
  },
  {
   "cell_type": "code",
   "execution_count": 63,
   "metadata": {
    "collapsed": false
   },
   "outputs": [],
   "source": [
    "sentiments_french = []\n",
    "for i in range(0, len(path_files)):\n",
    "    a = get_sentiment_french(path_files[i])\n",
    "    sentiments_french.append([i, a[0], a[1]])"
   ]
  },
  {
   "cell_type": "code",
   "execution_count": 59,
   "metadata": {
    "collapsed": false
   },
   "outputs": [
    {
     "data": {
      "text/plain": [
       "[[43, -0.17958002645502638, 0.5244047619047618],\n",
       " [92, -0.14239803544736285, 0.6055092889173609],\n",
       " [5, -0.14203102453102437, 0.5233766233766233],\n",
       " [48, -0.14054035934566916, 0.5503495766770103],\n",
       " [74, -0.13655303030303034, 0.4431818181818182],\n",
       " [79, -0.13233590733590736, 0.5959459459459459],\n",
       " [31, -0.13149991983325315, 0.5450368767035434],\n",
       " [1, -0.11507335257335256, 0.3891855058521725],\n",
       " [6, -0.09745960884353747, 0.464306972789116],\n",
       " [47, -0.09452220077220083, 0.6053732303732305]]"
      ]
     },
     "execution_count": 59,
     "metadata": {},
     "output_type": "execute_result"
    }
   ],
   "source": [
    "sentiments_french.sort(key = lambda row: row[1])\n",
    "sentiments_french[0:10]"
   ]
  },
  {
   "cell_type": "code",
   "execution_count": 64,
   "metadata": {
    "collapsed": true
   },
   "outputs": [],
   "source": [
    "def get_sentiment_english(text):\n",
    "    \n",
    "    # Read html\n",
    "    html = open(text).read()\n",
    "    text = html2text.html2text(html).replace('\\n', ' ')\n",
    "    \n",
    "    # Use TextBlob to translate it and measure subjectivity & polarity\n",
    "    text_blob = TextBlob(text)\n",
    "    english_text = text_blob.translate(to='en')\n",
    "    sentiment = english_text.sentiment\n",
    "    \n",
    "    return sentiment"
   ]
  },
  {
   "cell_type": "code",
   "execution_count": 65,
   "metadata": {
    "collapsed": true
   },
   "outputs": [],
   "source": [
    "sentiments_english = []\n",
    "for i in range(0, len(path_files)):\n",
    "    a = get_sentiment_english(path_files[i])\n",
    "    sentiments_english.append([i, a[0], a[1]])"
   ]
  },
  {
   "cell_type": "code",
   "execution_count": 66,
   "metadata": {
    "collapsed": false
   },
   "outputs": [
    {
     "data": {
      "text/plain": [
       "[[12, -0.0068722078736183296, 0.45558661875657613],\n",
       " [92, 0.005191052333909466, 0.4165099054384766],\n",
       " [32, 0.0077489406779661, 0.38145182148360085],\n",
       " [22, 0.008782821743546785, 0.4487484687182571],\n",
       " [70, 0.01086676462223903, 0.3755264796031214],\n",
       " [38, 0.012611942778251789, 0.36887440349350203],\n",
       " [37, 0.01601183063511832, 0.38163760896637616],\n",
       " [44, 0.02102455070223, 0.3385271546431893],\n",
       " [77, 0.022670392853617688, 0.458885804748997],\n",
       " [68, 0.023854256854256992, 0.40571805194805155]]"
      ]
     },
     "execution_count": 66,
     "metadata": {},
     "output_type": "execute_result"
    }
   ],
   "source": [
    "sentiments_english.sort(key = lambda row: row[1])\n",
    "sentiments_english[0:10]"
   ]
  },
  {
   "cell_type": "code",
   "execution_count": 67,
   "metadata": {
    "collapsed": true
   },
   "outputs": [],
   "source": [
    "def get_sentiment_deutsch(text):\n",
    "    \n",
    "    # Read html\n",
    "    html = open(text).read()\n",
    "    text = html2text.html2text(html).replace('\\n', ' ')\n",
    "    \n",
    "    # Use TextBlob to translate it and measure subjectivity & polarity\n",
    "    text_blob = TextBlob(text)\n",
    "    deutsch_text = text_blob.translate(to='de')\n",
    "    sentiment = deutsch_text.sentiment\n",
    "    \n",
    "    return sentiment"
   ]
  },
  {
   "cell_type": "code",
   "execution_count": 71,
   "metadata": {
    "collapsed": false
   },
   "outputs": [
    {
     "name": "stdout",
     "output_type": "stream",
     "text": [
      "183.466787815\n"
     ]
    }
   ],
   "source": [
    "start = time.time()\n",
    "sentiments_deutsch = []\n",
    "for i in range(0, len(path_files)):\n",
    "    a = get_sentiment_deutsch(path_files[i])\n",
    "    sentiments_deutsch.append([i, a[0], a[1]])\n",
    "print(time.time() - start)"
   ]
  },
  {
   "cell_type": "code",
   "execution_count": 72,
   "metadata": {
    "collapsed": false
   },
   "outputs": [
    {
     "data": {
      "text/plain": [
       "[[11, -0.2916666666666667, 0.6666666666666666],\n",
       " [86, -0.2, 0.48],\n",
       " [37, -0.125, 0.5625],\n",
       " [58, -0.12083333333333335, 0.8666666666666666],\n",
       " [31, -0.11485081374321879, 0.5032248342374924],\n",
       " [5, -0.11070868786386014, 0.49499427775289845],\n",
       " [42, -0.1, 0.7777777777777778],\n",
       " [92, -0.09975446428571427, 0.5864583333333331],\n",
       " [48, -0.09875207097429319, 0.48543771043771045],\n",
       " [1, -0.08947767145135566, 0.42094364699627856]]"
      ]
     },
     "execution_count": 72,
     "metadata": {},
     "output_type": "execute_result"
    }
   ],
   "source": [
    "sentiments_deutsch.sort(key = lambda row: row[1])\n",
    "sentiments_deutsch[0:10]"
   ]
  },
  {
   "cell_type": "code",
   "execution_count": null,
   "metadata": {
    "collapsed": true
   },
   "outputs": [],
   "source": []
  }
 ],
 "metadata": {
  "kernelspec": {
   "display_name": "Python 2",
   "language": "python",
   "name": "python2"
  },
  "language_info": {
   "codemirror_mode": {
    "name": "ipython",
    "version": 2
   },
   "file_extension": ".py",
   "mimetype": "text/x-python",
   "name": "python",
   "nbconvert_exporter": "python",
   "pygments_lexer": "ipython2",
   "version": "2.7.11+"
  }
 },
 "nbformat": 4,
 "nbformat_minor": 0
}
